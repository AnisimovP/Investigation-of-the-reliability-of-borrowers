{
 "cells": [
  {
   "cell_type": "markdown",
   "id": "f5272074",
   "metadata": {},
   "source": [
    "# Исследование надежности заемщиков."
   ]
  },
  {
   "cell_type": "markdown",
   "id": "03e4f37f",
   "metadata": {},
   "source": [
    "Заказчик — кредитный отдел банка. Нужно разобраться, влияет ли семейное положение и количество детей клиента на факт погашения кредита в срок. Входные данные от банка — статистика о платёжеспособности клиентов.\n",
    "\n",
    "Результаты исследования будут учтены при построении модели кредитного скоринга — специальной системы, которая оценивает способность потенциального заёмщика вернуть кредит банку."
   ]
  },
  {
   "cell_type": "markdown",
   "id": "0bf0d3cd",
   "metadata": {},
   "source": [
    "### Шаг 1. Обзор данных"
   ]
  },
  {
   "cell_type": "code",
   "execution_count": 1,
   "id": "d917406e",
   "metadata": {},
   "outputs": [],
   "source": [
    "import pandas as pd"
   ]
  },
  {
   "cell_type": "markdown",
   "id": "fe92203c",
   "metadata": {},
   "source": [
    "### Шаг 2.1 Заполнение пропусков"
   ]
  },
  {
   "cell_type": "code",
   "execution_count": 2,
   "id": "3777db30",
   "metadata": {
    "scrolled": true
   },
   "outputs": [
    {
     "name": "stdout",
     "output_type": "stream",
     "text": [
      "<class 'pandas.core.frame.DataFrame'>\n",
      "RangeIndex: 21525 entries, 0 to 21524\n",
      "Data columns (total 12 columns):\n",
      " #   Column            Non-Null Count  Dtype  \n",
      "---  ------            --------------  -----  \n",
      " 0   children          21525 non-null  int64  \n",
      " 1   days_employed     19351 non-null  float64\n",
      " 2   dob_years         21525 non-null  int64  \n",
      " 3   education         21525 non-null  object \n",
      " 4   education_id      21525 non-null  int64  \n",
      " 5   family_status     21525 non-null  object \n",
      " 6   family_status_id  21525 non-null  int64  \n",
      " 7   gender            21525 non-null  object \n",
      " 8   income_type       21525 non-null  object \n",
      " 9   debt              21525 non-null  int64  \n",
      " 10  total_income      19351 non-null  float64\n",
      " 11  purpose           21525 non-null  object \n",
      "dtypes: float64(2), int64(5), object(5)\n",
      "memory usage: 2.0+ MB\n"
     ]
    }
   ],
   "source": [
    "data = pd.read_csv('/datasets/data.csv')\n",
    "data.info()"
   ]
  },
  {
   "cell_type": "markdown",
   "id": "0bd7a7eb",
   "metadata": {},
   "source": [
    "В таблице 11 столбцов с разными типами данных: \"int64\", \"float64\", \"object\"\n",
    "\n",
    "Согласно документации к данным:\n",
    "* `children` — количество детей в семье\n",
    "* `days_employed` — общий трудовой стаж в днях\n",
    "* `dob_years` — возраст клиента в годах\n",
    "* `education` — уровень образования клиента\n",
    "* `education_id` — идентификатор уровня образования\n",
    "* `family_status` — семейное положение\n",
    "* `family_status_id` — идентификатор семейного положения\n",
    "* `gender` — пол клиента\n",
    "* `income_type` — тип занятости\n",
    "* `debt` — имел ли задолженность по возврату кредитов\n",
    "* `total_income` — ежемесячный доход\n",
    "* `purpose` — цель получения кредита\n",
    "\n",
    "В двух столбцах \"days_employed\" и \"total_income\" существуют пропуски данных, а именно \"общий трудовой стаж в днях\" и \"ежемесячный доход\" соответственно."
   ]
  },
  {
   "cell_type": "code",
   "execution_count": 3,
   "id": "7b6382a6",
   "metadata": {
    "scrolled": false
   },
   "outputs": [
    {
     "data": {
      "text/html": [
       "<div>\n",
       "<style scoped>\n",
       "    .dataframe tbody tr th:only-of-type {\n",
       "        vertical-align: middle;\n",
       "    }\n",
       "\n",
       "    .dataframe tbody tr th {\n",
       "        vertical-align: top;\n",
       "    }\n",
       "\n",
       "    .dataframe thead th {\n",
       "        text-align: right;\n",
       "    }\n",
       "</style>\n",
       "<table border=\"1\" class=\"dataframe\">\n",
       "  <thead>\n",
       "    <tr style=\"text-align: right;\">\n",
       "      <th></th>\n",
       "      <th>children</th>\n",
       "      <th>days_employed</th>\n",
       "      <th>dob_years</th>\n",
       "      <th>education</th>\n",
       "      <th>education_id</th>\n",
       "      <th>family_status</th>\n",
       "      <th>family_status_id</th>\n",
       "      <th>gender</th>\n",
       "      <th>income_type</th>\n",
       "      <th>debt</th>\n",
       "      <th>total_income</th>\n",
       "      <th>purpose</th>\n",
       "    </tr>\n",
       "  </thead>\n",
       "  <tbody>\n",
       "    <tr>\n",
       "      <th>0</th>\n",
       "      <td>1</td>\n",
       "      <td>-8437.673028</td>\n",
       "      <td>42</td>\n",
       "      <td>высшее</td>\n",
       "      <td>0</td>\n",
       "      <td>женат / замужем</td>\n",
       "      <td>0</td>\n",
       "      <td>F</td>\n",
       "      <td>сотрудник</td>\n",
       "      <td>0</td>\n",
       "      <td>253875.639453</td>\n",
       "      <td>покупка жилья</td>\n",
       "    </tr>\n",
       "    <tr>\n",
       "      <th>1</th>\n",
       "      <td>1</td>\n",
       "      <td>-4024.803754</td>\n",
       "      <td>36</td>\n",
       "      <td>среднее</td>\n",
       "      <td>1</td>\n",
       "      <td>женат / замужем</td>\n",
       "      <td>0</td>\n",
       "      <td>F</td>\n",
       "      <td>сотрудник</td>\n",
       "      <td>0</td>\n",
       "      <td>112080.014102</td>\n",
       "      <td>приобретение автомобиля</td>\n",
       "    </tr>\n",
       "    <tr>\n",
       "      <th>2</th>\n",
       "      <td>0</td>\n",
       "      <td>-5623.422610</td>\n",
       "      <td>33</td>\n",
       "      <td>Среднее</td>\n",
       "      <td>1</td>\n",
       "      <td>женат / замужем</td>\n",
       "      <td>0</td>\n",
       "      <td>M</td>\n",
       "      <td>сотрудник</td>\n",
       "      <td>0</td>\n",
       "      <td>145885.952297</td>\n",
       "      <td>покупка жилья</td>\n",
       "    </tr>\n",
       "    <tr>\n",
       "      <th>3</th>\n",
       "      <td>3</td>\n",
       "      <td>-4124.747207</td>\n",
       "      <td>32</td>\n",
       "      <td>среднее</td>\n",
       "      <td>1</td>\n",
       "      <td>женат / замужем</td>\n",
       "      <td>0</td>\n",
       "      <td>M</td>\n",
       "      <td>сотрудник</td>\n",
       "      <td>0</td>\n",
       "      <td>267628.550329</td>\n",
       "      <td>дополнительное образование</td>\n",
       "    </tr>\n",
       "    <tr>\n",
       "      <th>4</th>\n",
       "      <td>0</td>\n",
       "      <td>340266.072047</td>\n",
       "      <td>53</td>\n",
       "      <td>среднее</td>\n",
       "      <td>1</td>\n",
       "      <td>гражданский брак</td>\n",
       "      <td>1</td>\n",
       "      <td>F</td>\n",
       "      <td>пенсионер</td>\n",
       "      <td>0</td>\n",
       "      <td>158616.077870</td>\n",
       "      <td>сыграть свадьбу</td>\n",
       "    </tr>\n",
       "    <tr>\n",
       "      <th>5</th>\n",
       "      <td>0</td>\n",
       "      <td>-926.185831</td>\n",
       "      <td>27</td>\n",
       "      <td>высшее</td>\n",
       "      <td>0</td>\n",
       "      <td>гражданский брак</td>\n",
       "      <td>1</td>\n",
       "      <td>M</td>\n",
       "      <td>компаньон</td>\n",
       "      <td>0</td>\n",
       "      <td>255763.565419</td>\n",
       "      <td>покупка жилья</td>\n",
       "    </tr>\n",
       "    <tr>\n",
       "      <th>6</th>\n",
       "      <td>0</td>\n",
       "      <td>-2879.202052</td>\n",
       "      <td>43</td>\n",
       "      <td>высшее</td>\n",
       "      <td>0</td>\n",
       "      <td>женат / замужем</td>\n",
       "      <td>0</td>\n",
       "      <td>F</td>\n",
       "      <td>компаньон</td>\n",
       "      <td>0</td>\n",
       "      <td>240525.971920</td>\n",
       "      <td>операции с жильем</td>\n",
       "    </tr>\n",
       "    <tr>\n",
       "      <th>7</th>\n",
       "      <td>0</td>\n",
       "      <td>-152.779569</td>\n",
       "      <td>50</td>\n",
       "      <td>СРЕДНЕЕ</td>\n",
       "      <td>1</td>\n",
       "      <td>женат / замужем</td>\n",
       "      <td>0</td>\n",
       "      <td>M</td>\n",
       "      <td>сотрудник</td>\n",
       "      <td>0</td>\n",
       "      <td>135823.934197</td>\n",
       "      <td>образование</td>\n",
       "    </tr>\n",
       "    <tr>\n",
       "      <th>8</th>\n",
       "      <td>2</td>\n",
       "      <td>-6929.865299</td>\n",
       "      <td>35</td>\n",
       "      <td>ВЫСШЕЕ</td>\n",
       "      <td>0</td>\n",
       "      <td>гражданский брак</td>\n",
       "      <td>1</td>\n",
       "      <td>F</td>\n",
       "      <td>сотрудник</td>\n",
       "      <td>0</td>\n",
       "      <td>95856.832424</td>\n",
       "      <td>на проведение свадьбы</td>\n",
       "    </tr>\n",
       "    <tr>\n",
       "      <th>9</th>\n",
       "      <td>0</td>\n",
       "      <td>-2188.756445</td>\n",
       "      <td>41</td>\n",
       "      <td>среднее</td>\n",
       "      <td>1</td>\n",
       "      <td>женат / замужем</td>\n",
       "      <td>0</td>\n",
       "      <td>M</td>\n",
       "      <td>сотрудник</td>\n",
       "      <td>0</td>\n",
       "      <td>144425.938277</td>\n",
       "      <td>покупка жилья для семьи</td>\n",
       "    </tr>\n",
       "    <tr>\n",
       "      <th>10</th>\n",
       "      <td>2</td>\n",
       "      <td>-4171.483647</td>\n",
       "      <td>36</td>\n",
       "      <td>высшее</td>\n",
       "      <td>0</td>\n",
       "      <td>женат / замужем</td>\n",
       "      <td>0</td>\n",
       "      <td>M</td>\n",
       "      <td>компаньон</td>\n",
       "      <td>0</td>\n",
       "      <td>113943.491460</td>\n",
       "      <td>покупка недвижимости</td>\n",
       "    </tr>\n",
       "    <tr>\n",
       "      <th>11</th>\n",
       "      <td>0</td>\n",
       "      <td>-792.701887</td>\n",
       "      <td>40</td>\n",
       "      <td>среднее</td>\n",
       "      <td>1</td>\n",
       "      <td>женат / замужем</td>\n",
       "      <td>0</td>\n",
       "      <td>F</td>\n",
       "      <td>сотрудник</td>\n",
       "      <td>0</td>\n",
       "      <td>77069.234271</td>\n",
       "      <td>покупка коммерческой недвижимости</td>\n",
       "    </tr>\n",
       "    <tr>\n",
       "      <th>12</th>\n",
       "      <td>0</td>\n",
       "      <td>NaN</td>\n",
       "      <td>65</td>\n",
       "      <td>среднее</td>\n",
       "      <td>1</td>\n",
       "      <td>гражданский брак</td>\n",
       "      <td>1</td>\n",
       "      <td>M</td>\n",
       "      <td>пенсионер</td>\n",
       "      <td>0</td>\n",
       "      <td>NaN</td>\n",
       "      <td>сыграть свадьбу</td>\n",
       "    </tr>\n",
       "    <tr>\n",
       "      <th>13</th>\n",
       "      <td>0</td>\n",
       "      <td>-1846.641941</td>\n",
       "      <td>54</td>\n",
       "      <td>неоконченное высшее</td>\n",
       "      <td>2</td>\n",
       "      <td>женат / замужем</td>\n",
       "      <td>0</td>\n",
       "      <td>F</td>\n",
       "      <td>сотрудник</td>\n",
       "      <td>0</td>\n",
       "      <td>130458.228857</td>\n",
       "      <td>приобретение автомобиля</td>\n",
       "    </tr>\n",
       "    <tr>\n",
       "      <th>14</th>\n",
       "      <td>0</td>\n",
       "      <td>-1844.956182</td>\n",
       "      <td>56</td>\n",
       "      <td>высшее</td>\n",
       "      <td>0</td>\n",
       "      <td>гражданский брак</td>\n",
       "      <td>1</td>\n",
       "      <td>F</td>\n",
       "      <td>компаньон</td>\n",
       "      <td>1</td>\n",
       "      <td>165127.911772</td>\n",
       "      <td>покупка жилой недвижимости</td>\n",
       "    </tr>\n",
       "    <tr>\n",
       "      <th>15</th>\n",
       "      <td>1</td>\n",
       "      <td>-972.364419</td>\n",
       "      <td>26</td>\n",
       "      <td>среднее</td>\n",
       "      <td>1</td>\n",
       "      <td>женат / замужем</td>\n",
       "      <td>0</td>\n",
       "      <td>F</td>\n",
       "      <td>сотрудник</td>\n",
       "      <td>0</td>\n",
       "      <td>116820.904450</td>\n",
       "      <td>строительство собственной недвижимости</td>\n",
       "    </tr>\n",
       "    <tr>\n",
       "      <th>16</th>\n",
       "      <td>0</td>\n",
       "      <td>-1719.934226</td>\n",
       "      <td>35</td>\n",
       "      <td>среднее</td>\n",
       "      <td>1</td>\n",
       "      <td>женат / замужем</td>\n",
       "      <td>0</td>\n",
       "      <td>F</td>\n",
       "      <td>сотрудник</td>\n",
       "      <td>0</td>\n",
       "      <td>289202.704229</td>\n",
       "      <td>недвижимость</td>\n",
       "    </tr>\n",
       "    <tr>\n",
       "      <th>17</th>\n",
       "      <td>0</td>\n",
       "      <td>-2369.999720</td>\n",
       "      <td>33</td>\n",
       "      <td>высшее</td>\n",
       "      <td>0</td>\n",
       "      <td>гражданский брак</td>\n",
       "      <td>1</td>\n",
       "      <td>M</td>\n",
       "      <td>сотрудник</td>\n",
       "      <td>0</td>\n",
       "      <td>90410.586745</td>\n",
       "      <td>строительство недвижимости</td>\n",
       "    </tr>\n",
       "    <tr>\n",
       "      <th>18</th>\n",
       "      <td>0</td>\n",
       "      <td>400281.136913</td>\n",
       "      <td>53</td>\n",
       "      <td>среднее</td>\n",
       "      <td>1</td>\n",
       "      <td>вдовец / вдова</td>\n",
       "      <td>2</td>\n",
       "      <td>F</td>\n",
       "      <td>пенсионер</td>\n",
       "      <td>0</td>\n",
       "      <td>56823.777243</td>\n",
       "      <td>на покупку подержанного автомобиля</td>\n",
       "    </tr>\n",
       "    <tr>\n",
       "      <th>19</th>\n",
       "      <td>0</td>\n",
       "      <td>-10038.818549</td>\n",
       "      <td>48</td>\n",
       "      <td>СРЕДНЕЕ</td>\n",
       "      <td>1</td>\n",
       "      <td>в разводе</td>\n",
       "      <td>3</td>\n",
       "      <td>F</td>\n",
       "      <td>сотрудник</td>\n",
       "      <td>0</td>\n",
       "      <td>242831.107982</td>\n",
       "      <td>на покупку своего автомобиля</td>\n",
       "    </tr>\n",
       "  </tbody>\n",
       "</table>\n",
       "</div>"
      ],
      "text/plain": [
       "    children  days_employed  dob_years            education  education_id  \\\n",
       "0          1   -8437.673028         42               высшее             0   \n",
       "1          1   -4024.803754         36              среднее             1   \n",
       "2          0   -5623.422610         33              Среднее             1   \n",
       "3          3   -4124.747207         32              среднее             1   \n",
       "4          0  340266.072047         53              среднее             1   \n",
       "5          0    -926.185831         27               высшее             0   \n",
       "6          0   -2879.202052         43               высшее             0   \n",
       "7          0    -152.779569         50              СРЕДНЕЕ             1   \n",
       "8          2   -6929.865299         35               ВЫСШЕЕ             0   \n",
       "9          0   -2188.756445         41              среднее             1   \n",
       "10         2   -4171.483647         36               высшее             0   \n",
       "11         0    -792.701887         40              среднее             1   \n",
       "12         0            NaN         65              среднее             1   \n",
       "13         0   -1846.641941         54  неоконченное высшее             2   \n",
       "14         0   -1844.956182         56               высшее             0   \n",
       "15         1    -972.364419         26              среднее             1   \n",
       "16         0   -1719.934226         35              среднее             1   \n",
       "17         0   -2369.999720         33               высшее             0   \n",
       "18         0  400281.136913         53              среднее             1   \n",
       "19         0  -10038.818549         48              СРЕДНЕЕ             1   \n",
       "\n",
       "       family_status  family_status_id gender income_type  debt  \\\n",
       "0    женат / замужем                 0      F   сотрудник     0   \n",
       "1    женат / замужем                 0      F   сотрудник     0   \n",
       "2    женат / замужем                 0      M   сотрудник     0   \n",
       "3    женат / замужем                 0      M   сотрудник     0   \n",
       "4   гражданский брак                 1      F   пенсионер     0   \n",
       "5   гражданский брак                 1      M   компаньон     0   \n",
       "6    женат / замужем                 0      F   компаньон     0   \n",
       "7    женат / замужем                 0      M   сотрудник     0   \n",
       "8   гражданский брак                 1      F   сотрудник     0   \n",
       "9    женат / замужем                 0      M   сотрудник     0   \n",
       "10   женат / замужем                 0      M   компаньон     0   \n",
       "11   женат / замужем                 0      F   сотрудник     0   \n",
       "12  гражданский брак                 1      M   пенсионер     0   \n",
       "13   женат / замужем                 0      F   сотрудник     0   \n",
       "14  гражданский брак                 1      F   компаньон     1   \n",
       "15   женат / замужем                 0      F   сотрудник     0   \n",
       "16   женат / замужем                 0      F   сотрудник     0   \n",
       "17  гражданский брак                 1      M   сотрудник     0   \n",
       "18    вдовец / вдова                 2      F   пенсионер     0   \n",
       "19         в разводе                 3      F   сотрудник     0   \n",
       "\n",
       "     total_income                                 purpose  \n",
       "0   253875.639453                           покупка жилья  \n",
       "1   112080.014102                 приобретение автомобиля  \n",
       "2   145885.952297                           покупка жилья  \n",
       "3   267628.550329              дополнительное образование  \n",
       "4   158616.077870                         сыграть свадьбу  \n",
       "5   255763.565419                           покупка жилья  \n",
       "6   240525.971920                       операции с жильем  \n",
       "7   135823.934197                             образование  \n",
       "8    95856.832424                   на проведение свадьбы  \n",
       "9   144425.938277                 покупка жилья для семьи  \n",
       "10  113943.491460                    покупка недвижимости  \n",
       "11   77069.234271       покупка коммерческой недвижимости  \n",
       "12            NaN                         сыграть свадьбу  \n",
       "13  130458.228857                 приобретение автомобиля  \n",
       "14  165127.911772              покупка жилой недвижимости  \n",
       "15  116820.904450  строительство собственной недвижимости  \n",
       "16  289202.704229                            недвижимость  \n",
       "17   90410.586745              строительство недвижимости  \n",
       "18   56823.777243      на покупку подержанного автомобиля  \n",
       "19  242831.107982            на покупку своего автомобиля  "
      ]
     },
     "execution_count": 3,
     "metadata": {},
     "output_type": "execute_result"
    }
   ],
   "source": [
    "data.head(20)"
   ]
  },
  {
   "cell_type": "code",
   "execution_count": 4,
   "id": "91b92af2",
   "metadata": {},
   "outputs": [
    {
     "data": {
      "text/html": [
       "<div>\n",
       "<style scoped>\n",
       "    .dataframe tbody tr th:only-of-type {\n",
       "        vertical-align: middle;\n",
       "    }\n",
       "\n",
       "    .dataframe tbody tr th {\n",
       "        vertical-align: top;\n",
       "    }\n",
       "\n",
       "    .dataframe thead th {\n",
       "        text-align: right;\n",
       "    }\n",
       "</style>\n",
       "<table border=\"1\" class=\"dataframe\">\n",
       "  <thead>\n",
       "    <tr style=\"text-align: right;\">\n",
       "      <th></th>\n",
       "      <th>children</th>\n",
       "      <th>days_employed</th>\n",
       "      <th>dob_years</th>\n",
       "      <th>education_id</th>\n",
       "      <th>family_status_id</th>\n",
       "      <th>debt</th>\n",
       "      <th>total_income</th>\n",
       "    </tr>\n",
       "  </thead>\n",
       "  <tbody>\n",
       "    <tr>\n",
       "      <th>count</th>\n",
       "      <td>21525.000000</td>\n",
       "      <td>19351.000000</td>\n",
       "      <td>21525.000000</td>\n",
       "      <td>21525.000000</td>\n",
       "      <td>21525.000000</td>\n",
       "      <td>21525.000000</td>\n",
       "      <td>1.935100e+04</td>\n",
       "    </tr>\n",
       "    <tr>\n",
       "      <th>mean</th>\n",
       "      <td>0.538908</td>\n",
       "      <td>63046.497661</td>\n",
       "      <td>43.293380</td>\n",
       "      <td>0.817236</td>\n",
       "      <td>0.972544</td>\n",
       "      <td>0.080883</td>\n",
       "      <td>1.674223e+05</td>\n",
       "    </tr>\n",
       "    <tr>\n",
       "      <th>std</th>\n",
       "      <td>1.381587</td>\n",
       "      <td>140827.311974</td>\n",
       "      <td>12.574584</td>\n",
       "      <td>0.548138</td>\n",
       "      <td>1.420324</td>\n",
       "      <td>0.272661</td>\n",
       "      <td>1.029716e+05</td>\n",
       "    </tr>\n",
       "    <tr>\n",
       "      <th>min</th>\n",
       "      <td>-1.000000</td>\n",
       "      <td>-18388.949901</td>\n",
       "      <td>0.000000</td>\n",
       "      <td>0.000000</td>\n",
       "      <td>0.000000</td>\n",
       "      <td>0.000000</td>\n",
       "      <td>2.066726e+04</td>\n",
       "    </tr>\n",
       "    <tr>\n",
       "      <th>25%</th>\n",
       "      <td>0.000000</td>\n",
       "      <td>-2747.423625</td>\n",
       "      <td>33.000000</td>\n",
       "      <td>1.000000</td>\n",
       "      <td>0.000000</td>\n",
       "      <td>0.000000</td>\n",
       "      <td>1.030532e+05</td>\n",
       "    </tr>\n",
       "    <tr>\n",
       "      <th>50%</th>\n",
       "      <td>0.000000</td>\n",
       "      <td>-1203.369529</td>\n",
       "      <td>42.000000</td>\n",
       "      <td>1.000000</td>\n",
       "      <td>0.000000</td>\n",
       "      <td>0.000000</td>\n",
       "      <td>1.450179e+05</td>\n",
       "    </tr>\n",
       "    <tr>\n",
       "      <th>75%</th>\n",
       "      <td>1.000000</td>\n",
       "      <td>-291.095954</td>\n",
       "      <td>53.000000</td>\n",
       "      <td>1.000000</td>\n",
       "      <td>1.000000</td>\n",
       "      <td>0.000000</td>\n",
       "      <td>2.034351e+05</td>\n",
       "    </tr>\n",
       "    <tr>\n",
       "      <th>max</th>\n",
       "      <td>20.000000</td>\n",
       "      <td>401755.400475</td>\n",
       "      <td>75.000000</td>\n",
       "      <td>4.000000</td>\n",
       "      <td>4.000000</td>\n",
       "      <td>1.000000</td>\n",
       "      <td>2.265604e+06</td>\n",
       "    </tr>\n",
       "  </tbody>\n",
       "</table>\n",
       "</div>"
      ],
      "text/plain": [
       "           children  days_employed     dob_years  education_id  \\\n",
       "count  21525.000000   19351.000000  21525.000000  21525.000000   \n",
       "mean       0.538908   63046.497661     43.293380      0.817236   \n",
       "std        1.381587  140827.311974     12.574584      0.548138   \n",
       "min       -1.000000  -18388.949901      0.000000      0.000000   \n",
       "25%        0.000000   -2747.423625     33.000000      1.000000   \n",
       "50%        0.000000   -1203.369529     42.000000      1.000000   \n",
       "75%        1.000000    -291.095954     53.000000      1.000000   \n",
       "max       20.000000  401755.400475     75.000000      4.000000   \n",
       "\n",
       "       family_status_id          debt  total_income  \n",
       "count      21525.000000  21525.000000  1.935100e+04  \n",
       "mean           0.972544      0.080883  1.674223e+05  \n",
       "std            1.420324      0.272661  1.029716e+05  \n",
       "min            0.000000      0.000000  2.066726e+04  \n",
       "25%            0.000000      0.000000  1.030532e+05  \n",
       "50%            0.000000      0.000000  1.450179e+05  \n",
       "75%            1.000000      0.000000  2.034351e+05  \n",
       "max            4.000000      1.000000  2.265604e+06  "
      ]
     },
     "execution_count": 4,
     "metadata": {},
     "output_type": "execute_result"
    }
   ],
   "source": [
    "data.describe()"
   ]
  },
  {
   "cell_type": "code",
   "execution_count": 5,
   "id": "25f68195",
   "metadata": {
    "scrolled": true
   },
   "outputs": [
    {
     "data": {
      "text/plain": [
       "children               0\n",
       "days_employed       2174\n",
       "dob_years              0\n",
       "education              0\n",
       "education_id           0\n",
       "family_status          0\n",
       "family_status_id       0\n",
       "gender                 0\n",
       "income_type            0\n",
       "debt                   0\n",
       "total_income        2174\n",
       "purpose                0\n",
       "dtype: int64"
      ]
     },
     "execution_count": 5,
     "metadata": {},
     "output_type": "execute_result"
    }
   ],
   "source": [
    "data.isna().sum() #подсчет пропусков"
   ]
  },
  {
   "cell_type": "code",
   "execution_count": 6,
   "id": "37466218",
   "metadata": {
    "scrolled": false
   },
   "outputs": [
    {
     "name": "stdout",
     "output_type": "stream",
     "text": [
      "Доля пропусков 10.1%\n"
     ]
    }
   ],
   "source": [
    "percentage = len(data[data['total_income'].isna()]) / len(data['children'])\n",
    "print(f'Доля пропусков {percentage:.1%}')"
   ]
  },
  {
   "cell_type": "code",
   "execution_count": 7,
   "id": "56a79d2c",
   "metadata": {},
   "outputs": [
    {
     "data": {
      "text/plain": [
       "children            0.000000\n",
       "days_employed       0.100999\n",
       "dob_years           0.000000\n",
       "education           0.000000\n",
       "education_id        0.000000\n",
       "family_status       0.000000\n",
       "family_status_id    0.000000\n",
       "gender              0.000000\n",
       "income_type         0.000000\n",
       "debt                0.000000\n",
       "total_income        0.100999\n",
       "purpose             0.000000\n",
       "dtype: float64"
      ]
     },
     "execution_count": 7,
     "metadata": {},
     "output_type": "execute_result"
    }
   ],
   "source": [
    "data.isna().mean()"
   ]
  },
  {
   "cell_type": "markdown",
   "id": "f510b0f9",
   "metadata": {},
   "source": [
    " **Замена пропусков**"
   ]
  },
  {
   "cell_type": "code",
   "execution_count": 10,
   "id": "5ab15c82",
   "metadata": {},
   "outputs": [
    {
     "data": {
      "text/plain": [
       "income_type\n",
       "безработный        131339.751676\n",
       "в декрете           53829.130729\n",
       "госслужащий        150447.935283\n",
       "компаньон          172357.950966\n",
       "пенсионер          118514.486412\n",
       "предприниматель    499163.144947\n",
       "сотрудник          142594.396847\n",
       "студент             98201.625314\n",
       "Name: total_income, dtype: float64"
      ]
     },
     "execution_count": 10,
     "metadata": {},
     "output_type": "execute_result"
    }
   ],
   "source": [
    "grp = data.groupby('income_type')['total_income'].median()\n",
    "grp"
   ]
  },
  {
   "cell_type": "code",
   "execution_count": 11,
   "id": "7159e30c",
   "metadata": {
    "scrolled": true
   },
   "outputs": [
    {
     "data": {
      "text/plain": [
       "children               0\n",
       "days_employed       2174\n",
       "dob_years              0\n",
       "education              0\n",
       "education_id           0\n",
       "family_status          0\n",
       "family_status_id       0\n",
       "gender                 0\n",
       "income_type            0\n",
       "debt                   0\n",
       "total_income           0\n",
       "purpose                0\n",
       "dtype: int64"
      ]
     },
     "execution_count": 11,
     "metadata": {},
     "output_type": "execute_result"
    }
   ],
   "source": [
    "grp = data.groupby(['income_type'])\n",
    "data['total_income'] = grp.total_income.apply(lambda x: x.fillna(x.median()))\n",
    "data.isna().sum()"
   ]
  },
  {
   "cell_type": "code",
   "execution_count": 12,
   "id": "1f0b3cfa",
   "metadata": {},
   "outputs": [
    {
     "data": {
      "text/html": [
       "<div>\n",
       "<style scoped>\n",
       "    .dataframe tbody tr th:only-of-type {\n",
       "        vertical-align: middle;\n",
       "    }\n",
       "\n",
       "    .dataframe tbody tr th {\n",
       "        vertical-align: top;\n",
       "    }\n",
       "\n",
       "    .dataframe thead th {\n",
       "        text-align: right;\n",
       "    }\n",
       "</style>\n",
       "<table border=\"1\" class=\"dataframe\">\n",
       "  <thead>\n",
       "    <tr style=\"text-align: right;\">\n",
       "      <th></th>\n",
       "      <th>children</th>\n",
       "      <th>days_employed</th>\n",
       "      <th>dob_years</th>\n",
       "      <th>education</th>\n",
       "      <th>education_id</th>\n",
       "      <th>family_status</th>\n",
       "      <th>family_status_id</th>\n",
       "      <th>gender</th>\n",
       "      <th>income_type</th>\n",
       "      <th>debt</th>\n",
       "      <th>total_income</th>\n",
       "      <th>purpose</th>\n",
       "    </tr>\n",
       "  </thead>\n",
       "  <tbody>\n",
       "    <tr>\n",
       "      <th>0</th>\n",
       "      <td>1</td>\n",
       "      <td>-8437.673028</td>\n",
       "      <td>42</td>\n",
       "      <td>высшее</td>\n",
       "      <td>0</td>\n",
       "      <td>женат / замужем</td>\n",
       "      <td>0</td>\n",
       "      <td>F</td>\n",
       "      <td>сотрудник</td>\n",
       "      <td>0</td>\n",
       "      <td>253875.639453</td>\n",
       "      <td>покупка жилья</td>\n",
       "    </tr>\n",
       "    <tr>\n",
       "      <th>1</th>\n",
       "      <td>1</td>\n",
       "      <td>-4024.803754</td>\n",
       "      <td>36</td>\n",
       "      <td>среднее</td>\n",
       "      <td>1</td>\n",
       "      <td>женат / замужем</td>\n",
       "      <td>0</td>\n",
       "      <td>F</td>\n",
       "      <td>сотрудник</td>\n",
       "      <td>0</td>\n",
       "      <td>112080.014102</td>\n",
       "      <td>приобретение автомобиля</td>\n",
       "    </tr>\n",
       "    <tr>\n",
       "      <th>2</th>\n",
       "      <td>0</td>\n",
       "      <td>-5623.422610</td>\n",
       "      <td>33</td>\n",
       "      <td>Среднее</td>\n",
       "      <td>1</td>\n",
       "      <td>женат / замужем</td>\n",
       "      <td>0</td>\n",
       "      <td>M</td>\n",
       "      <td>сотрудник</td>\n",
       "      <td>0</td>\n",
       "      <td>145885.952297</td>\n",
       "      <td>покупка жилья</td>\n",
       "    </tr>\n",
       "    <tr>\n",
       "      <th>3</th>\n",
       "      <td>3</td>\n",
       "      <td>-4124.747207</td>\n",
       "      <td>32</td>\n",
       "      <td>среднее</td>\n",
       "      <td>1</td>\n",
       "      <td>женат / замужем</td>\n",
       "      <td>0</td>\n",
       "      <td>M</td>\n",
       "      <td>сотрудник</td>\n",
       "      <td>0</td>\n",
       "      <td>267628.550329</td>\n",
       "      <td>дополнительное образование</td>\n",
       "    </tr>\n",
       "    <tr>\n",
       "      <th>4</th>\n",
       "      <td>0</td>\n",
       "      <td>340266.072047</td>\n",
       "      <td>53</td>\n",
       "      <td>среднее</td>\n",
       "      <td>1</td>\n",
       "      <td>гражданский брак</td>\n",
       "      <td>1</td>\n",
       "      <td>F</td>\n",
       "      <td>пенсионер</td>\n",
       "      <td>0</td>\n",
       "      <td>158616.077870</td>\n",
       "      <td>сыграть свадьбу</td>\n",
       "    </tr>\n",
       "    <tr>\n",
       "      <th>5</th>\n",
       "      <td>0</td>\n",
       "      <td>-926.185831</td>\n",
       "      <td>27</td>\n",
       "      <td>высшее</td>\n",
       "      <td>0</td>\n",
       "      <td>гражданский брак</td>\n",
       "      <td>1</td>\n",
       "      <td>M</td>\n",
       "      <td>компаньон</td>\n",
       "      <td>0</td>\n",
       "      <td>255763.565419</td>\n",
       "      <td>покупка жилья</td>\n",
       "    </tr>\n",
       "    <tr>\n",
       "      <th>6</th>\n",
       "      <td>0</td>\n",
       "      <td>-2879.202052</td>\n",
       "      <td>43</td>\n",
       "      <td>высшее</td>\n",
       "      <td>0</td>\n",
       "      <td>женат / замужем</td>\n",
       "      <td>0</td>\n",
       "      <td>F</td>\n",
       "      <td>компаньон</td>\n",
       "      <td>0</td>\n",
       "      <td>240525.971920</td>\n",
       "      <td>операции с жильем</td>\n",
       "    </tr>\n",
       "    <tr>\n",
       "      <th>7</th>\n",
       "      <td>0</td>\n",
       "      <td>-152.779569</td>\n",
       "      <td>50</td>\n",
       "      <td>СРЕДНЕЕ</td>\n",
       "      <td>1</td>\n",
       "      <td>женат / замужем</td>\n",
       "      <td>0</td>\n",
       "      <td>M</td>\n",
       "      <td>сотрудник</td>\n",
       "      <td>0</td>\n",
       "      <td>135823.934197</td>\n",
       "      <td>образование</td>\n",
       "    </tr>\n",
       "    <tr>\n",
       "      <th>8</th>\n",
       "      <td>2</td>\n",
       "      <td>-6929.865299</td>\n",
       "      <td>35</td>\n",
       "      <td>ВЫСШЕЕ</td>\n",
       "      <td>0</td>\n",
       "      <td>гражданский брак</td>\n",
       "      <td>1</td>\n",
       "      <td>F</td>\n",
       "      <td>сотрудник</td>\n",
       "      <td>0</td>\n",
       "      <td>95856.832424</td>\n",
       "      <td>на проведение свадьбы</td>\n",
       "    </tr>\n",
       "    <tr>\n",
       "      <th>9</th>\n",
       "      <td>0</td>\n",
       "      <td>-2188.756445</td>\n",
       "      <td>41</td>\n",
       "      <td>среднее</td>\n",
       "      <td>1</td>\n",
       "      <td>женат / замужем</td>\n",
       "      <td>0</td>\n",
       "      <td>M</td>\n",
       "      <td>сотрудник</td>\n",
       "      <td>0</td>\n",
       "      <td>144425.938277</td>\n",
       "      <td>покупка жилья для семьи</td>\n",
       "    </tr>\n",
       "    <tr>\n",
       "      <th>10</th>\n",
       "      <td>2</td>\n",
       "      <td>-4171.483647</td>\n",
       "      <td>36</td>\n",
       "      <td>высшее</td>\n",
       "      <td>0</td>\n",
       "      <td>женат / замужем</td>\n",
       "      <td>0</td>\n",
       "      <td>M</td>\n",
       "      <td>компаньон</td>\n",
       "      <td>0</td>\n",
       "      <td>113943.491460</td>\n",
       "      <td>покупка недвижимости</td>\n",
       "    </tr>\n",
       "    <tr>\n",
       "      <th>11</th>\n",
       "      <td>0</td>\n",
       "      <td>-792.701887</td>\n",
       "      <td>40</td>\n",
       "      <td>среднее</td>\n",
       "      <td>1</td>\n",
       "      <td>женат / замужем</td>\n",
       "      <td>0</td>\n",
       "      <td>F</td>\n",
       "      <td>сотрудник</td>\n",
       "      <td>0</td>\n",
       "      <td>77069.234271</td>\n",
       "      <td>покупка коммерческой недвижимости</td>\n",
       "    </tr>\n",
       "    <tr>\n",
       "      <th>12</th>\n",
       "      <td>0</td>\n",
       "      <td>NaN</td>\n",
       "      <td>65</td>\n",
       "      <td>среднее</td>\n",
       "      <td>1</td>\n",
       "      <td>гражданский брак</td>\n",
       "      <td>1</td>\n",
       "      <td>M</td>\n",
       "      <td>пенсионер</td>\n",
       "      <td>0</td>\n",
       "      <td>118514.486412</td>\n",
       "      <td>сыграть свадьбу</td>\n",
       "    </tr>\n",
       "    <tr>\n",
       "      <th>13</th>\n",
       "      <td>0</td>\n",
       "      <td>-1846.641941</td>\n",
       "      <td>54</td>\n",
       "      <td>неоконченное высшее</td>\n",
       "      <td>2</td>\n",
       "      <td>женат / замужем</td>\n",
       "      <td>0</td>\n",
       "      <td>F</td>\n",
       "      <td>сотрудник</td>\n",
       "      <td>0</td>\n",
       "      <td>130458.228857</td>\n",
       "      <td>приобретение автомобиля</td>\n",
       "    </tr>\n",
       "    <tr>\n",
       "      <th>14</th>\n",
       "      <td>0</td>\n",
       "      <td>-1844.956182</td>\n",
       "      <td>56</td>\n",
       "      <td>высшее</td>\n",
       "      <td>0</td>\n",
       "      <td>гражданский брак</td>\n",
       "      <td>1</td>\n",
       "      <td>F</td>\n",
       "      <td>компаньон</td>\n",
       "      <td>1</td>\n",
       "      <td>165127.911772</td>\n",
       "      <td>покупка жилой недвижимости</td>\n",
       "    </tr>\n",
       "    <tr>\n",
       "      <th>15</th>\n",
       "      <td>1</td>\n",
       "      <td>-972.364419</td>\n",
       "      <td>26</td>\n",
       "      <td>среднее</td>\n",
       "      <td>1</td>\n",
       "      <td>женат / замужем</td>\n",
       "      <td>0</td>\n",
       "      <td>F</td>\n",
       "      <td>сотрудник</td>\n",
       "      <td>0</td>\n",
       "      <td>116820.904450</td>\n",
       "      <td>строительство собственной недвижимости</td>\n",
       "    </tr>\n",
       "    <tr>\n",
       "      <th>16</th>\n",
       "      <td>0</td>\n",
       "      <td>-1719.934226</td>\n",
       "      <td>35</td>\n",
       "      <td>среднее</td>\n",
       "      <td>1</td>\n",
       "      <td>женат / замужем</td>\n",
       "      <td>0</td>\n",
       "      <td>F</td>\n",
       "      <td>сотрудник</td>\n",
       "      <td>0</td>\n",
       "      <td>289202.704229</td>\n",
       "      <td>недвижимость</td>\n",
       "    </tr>\n",
       "    <tr>\n",
       "      <th>17</th>\n",
       "      <td>0</td>\n",
       "      <td>-2369.999720</td>\n",
       "      <td>33</td>\n",
       "      <td>высшее</td>\n",
       "      <td>0</td>\n",
       "      <td>гражданский брак</td>\n",
       "      <td>1</td>\n",
       "      <td>M</td>\n",
       "      <td>сотрудник</td>\n",
       "      <td>0</td>\n",
       "      <td>90410.586745</td>\n",
       "      <td>строительство недвижимости</td>\n",
       "    </tr>\n",
       "    <tr>\n",
       "      <th>18</th>\n",
       "      <td>0</td>\n",
       "      <td>400281.136913</td>\n",
       "      <td>53</td>\n",
       "      <td>среднее</td>\n",
       "      <td>1</td>\n",
       "      <td>вдовец / вдова</td>\n",
       "      <td>2</td>\n",
       "      <td>F</td>\n",
       "      <td>пенсионер</td>\n",
       "      <td>0</td>\n",
       "      <td>56823.777243</td>\n",
       "      <td>на покупку подержанного автомобиля</td>\n",
       "    </tr>\n",
       "    <tr>\n",
       "      <th>19</th>\n",
       "      <td>0</td>\n",
       "      <td>-10038.818549</td>\n",
       "      <td>48</td>\n",
       "      <td>СРЕДНЕЕ</td>\n",
       "      <td>1</td>\n",
       "      <td>в разводе</td>\n",
       "      <td>3</td>\n",
       "      <td>F</td>\n",
       "      <td>сотрудник</td>\n",
       "      <td>0</td>\n",
       "      <td>242831.107982</td>\n",
       "      <td>на покупку своего автомобиля</td>\n",
       "    </tr>\n",
       "  </tbody>\n",
       "</table>\n",
       "</div>"
      ],
      "text/plain": [
       "    children  days_employed  dob_years            education  education_id  \\\n",
       "0          1   -8437.673028         42               высшее             0   \n",
       "1          1   -4024.803754         36              среднее             1   \n",
       "2          0   -5623.422610         33              Среднее             1   \n",
       "3          3   -4124.747207         32              среднее             1   \n",
       "4          0  340266.072047         53              среднее             1   \n",
       "5          0    -926.185831         27               высшее             0   \n",
       "6          0   -2879.202052         43               высшее             0   \n",
       "7          0    -152.779569         50              СРЕДНЕЕ             1   \n",
       "8          2   -6929.865299         35               ВЫСШЕЕ             0   \n",
       "9          0   -2188.756445         41              среднее             1   \n",
       "10         2   -4171.483647         36               высшее             0   \n",
       "11         0    -792.701887         40              среднее             1   \n",
       "12         0            NaN         65              среднее             1   \n",
       "13         0   -1846.641941         54  неоконченное высшее             2   \n",
       "14         0   -1844.956182         56               высшее             0   \n",
       "15         1    -972.364419         26              среднее             1   \n",
       "16         0   -1719.934226         35              среднее             1   \n",
       "17         0   -2369.999720         33               высшее             0   \n",
       "18         0  400281.136913         53              среднее             1   \n",
       "19         0  -10038.818549         48              СРЕДНЕЕ             1   \n",
       "\n",
       "       family_status  family_status_id gender income_type  debt  \\\n",
       "0    женат / замужем                 0      F   сотрудник     0   \n",
       "1    женат / замужем                 0      F   сотрудник     0   \n",
       "2    женат / замужем                 0      M   сотрудник     0   \n",
       "3    женат / замужем                 0      M   сотрудник     0   \n",
       "4   гражданский брак                 1      F   пенсионер     0   \n",
       "5   гражданский брак                 1      M   компаньон     0   \n",
       "6    женат / замужем                 0      F   компаньон     0   \n",
       "7    женат / замужем                 0      M   сотрудник     0   \n",
       "8   гражданский брак                 1      F   сотрудник     0   \n",
       "9    женат / замужем                 0      M   сотрудник     0   \n",
       "10   женат / замужем                 0      M   компаньон     0   \n",
       "11   женат / замужем                 0      F   сотрудник     0   \n",
       "12  гражданский брак                 1      M   пенсионер     0   \n",
       "13   женат / замужем                 0      F   сотрудник     0   \n",
       "14  гражданский брак                 1      F   компаньон     1   \n",
       "15   женат / замужем                 0      F   сотрудник     0   \n",
       "16   женат / замужем                 0      F   сотрудник     0   \n",
       "17  гражданский брак                 1      M   сотрудник     0   \n",
       "18    вдовец / вдова                 2      F   пенсионер     0   \n",
       "19         в разводе                 3      F   сотрудник     0   \n",
       "\n",
       "     total_income                                 purpose  \n",
       "0   253875.639453                           покупка жилья  \n",
       "1   112080.014102                 приобретение автомобиля  \n",
       "2   145885.952297                           покупка жилья  \n",
       "3   267628.550329              дополнительное образование  \n",
       "4   158616.077870                         сыграть свадьбу  \n",
       "5   255763.565419                           покупка жилья  \n",
       "6   240525.971920                       операции с жильем  \n",
       "7   135823.934197                             образование  \n",
       "8    95856.832424                   на проведение свадьбы  \n",
       "9   144425.938277                 покупка жилья для семьи  \n",
       "10  113943.491460                    покупка недвижимости  \n",
       "11   77069.234271       покупка коммерческой недвижимости  \n",
       "12  118514.486412                         сыграть свадьбу  \n",
       "13  130458.228857                 приобретение автомобиля  \n",
       "14  165127.911772              покупка жилой недвижимости  \n",
       "15  116820.904450  строительство собственной недвижимости  \n",
       "16  289202.704229                            недвижимость  \n",
       "17   90410.586745              строительство недвижимости  \n",
       "18   56823.777243      на покупку подержанного автомобиля  \n",
       "19  242831.107982            на покупку своего автомобиля  "
      ]
     },
     "execution_count": 12,
     "metadata": {},
     "output_type": "execute_result"
    }
   ],
   "source": [
    "data.head(20)"
   ]
  },
  {
   "cell_type": "code",
   "execution_count": 13,
   "id": "e300fe19",
   "metadata": {},
   "outputs": [
    {
     "data": {
      "text/plain": [
       "children               0\n",
       "days_employed       2174\n",
       "dob_years              0\n",
       "education              0\n",
       "education_id           0\n",
       "family_status          0\n",
       "family_status_id       0\n",
       "gender                 0\n",
       "income_type            0\n",
       "debt                   0\n",
       "total_income           0\n",
       "purpose                0\n",
       "dtype: int64"
      ]
     },
     "execution_count": 13,
     "metadata": {},
     "output_type": "execute_result"
    }
   ],
   "source": [
    "data.isna().sum()"
   ]
  },
  {
   "cell_type": "markdown",
   "id": "58e29f45",
   "metadata": {},
   "source": [
    "Пропуски в столбце `total_income` были заменены на медианное значение, так как оно обладает более объективной информацией о зарплате нежели среднее значение по данным параметрам.\n",
    "\n",
    "Пропуски в стоблце могли появиться из-за разных причин:\n",
    "* Не правильно введенные данные;\n",
    "* Не полностью заполненные данные клиентами сервиса;\n",
    "* Сбой системы."
   ]
  },
  {
   "cell_type": "markdown",
   "id": "36383c4d",
   "metadata": {},
   "source": [
    "### Шаг 2.2 Проверка данных на аномалии и исправления."
   ]
  },
  {
   "cell_type": "markdown",
   "id": "fb66c442",
   "metadata": {},
   "source": [
    "**Замена в столбце** `children`"
   ]
  },
  {
   "cell_type": "code",
   "execution_count": 15,
   "id": "2414e9be",
   "metadata": {},
   "outputs": [
    {
     "data": {
      "text/plain": [
       " 0     14149\n",
       " 1      4818\n",
       " 2      2055\n",
       " 3       330\n",
       " 20       76\n",
       "-1        47\n",
       " 4        41\n",
       " 5         9\n",
       "Name: children, dtype: int64"
      ]
     },
     "execution_count": 15,
     "metadata": {},
     "output_type": "execute_result"
    }
   ],
   "source": [
    "data['children'].value_counts()"
   ]
  },
  {
   "cell_type": "code",
   "execution_count": 16,
   "id": "765aa45a",
   "metadata": {},
   "outputs": [],
   "source": [
    "data['children'] = abs(data['children'])\n",
    "data['children'] = data['children'].replace(20, 2)"
   ]
  },
  {
   "cell_type": "code",
   "execution_count": 17,
   "id": "d739d177",
   "metadata": {},
   "outputs": [
    {
     "data": {
      "text/plain": [
       "0    14149\n",
       "1     4865\n",
       "2     2131\n",
       "3      330\n",
       "4       41\n",
       "5        9\n",
       "Name: children, dtype: int64"
      ]
     },
     "execution_count": 17,
     "metadata": {},
     "output_type": "execute_result"
    }
   ],
   "source": [
    "data['children'].value_counts()"
   ]
  },
  {
   "cell_type": "markdown",
   "id": "e23e159c",
   "metadata": {},
   "source": [
    "**Замена в стоблце** `days_employed`"
   ]
  },
  {
   "cell_type": "code",
   "execution_count": 18,
   "id": "9e0a0884",
   "metadata": {
    "scrolled": true
   },
   "outputs": [
    {
     "name": "stdout",
     "output_type": "stream",
     "text": [
      "<class 'pandas.core.frame.DataFrame'>\n",
      "RangeIndex: 21525 entries, 0 to 21524\n",
      "Data columns (total 12 columns):\n",
      " #   Column            Non-Null Count  Dtype  \n",
      "---  ------            --------------  -----  \n",
      " 0   children          21525 non-null  int64  \n",
      " 1   days_employed     21525 non-null  float64\n",
      " 2   dob_years         21525 non-null  int64  \n",
      " 3   education         21525 non-null  object \n",
      " 4   education_id      21525 non-null  int64  \n",
      " 5   family_status     21525 non-null  object \n",
      " 6   family_status_id  21525 non-null  int64  \n",
      " 7   gender            21525 non-null  object \n",
      " 8   income_type       21525 non-null  object \n",
      " 9   debt              21525 non-null  int64  \n",
      " 10  total_income      21525 non-null  float64\n",
      " 11  purpose           21525 non-null  object \n",
      "dtypes: float64(2), int64(5), object(5)\n",
      "memory usage: 2.0+ MB\n"
     ]
    }
   ],
   "source": [
    "data['days_employed'] = abs(data['days_employed'])\n",
    "median_data = data['days_employed'].median()\n",
    "columns_to_replace = ['days_employed']\n",
    "for columns in columns_to_replace:\n",
    "    data['days_employed'] = data['days_employed'].fillna(median_data)\n",
    "    \n",
    "data.info()"
   ]
  },
  {
   "cell_type": "code",
   "execution_count": 19,
   "id": "5b778622",
   "metadata": {},
   "outputs": [
    {
     "data": {
      "text/plain": [
       "count     21525.000000\n",
       "mean      60378.032733\n",
       "std      133257.558514\n",
       "min          24.141633\n",
       "25%        1025.608174\n",
       "50%        2194.220567\n",
       "75%        4779.587738\n",
       "max      401755.400475\n",
       "Name: days_employed, dtype: float64"
      ]
     },
     "execution_count": 19,
     "metadata": {},
     "output_type": "execute_result"
    }
   ],
   "source": [
    "data['days_employed'].describe()"
   ]
  },
  {
   "cell_type": "markdown",
   "id": "10438a80",
   "metadata": {},
   "source": [
    "В данном столбце есть значения, которые явно являются ошибочные, к примеру: максимальный стаж равен 401755 дней, что ровняется ~ 1100 лет, что свидетельствует об ошибке при вводе данных в таблицу. Данный столбец не участвует в процессе анализа данных по данной таблице. Но в дальнейшем, стоило бы уточнить у человека, предоставившего эти данные, откуда взялись даннные цифры. (P.S. а вдруг у них есть люди, которые так долго у них работают..(бедные люди))"
   ]
  },
  {
   "cell_type": "code",
   "execution_count": 20,
   "id": "77fd9002",
   "metadata": {
    "scrolled": true
   },
   "outputs": [
    {
     "data": {
      "text/plain": [
       "0    14149\n",
       "1     4865\n",
       "2     2131\n",
       "3      330\n",
       "4       41\n",
       "5        9\n",
       "Name: children, dtype: int64"
      ]
     },
     "execution_count": 20,
     "metadata": {},
     "output_type": "execute_result"
    }
   ],
   "source": [
    "data['children'].value_counts()"
   ]
  },
  {
   "cell_type": "markdown",
   "id": "d7cce59c",
   "metadata": {},
   "source": [
    "**Замена в столбце** `dob_years`"
   ]
  },
  {
   "cell_type": "code",
   "execution_count": 21,
   "id": "283ad8d5",
   "metadata": {},
   "outputs": [],
   "source": [
    "median_age = data['dob_years'].median()\n",
    "\n",
    "data['dob_years'] = data['dob_years'].replace(0, median_age)"
   ]
  },
  {
   "cell_type": "code",
   "execution_count": 22,
   "id": "7af9e8a6",
   "metadata": {},
   "outputs": [
    {
     "data": {
      "text/plain": [
       "count    21525.000000\n",
       "mean        43.490453\n",
       "std         12.218595\n",
       "min         19.000000\n",
       "25%         34.000000\n",
       "50%         42.000000\n",
       "75%         53.000000\n",
       "max         75.000000\n",
       "Name: dob_years, dtype: float64"
      ]
     },
     "execution_count": 22,
     "metadata": {},
     "output_type": "execute_result"
    }
   ],
   "source": [
    "data['dob_years'].describe()"
   ]
  },
  {
   "cell_type": "markdown",
   "id": "ef024a8f",
   "metadata": {},
   "source": [
    "**Замена в столбце** `gender`"
   ]
  },
  {
   "cell_type": "code",
   "execution_count": 23,
   "id": "e43624ca",
   "metadata": {
    "scrolled": true
   },
   "outputs": [
    {
     "data": {
      "text/plain": [
       "F      14236\n",
       "M       7288\n",
       "XNA        1\n",
       "Name: gender, dtype: int64"
      ]
     },
     "execution_count": 23,
     "metadata": {},
     "output_type": "execute_result"
    }
   ],
   "source": [
    "data['gender'].value_counts()"
   ]
  },
  {
   "cell_type": "code",
   "execution_count": 24,
   "id": "d0735443",
   "metadata": {
    "scrolled": true
   },
   "outputs": [
    {
     "data": {
      "text/html": [
       "<div>\n",
       "<style scoped>\n",
       "    .dataframe tbody tr th:only-of-type {\n",
       "        vertical-align: middle;\n",
       "    }\n",
       "\n",
       "    .dataframe tbody tr th {\n",
       "        vertical-align: top;\n",
       "    }\n",
       "\n",
       "    .dataframe thead th {\n",
       "        text-align: right;\n",
       "    }\n",
       "</style>\n",
       "<table border=\"1\" class=\"dataframe\">\n",
       "  <thead>\n",
       "    <tr style=\"text-align: right;\">\n",
       "      <th></th>\n",
       "      <th>children</th>\n",
       "      <th>days_employed</th>\n",
       "      <th>dob_years</th>\n",
       "      <th>education</th>\n",
       "      <th>education_id</th>\n",
       "      <th>family_status</th>\n",
       "      <th>family_status_id</th>\n",
       "      <th>gender</th>\n",
       "      <th>income_type</th>\n",
       "      <th>debt</th>\n",
       "      <th>total_income</th>\n",
       "      <th>purpose</th>\n",
       "    </tr>\n",
       "  </thead>\n",
       "  <tbody>\n",
       "    <tr>\n",
       "      <th>10701</th>\n",
       "      <td>0</td>\n",
       "      <td>2358.600502</td>\n",
       "      <td>24.0</td>\n",
       "      <td>неоконченное высшее</td>\n",
       "      <td>2</td>\n",
       "      <td>гражданский брак</td>\n",
       "      <td>1</td>\n",
       "      <td>XNA</td>\n",
       "      <td>компаньон</td>\n",
       "      <td>0</td>\n",
       "      <td>203905.157261</td>\n",
       "      <td>покупка недвижимости</td>\n",
       "    </tr>\n",
       "  </tbody>\n",
       "</table>\n",
       "</div>"
      ],
      "text/plain": [
       "       children  days_employed  dob_years            education  education_id  \\\n",
       "10701         0    2358.600502       24.0  неоконченное высшее             2   \n",
       "\n",
       "          family_status  family_status_id gender income_type  debt  \\\n",
       "10701  гражданский брак                 1    XNA   компаньон     0   \n",
       "\n",
       "        total_income               purpose  \n",
       "10701  203905.157261  покупка недвижимости  "
      ]
     },
     "execution_count": 24,
     "metadata": {},
     "output_type": "execute_result"
    }
   ],
   "source": [
    "data[data['gender'].isin(['XNA'])]"
   ]
  },
  {
   "cell_type": "code",
   "execution_count": 25,
   "id": "448ce31b",
   "metadata": {},
   "outputs": [],
   "source": [
    "data['gender'] = data['gender'].drop(labels = [10701],axis = 0)"
   ]
  },
  {
   "cell_type": "code",
   "execution_count": 26,
   "id": "80fc64ed",
   "metadata": {},
   "outputs": [
    {
     "data": {
      "text/html": [
       "<div>\n",
       "<style scoped>\n",
       "    .dataframe tbody tr th:only-of-type {\n",
       "        vertical-align: middle;\n",
       "    }\n",
       "\n",
       "    .dataframe tbody tr th {\n",
       "        vertical-align: top;\n",
       "    }\n",
       "\n",
       "    .dataframe thead th {\n",
       "        text-align: right;\n",
       "    }\n",
       "</style>\n",
       "<table border=\"1\" class=\"dataframe\">\n",
       "  <thead>\n",
       "    <tr style=\"text-align: right;\">\n",
       "      <th></th>\n",
       "      <th>children</th>\n",
       "      <th>days_employed</th>\n",
       "      <th>dob_years</th>\n",
       "      <th>education</th>\n",
       "      <th>education_id</th>\n",
       "      <th>family_status</th>\n",
       "      <th>family_status_id</th>\n",
       "      <th>gender</th>\n",
       "      <th>income_type</th>\n",
       "      <th>debt</th>\n",
       "      <th>total_income</th>\n",
       "      <th>purpose</th>\n",
       "    </tr>\n",
       "  </thead>\n",
       "  <tbody>\n",
       "  </tbody>\n",
       "</table>\n",
       "</div>"
      ],
      "text/plain": [
       "Empty DataFrame\n",
       "Columns: [children, days_employed, dob_years, education, education_id, family_status, family_status_id, gender, income_type, debt, total_income, purpose]\n",
       "Index: []"
      ]
     },
     "execution_count": 26,
     "metadata": {},
     "output_type": "execute_result"
    }
   ],
   "source": [
    "data[data['gender'].isin(['XNA'])]"
   ]
  },
  {
   "cell_type": "markdown",
   "id": "9bac31a1",
   "metadata": {},
   "source": [
    "Мы можем удалить одну строку датафрейма так как это не отобразиться существенно на общем анализе данных"
   ]
  },
  {
   "cell_type": "markdown",
   "id": "09069b43",
   "metadata": {},
   "source": [
    "### Шаг 2.3. Изменение типов данных."
   ]
  },
  {
   "cell_type": "code",
   "execution_count": 27,
   "id": "ecc30ef5",
   "metadata": {},
   "outputs": [
    {
     "name": "stdout",
     "output_type": "stream",
     "text": [
      "<class 'pandas.core.frame.DataFrame'>\n",
      "RangeIndex: 21525 entries, 0 to 21524\n",
      "Data columns (total 12 columns):\n",
      " #   Column            Non-Null Count  Dtype  \n",
      "---  ------            --------------  -----  \n",
      " 0   children          21525 non-null  int64  \n",
      " 1   days_employed     21525 non-null  int64  \n",
      " 2   age               21525 non-null  float64\n",
      " 3   education         21525 non-null  object \n",
      " 4   education_id      21525 non-null  int64  \n",
      " 5   family_status     21525 non-null  object \n",
      " 6   family_status_id  21525 non-null  int64  \n",
      " 7   gender            21524 non-null  object \n",
      " 8   income_type       21525 non-null  object \n",
      " 9   debt              21525 non-null  int64  \n",
      " 10  total_income      21525 non-null  int64  \n",
      " 11  purpose           21525 non-null  object \n",
      "dtypes: float64(1), int64(6), object(5)\n",
      "memory usage: 2.0+ MB\n"
     ]
    }
   ],
   "source": [
    "data['total_income'] = data['total_income'].astype('int')\n",
    "data['days_employed'] = data['days_employed'].astype('int')\n",
    "data = data.rename(columns={'dob_years':'age'})\n",
    "data.info()"
   ]
  },
  {
   "cell_type": "markdown",
   "id": "c0062196",
   "metadata": {},
   "source": [
    "### Шаг 2.4. Удаление дубликатов."
   ]
  },
  {
   "cell_type": "markdown",
   "id": "7ea780b4",
   "metadata": {},
   "source": [
    "`children`"
   ]
  },
  {
   "cell_type": "code",
   "execution_count": 28,
   "id": "9a5e72d9",
   "metadata": {},
   "outputs": [
    {
     "data": {
      "text/plain": [
       "0    14149\n",
       "1     4865\n",
       "2     2131\n",
       "3      330\n",
       "4       41\n",
       "5        9\n",
       "Name: children, dtype: int64"
      ]
     },
     "execution_count": 28,
     "metadata": {},
     "output_type": "execute_result"
    }
   ],
   "source": [
    "data['children'].value_counts()"
   ]
  },
  {
   "cell_type": "markdown",
   "id": "170dfb92",
   "metadata": {},
   "source": [
    "`family_status`"
   ]
  },
  {
   "cell_type": "code",
   "execution_count": 29,
   "id": "364a75cb",
   "metadata": {
    "scrolled": true
   },
   "outputs": [
    {
     "data": {
      "text/plain": [
       "женат / замужем          12380\n",
       "гражданский брак          4177\n",
       "Не женат / не замужем     2813\n",
       "в разводе                 1195\n",
       "вдовец / вдова             960\n",
       "Name: family_status, dtype: int64"
      ]
     },
     "execution_count": 29,
     "metadata": {},
     "output_type": "execute_result"
    }
   ],
   "source": [
    "data['family_status'].value_counts()"
   ]
  },
  {
   "cell_type": "markdown",
   "id": "2cd441f4",
   "metadata": {},
   "source": [
    "`education`"
   ]
  },
  {
   "cell_type": "code",
   "execution_count": 30,
   "id": "54ce8b70",
   "metadata": {
    "scrolled": false
   },
   "outputs": [
    {
     "data": {
      "text/plain": [
       "среднее                13750\n",
       "высшее                  4718\n",
       "СРЕДНЕЕ                  772\n",
       "Среднее                  711\n",
       "неоконченное высшее      668\n",
       "ВЫСШЕЕ                   274\n",
       "Высшее                   268\n",
       "начальное                250\n",
       "Неоконченное высшее       47\n",
       "НЕОКОНЧЕННОЕ ВЫСШЕЕ       29\n",
       "НАЧАЛЬНОЕ                 17\n",
       "Начальное                 15\n",
       "ученая степень             4\n",
       "УЧЕНАЯ СТЕПЕНЬ             1\n",
       "Ученая степень             1\n",
       "Name: education, dtype: int64"
      ]
     },
     "execution_count": 30,
     "metadata": {},
     "output_type": "execute_result"
    }
   ],
   "source": [
    "data['education'].value_counts()"
   ]
  },
  {
   "cell_type": "code",
   "execution_count": 31,
   "id": "baba2f9b",
   "metadata": {
    "scrolled": true
   },
   "outputs": [
    {
     "data": {
      "text/plain": [
       "среднее                15233\n",
       "высшее                  5260\n",
       "неоконченное высшее      744\n",
       "начальное                282\n",
       "ученая степень             6\n",
       "Name: education, dtype: int64"
      ]
     },
     "execution_count": 31,
     "metadata": {},
     "output_type": "execute_result"
    }
   ],
   "source": [
    "data['education'] = data['education'].str.lower()\n",
    "data['education'].value_counts()"
   ]
  },
  {
   "cell_type": "markdown",
   "id": "29c7a04a",
   "metadata": {},
   "source": [
    "`income_type`"
   ]
  },
  {
   "cell_type": "markdown",
   "id": "92e74d9e",
   "metadata": {},
   "source": [
    "**Замена в столбце** `days_employed`"
   ]
  },
  {
   "cell_type": "code",
   "execution_count": 32,
   "id": "740edbd0",
   "metadata": {
    "scrolled": true
   },
   "outputs": [
    {
     "data": {
      "text/plain": [
       "сотрудник          11119\n",
       "компаньон           5085\n",
       "пенсионер           3856\n",
       "госслужащий         1459\n",
       "безработный            2\n",
       "предприниматель        2\n",
       "в декрете              1\n",
       "студент                1\n",
       "Name: income_type, dtype: int64"
      ]
     },
     "execution_count": 32,
     "metadata": {},
     "output_type": "execute_result"
    }
   ],
   "source": [
    "data['income_type'].value_counts()"
   ]
  },
  {
   "cell_type": "code",
   "execution_count": 33,
   "id": "5e741ae5",
   "metadata": {},
   "outputs": [
    {
     "data": {
      "text/plain": [
       "count     21525.000000\n",
       "mean      60377.561580\n",
       "std      133257.545602\n",
       "min          24.000000\n",
       "25%        1025.000000\n",
       "50%        2194.000000\n",
       "75%        4779.000000\n",
       "max      401755.000000\n",
       "Name: days_employed, dtype: float64"
      ]
     },
     "execution_count": 33,
     "metadata": {},
     "output_type": "execute_result"
    }
   ],
   "source": [
    "data['days_employed'].describe()"
   ]
  },
  {
   "cell_type": "markdown",
   "id": "d5a10504",
   "metadata": {},
   "source": [
    "`family_status_id`"
   ]
  },
  {
   "cell_type": "markdown",
   "id": "301834e9",
   "metadata": {},
   "source": [
    "В данном столбце есть значения, которые явно являются ошибочные, к примеру: максимальный стаж равен 401755 дней, что ровняется ~ 1100, что свидетельствует об ошибке при вводе данных в таблицу. Данный столбец не участвует в процессе анализа данных по данной таблице. Но в дальнейшем, стоило бы уточнить у человека, предоставившего эти данные, откуда взялись даннные цифры. (P.S. а вдруг у них есть люди которые так долго у них работают..(бедные люди))"
   ]
  },
  {
   "cell_type": "code",
   "execution_count": 34,
   "id": "23e697ad",
   "metadata": {
    "scrolled": true
   },
   "outputs": [
    {
     "data": {
      "text/plain": [
       "0    12380\n",
       "1     4177\n",
       "4     2813\n",
       "3     1195\n",
       "2      960\n",
       "Name: family_status_id, dtype: int64"
      ]
     },
     "execution_count": 34,
     "metadata": {},
     "output_type": "execute_result"
    }
   ],
   "source": [
    "data['family_status_id'].value_counts()"
   ]
  },
  {
   "cell_type": "markdown",
   "id": "066d3929",
   "metadata": {},
   "source": [
    "`debt`"
   ]
  },
  {
   "cell_type": "code",
   "execution_count": 35,
   "id": "0e34c0a4",
   "metadata": {},
   "outputs": [
    {
     "data": {
      "text/plain": [
       "0    19784\n",
       "1     1741\n",
       "Name: debt, dtype: int64"
      ]
     },
     "execution_count": 35,
     "metadata": {},
     "output_type": "execute_result"
    }
   ],
   "source": [
    "data['debt'].value_counts()"
   ]
  },
  {
   "cell_type": "markdown",
   "id": "a54d1317",
   "metadata": {},
   "source": [
    "`total_income`"
   ]
  },
  {
   "cell_type": "code",
   "execution_count": 36,
   "id": "8d3f322c",
   "metadata": {},
   "outputs": [
    {
     "data": {
      "text/plain": [
       "142594    1105\n",
       "172357     509\n",
       "118514     414\n",
       "150447     147\n",
       "144533       3\n",
       "          ... \n",
       "179138       1\n",
       "61724        1\n",
       "99269        1\n",
       "151371       1\n",
       "126820       1\n",
       "Name: total_income, Length: 18608, dtype: int64"
      ]
     },
     "execution_count": 36,
     "metadata": {},
     "output_type": "execute_result"
    }
   ],
   "source": [
    "data['total_income'].value_counts()"
   ]
  },
  {
   "cell_type": "code",
   "execution_count": 37,
   "id": "51be7092",
   "metadata": {
    "scrolled": true
   },
   "outputs": [
    {
     "data": {
      "text/plain": [
       "72"
      ]
     },
     "execution_count": 37,
     "metadata": {},
     "output_type": "execute_result"
    }
   ],
   "source": [
    "data.duplicated().sum()"
   ]
  },
  {
   "cell_type": "code",
   "execution_count": 38,
   "id": "d7c42a65",
   "metadata": {
    "scrolled": false
   },
   "outputs": [],
   "source": [
    "data = data.drop_duplicates().reset_index(drop=True)"
   ]
  },
  {
   "cell_type": "code",
   "execution_count": 39,
   "id": "ac03ca73",
   "metadata": {},
   "outputs": [
    {
     "data": {
      "text/plain": [
       "0"
      ]
     },
     "execution_count": 39,
     "metadata": {},
     "output_type": "execute_result"
    }
   ],
   "source": [
    "data.duplicated().sum()"
   ]
  },
  {
   "cell_type": "markdown",
   "id": "ae2f753f",
   "metadata": {},
   "source": [
    "Сначала методом `drop_duplicates().reset_index(drop=True)` удалили все повторяющиеся строки\n",
    "\n",
    "Далее выявил все неявные дупликаты методом `value_counts`. В столбец `education` были найдены одни и те же значени, записанные в разном регистре и методом `str.lower()` все было приведено к одному регистру.\n",
    "\n",
    "Также были проверены остальные столбцы в которых могли бы быть неявные дубликаты.\n",
    "\n",
    "Дубликаты могли появиться по абсолютно разным причинам:\n",
    "* Сбой системы;\n",
    "* Ошибка специалиста, который предоставил данные;\n",
    "* Если таблица заполнялась людьми лично, то клиент банка из-за разрыва соединения, или просто случайно нажать несколько раз на \"ок\" при введение данных на сайте;\n",
    "* Пропуски значений могли появитья по причине сбоя системы или нежелания клиента указать определенные данные (к примеру: опосаясь, что именно эти данные повлияют на решение банка о выдаче кредита)"
   ]
  },
  {
   "cell_type": "markdown",
   "id": "91673703",
   "metadata": {},
   "source": [
    "### Шаг 2.5. Формирование дополнительных датафреймов словарей, декомпозиция исходного датафрейма."
   ]
  },
  {
   "cell_type": "code",
   "execution_count": 40,
   "id": "e035317d",
   "metadata": {},
   "outputs": [
    {
     "data": {
      "text/html": [
       "<div>\n",
       "<style scoped>\n",
       "    .dataframe tbody tr th:only-of-type {\n",
       "        vertical-align: middle;\n",
       "    }\n",
       "\n",
       "    .dataframe tbody tr th {\n",
       "        vertical-align: top;\n",
       "    }\n",
       "\n",
       "    .dataframe thead th {\n",
       "        text-align: right;\n",
       "    }\n",
       "</style>\n",
       "<table border=\"1\" class=\"dataframe\">\n",
       "  <thead>\n",
       "    <tr style=\"text-align: right;\">\n",
       "      <th></th>\n",
       "      <th>education</th>\n",
       "      <th>education_id</th>\n",
       "    </tr>\n",
       "  </thead>\n",
       "  <tbody>\n",
       "    <tr>\n",
       "      <th>0</th>\n",
       "      <td>высшее</td>\n",
       "      <td>0</td>\n",
       "    </tr>\n",
       "    <tr>\n",
       "      <th>1</th>\n",
       "      <td>среднее</td>\n",
       "      <td>1</td>\n",
       "    </tr>\n",
       "    <tr>\n",
       "      <th>2</th>\n",
       "      <td>неоконченное высшее</td>\n",
       "      <td>2</td>\n",
       "    </tr>\n",
       "    <tr>\n",
       "      <th>3</th>\n",
       "      <td>начальное</td>\n",
       "      <td>3</td>\n",
       "    </tr>\n",
       "    <tr>\n",
       "      <th>4</th>\n",
       "      <td>ученая степень</td>\n",
       "      <td>4</td>\n",
       "    </tr>\n",
       "  </tbody>\n",
       "</table>\n",
       "</div>"
      ],
      "text/plain": [
       "             education  education_id\n",
       "0               высшее             0\n",
       "1              среднее             1\n",
       "2  неоконченное высшее             2\n",
       "3            начальное             3\n",
       "4       ученая степень             4"
      ]
     },
     "execution_count": 40,
     "metadata": {},
     "output_type": "execute_result"
    }
   ],
   "source": [
    "education = data[['education', 'education_id']]\n",
    "education = education.drop_duplicates().reset_index(drop=True)\n",
    "education.head(10)"
   ]
  },
  {
   "cell_type": "code",
   "execution_count": 41,
   "id": "f6f1312c",
   "metadata": {
    "scrolled": true
   },
   "outputs": [
    {
     "data": {
      "text/html": [
       "<div>\n",
       "<style scoped>\n",
       "    .dataframe tbody tr th:only-of-type {\n",
       "        vertical-align: middle;\n",
       "    }\n",
       "\n",
       "    .dataframe tbody tr th {\n",
       "        vertical-align: top;\n",
       "    }\n",
       "\n",
       "    .dataframe thead th {\n",
       "        text-align: right;\n",
       "    }\n",
       "</style>\n",
       "<table border=\"1\" class=\"dataframe\">\n",
       "  <thead>\n",
       "    <tr style=\"text-align: right;\">\n",
       "      <th></th>\n",
       "      <th>family_status</th>\n",
       "      <th>family_status_id</th>\n",
       "    </tr>\n",
       "  </thead>\n",
       "  <tbody>\n",
       "    <tr>\n",
       "      <th>0</th>\n",
       "      <td>женат / замужем</td>\n",
       "      <td>0</td>\n",
       "    </tr>\n",
       "    <tr>\n",
       "      <th>1</th>\n",
       "      <td>гражданский брак</td>\n",
       "      <td>1</td>\n",
       "    </tr>\n",
       "    <tr>\n",
       "      <th>2</th>\n",
       "      <td>вдовец / вдова</td>\n",
       "      <td>2</td>\n",
       "    </tr>\n",
       "    <tr>\n",
       "      <th>3</th>\n",
       "      <td>в разводе</td>\n",
       "      <td>3</td>\n",
       "    </tr>\n",
       "    <tr>\n",
       "      <th>4</th>\n",
       "      <td>Не женат / не замужем</td>\n",
       "      <td>4</td>\n",
       "    </tr>\n",
       "  </tbody>\n",
       "</table>\n",
       "</div>"
      ],
      "text/plain": [
       "           family_status  family_status_id\n",
       "0        женат / замужем                 0\n",
       "1       гражданский брак                 1\n",
       "2         вдовец / вдова                 2\n",
       "3              в разводе                 3\n",
       "4  Не женат / не замужем                 4"
      ]
     },
     "execution_count": 41,
     "metadata": {},
     "output_type": "execute_result"
    }
   ],
   "source": [
    "family_status = data[['family_status', 'family_status_id']]\n",
    "family_status = family_status.drop_duplicates().reset_index(drop=True)\n",
    "family_status.head(10)"
   ]
  },
  {
   "cell_type": "code",
   "execution_count": 42,
   "id": "5b78ddc7",
   "metadata": {},
   "outputs": [
    {
     "data": {
      "text/html": [
       "<div>\n",
       "<style scoped>\n",
       "    .dataframe tbody tr th:only-of-type {\n",
       "        vertical-align: middle;\n",
       "    }\n",
       "\n",
       "    .dataframe tbody tr th {\n",
       "        vertical-align: top;\n",
       "    }\n",
       "\n",
       "    .dataframe thead th {\n",
       "        text-align: right;\n",
       "    }\n",
       "</style>\n",
       "<table border=\"1\" class=\"dataframe\">\n",
       "  <thead>\n",
       "    <tr style=\"text-align: right;\">\n",
       "      <th></th>\n",
       "      <th>children</th>\n",
       "      <th>days_employed</th>\n",
       "      <th>age</th>\n",
       "      <th>education_id</th>\n",
       "      <th>family_status_id</th>\n",
       "      <th>gender</th>\n",
       "      <th>income_type</th>\n",
       "      <th>debt</th>\n",
       "      <th>total_income</th>\n",
       "      <th>purpose</th>\n",
       "    </tr>\n",
       "  </thead>\n",
       "  <tbody>\n",
       "    <tr>\n",
       "      <th>0</th>\n",
       "      <td>1</td>\n",
       "      <td>8437</td>\n",
       "      <td>42.0</td>\n",
       "      <td>0</td>\n",
       "      <td>0</td>\n",
       "      <td>F</td>\n",
       "      <td>сотрудник</td>\n",
       "      <td>0</td>\n",
       "      <td>253875</td>\n",
       "      <td>покупка жилья</td>\n",
       "    </tr>\n",
       "    <tr>\n",
       "      <th>1</th>\n",
       "      <td>1</td>\n",
       "      <td>4024</td>\n",
       "      <td>36.0</td>\n",
       "      <td>1</td>\n",
       "      <td>0</td>\n",
       "      <td>F</td>\n",
       "      <td>сотрудник</td>\n",
       "      <td>0</td>\n",
       "      <td>112080</td>\n",
       "      <td>приобретение автомобиля</td>\n",
       "    </tr>\n",
       "    <tr>\n",
       "      <th>2</th>\n",
       "      <td>0</td>\n",
       "      <td>5623</td>\n",
       "      <td>33.0</td>\n",
       "      <td>1</td>\n",
       "      <td>0</td>\n",
       "      <td>M</td>\n",
       "      <td>сотрудник</td>\n",
       "      <td>0</td>\n",
       "      <td>145885</td>\n",
       "      <td>покупка жилья</td>\n",
       "    </tr>\n",
       "    <tr>\n",
       "      <th>3</th>\n",
       "      <td>3</td>\n",
       "      <td>4124</td>\n",
       "      <td>32.0</td>\n",
       "      <td>1</td>\n",
       "      <td>0</td>\n",
       "      <td>M</td>\n",
       "      <td>сотрудник</td>\n",
       "      <td>0</td>\n",
       "      <td>267628</td>\n",
       "      <td>дополнительное образование</td>\n",
       "    </tr>\n",
       "    <tr>\n",
       "      <th>4</th>\n",
       "      <td>0</td>\n",
       "      <td>340266</td>\n",
       "      <td>53.0</td>\n",
       "      <td>1</td>\n",
       "      <td>1</td>\n",
       "      <td>F</td>\n",
       "      <td>пенсионер</td>\n",
       "      <td>0</td>\n",
       "      <td>158616</td>\n",
       "      <td>сыграть свадьбу</td>\n",
       "    </tr>\n",
       "    <tr>\n",
       "      <th>5</th>\n",
       "      <td>0</td>\n",
       "      <td>926</td>\n",
       "      <td>27.0</td>\n",
       "      <td>0</td>\n",
       "      <td>1</td>\n",
       "      <td>M</td>\n",
       "      <td>компаньон</td>\n",
       "      <td>0</td>\n",
       "      <td>255763</td>\n",
       "      <td>покупка жилья</td>\n",
       "    </tr>\n",
       "    <tr>\n",
       "      <th>6</th>\n",
       "      <td>0</td>\n",
       "      <td>2879</td>\n",
       "      <td>43.0</td>\n",
       "      <td>0</td>\n",
       "      <td>0</td>\n",
       "      <td>F</td>\n",
       "      <td>компаньон</td>\n",
       "      <td>0</td>\n",
       "      <td>240525</td>\n",
       "      <td>операции с жильем</td>\n",
       "    </tr>\n",
       "    <tr>\n",
       "      <th>7</th>\n",
       "      <td>0</td>\n",
       "      <td>152</td>\n",
       "      <td>50.0</td>\n",
       "      <td>1</td>\n",
       "      <td>0</td>\n",
       "      <td>M</td>\n",
       "      <td>сотрудник</td>\n",
       "      <td>0</td>\n",
       "      <td>135823</td>\n",
       "      <td>образование</td>\n",
       "    </tr>\n",
       "    <tr>\n",
       "      <th>8</th>\n",
       "      <td>2</td>\n",
       "      <td>6929</td>\n",
       "      <td>35.0</td>\n",
       "      <td>0</td>\n",
       "      <td>1</td>\n",
       "      <td>F</td>\n",
       "      <td>сотрудник</td>\n",
       "      <td>0</td>\n",
       "      <td>95856</td>\n",
       "      <td>на проведение свадьбы</td>\n",
       "    </tr>\n",
       "    <tr>\n",
       "      <th>9</th>\n",
       "      <td>0</td>\n",
       "      <td>2188</td>\n",
       "      <td>41.0</td>\n",
       "      <td>1</td>\n",
       "      <td>0</td>\n",
       "      <td>M</td>\n",
       "      <td>сотрудник</td>\n",
       "      <td>0</td>\n",
       "      <td>144425</td>\n",
       "      <td>покупка жилья для семьи</td>\n",
       "    </tr>\n",
       "  </tbody>\n",
       "</table>\n",
       "</div>"
      ],
      "text/plain": [
       "   children  days_employed   age  education_id  family_status_id gender  \\\n",
       "0         1           8437  42.0             0                 0      F   \n",
       "1         1           4024  36.0             1                 0      F   \n",
       "2         0           5623  33.0             1                 0      M   \n",
       "3         3           4124  32.0             1                 0      M   \n",
       "4         0         340266  53.0             1                 1      F   \n",
       "5         0            926  27.0             0                 1      M   \n",
       "6         0           2879  43.0             0                 0      F   \n",
       "7         0            152  50.0             1                 0      M   \n",
       "8         2           6929  35.0             0                 1      F   \n",
       "9         0           2188  41.0             1                 0      M   \n",
       "\n",
       "  income_type  debt  total_income                     purpose  \n",
       "0   сотрудник     0        253875               покупка жилья  \n",
       "1   сотрудник     0        112080     приобретение автомобиля  \n",
       "2   сотрудник     0        145885               покупка жилья  \n",
       "3   сотрудник     0        267628  дополнительное образование  \n",
       "4   пенсионер     0        158616             сыграть свадьбу  \n",
       "5   компаньон     0        255763               покупка жилья  \n",
       "6   компаньон     0        240525           операции с жильем  \n",
       "7   сотрудник     0        135823                 образование  \n",
       "8   сотрудник     0         95856       на проведение свадьбы  \n",
       "9   сотрудник     0        144425     покупка жилья для семьи  "
      ]
     },
     "execution_count": 42,
     "metadata": {},
     "output_type": "execute_result"
    }
   ],
   "source": [
    "data = data.drop(['education', 'family_status'], axis=1)\n",
    "data.head(10)"
   ]
  },
  {
   "cell_type": "markdown",
   "id": "112e483c",
   "metadata": {},
   "source": [
    "### Шаг 2.6. Категоризация дохода."
   ]
  },
  {
   "cell_type": "markdown",
   "id": "d0fd10af",
   "metadata": {},
   "source": [
    "`total_income_category`"
   ]
  },
  {
   "cell_type": "code",
   "execution_count": 43,
   "id": "321dae06",
   "metadata": {},
   "outputs": [],
   "source": [
    "def total_income_category(income):\n",
    "    \n",
    "    \n",
    "    #0–30000 — 'E'; \n",
    "    #30001–50000 — 'D'; \n",
    "    #50001–200000 — 'C';\n",
    "    #200001–1000000 — 'B';\n",
    "    #1000001 и выше — 'A'.\n",
    "    \n",
    "    if income <= 30000:\n",
    "        return 'E'\n",
    "    if income <= 50000:\n",
    "        return 'D'\n",
    "    if income <= 200000:\n",
    "        return 'C'\n",
    "    if income <= 1000000:\n",
    "        return 'B'\n",
    "    if income > 1000000:\n",
    "        return 'A'"
   ]
  },
  {
   "cell_type": "code",
   "execution_count": 44,
   "id": "6e8ad55a",
   "metadata": {},
   "outputs": [],
   "source": [
    "data['total_income_category'] = data['total_income'].apply(total_income_category)"
   ]
  },
  {
   "cell_type": "code",
   "execution_count": 45,
   "id": "8b7f5064",
   "metadata": {},
   "outputs": [
    {
     "data": {
      "text/html": [
       "<div>\n",
       "<style scoped>\n",
       "    .dataframe tbody tr th:only-of-type {\n",
       "        vertical-align: middle;\n",
       "    }\n",
       "\n",
       "    .dataframe tbody tr th {\n",
       "        vertical-align: top;\n",
       "    }\n",
       "\n",
       "    .dataframe thead th {\n",
       "        text-align: right;\n",
       "    }\n",
       "</style>\n",
       "<table border=\"1\" class=\"dataframe\">\n",
       "  <thead>\n",
       "    <tr style=\"text-align: right;\">\n",
       "      <th></th>\n",
       "      <th>children</th>\n",
       "      <th>days_employed</th>\n",
       "      <th>age</th>\n",
       "      <th>education_id</th>\n",
       "      <th>family_status_id</th>\n",
       "      <th>gender</th>\n",
       "      <th>income_type</th>\n",
       "      <th>debt</th>\n",
       "      <th>total_income</th>\n",
       "      <th>purpose</th>\n",
       "      <th>total_income_category</th>\n",
       "    </tr>\n",
       "  </thead>\n",
       "  <tbody>\n",
       "    <tr>\n",
       "      <th>0</th>\n",
       "      <td>1</td>\n",
       "      <td>8437</td>\n",
       "      <td>42.0</td>\n",
       "      <td>0</td>\n",
       "      <td>0</td>\n",
       "      <td>F</td>\n",
       "      <td>сотрудник</td>\n",
       "      <td>0</td>\n",
       "      <td>253875</td>\n",
       "      <td>покупка жилья</td>\n",
       "      <td>B</td>\n",
       "    </tr>\n",
       "    <tr>\n",
       "      <th>1</th>\n",
       "      <td>1</td>\n",
       "      <td>4024</td>\n",
       "      <td>36.0</td>\n",
       "      <td>1</td>\n",
       "      <td>0</td>\n",
       "      <td>F</td>\n",
       "      <td>сотрудник</td>\n",
       "      <td>0</td>\n",
       "      <td>112080</td>\n",
       "      <td>приобретение автомобиля</td>\n",
       "      <td>C</td>\n",
       "    </tr>\n",
       "    <tr>\n",
       "      <th>2</th>\n",
       "      <td>0</td>\n",
       "      <td>5623</td>\n",
       "      <td>33.0</td>\n",
       "      <td>1</td>\n",
       "      <td>0</td>\n",
       "      <td>M</td>\n",
       "      <td>сотрудник</td>\n",
       "      <td>0</td>\n",
       "      <td>145885</td>\n",
       "      <td>покупка жилья</td>\n",
       "      <td>C</td>\n",
       "    </tr>\n",
       "    <tr>\n",
       "      <th>3</th>\n",
       "      <td>3</td>\n",
       "      <td>4124</td>\n",
       "      <td>32.0</td>\n",
       "      <td>1</td>\n",
       "      <td>0</td>\n",
       "      <td>M</td>\n",
       "      <td>сотрудник</td>\n",
       "      <td>0</td>\n",
       "      <td>267628</td>\n",
       "      <td>дополнительное образование</td>\n",
       "      <td>B</td>\n",
       "    </tr>\n",
       "    <tr>\n",
       "      <th>4</th>\n",
       "      <td>0</td>\n",
       "      <td>340266</td>\n",
       "      <td>53.0</td>\n",
       "      <td>1</td>\n",
       "      <td>1</td>\n",
       "      <td>F</td>\n",
       "      <td>пенсионер</td>\n",
       "      <td>0</td>\n",
       "      <td>158616</td>\n",
       "      <td>сыграть свадьбу</td>\n",
       "      <td>C</td>\n",
       "    </tr>\n",
       "    <tr>\n",
       "      <th>5</th>\n",
       "      <td>0</td>\n",
       "      <td>926</td>\n",
       "      <td>27.0</td>\n",
       "      <td>0</td>\n",
       "      <td>1</td>\n",
       "      <td>M</td>\n",
       "      <td>компаньон</td>\n",
       "      <td>0</td>\n",
       "      <td>255763</td>\n",
       "      <td>покупка жилья</td>\n",
       "      <td>B</td>\n",
       "    </tr>\n",
       "    <tr>\n",
       "      <th>6</th>\n",
       "      <td>0</td>\n",
       "      <td>2879</td>\n",
       "      <td>43.0</td>\n",
       "      <td>0</td>\n",
       "      <td>0</td>\n",
       "      <td>F</td>\n",
       "      <td>компаньон</td>\n",
       "      <td>0</td>\n",
       "      <td>240525</td>\n",
       "      <td>операции с жильем</td>\n",
       "      <td>B</td>\n",
       "    </tr>\n",
       "    <tr>\n",
       "      <th>7</th>\n",
       "      <td>0</td>\n",
       "      <td>152</td>\n",
       "      <td>50.0</td>\n",
       "      <td>1</td>\n",
       "      <td>0</td>\n",
       "      <td>M</td>\n",
       "      <td>сотрудник</td>\n",
       "      <td>0</td>\n",
       "      <td>135823</td>\n",
       "      <td>образование</td>\n",
       "      <td>C</td>\n",
       "    </tr>\n",
       "    <tr>\n",
       "      <th>8</th>\n",
       "      <td>2</td>\n",
       "      <td>6929</td>\n",
       "      <td>35.0</td>\n",
       "      <td>0</td>\n",
       "      <td>1</td>\n",
       "      <td>F</td>\n",
       "      <td>сотрудник</td>\n",
       "      <td>0</td>\n",
       "      <td>95856</td>\n",
       "      <td>на проведение свадьбы</td>\n",
       "      <td>C</td>\n",
       "    </tr>\n",
       "    <tr>\n",
       "      <th>9</th>\n",
       "      <td>0</td>\n",
       "      <td>2188</td>\n",
       "      <td>41.0</td>\n",
       "      <td>1</td>\n",
       "      <td>0</td>\n",
       "      <td>M</td>\n",
       "      <td>сотрудник</td>\n",
       "      <td>0</td>\n",
       "      <td>144425</td>\n",
       "      <td>покупка жилья для семьи</td>\n",
       "      <td>C</td>\n",
       "    </tr>\n",
       "  </tbody>\n",
       "</table>\n",
       "</div>"
      ],
      "text/plain": [
       "   children  days_employed   age  education_id  family_status_id gender  \\\n",
       "0         1           8437  42.0             0                 0      F   \n",
       "1         1           4024  36.0             1                 0      F   \n",
       "2         0           5623  33.0             1                 0      M   \n",
       "3         3           4124  32.0             1                 0      M   \n",
       "4         0         340266  53.0             1                 1      F   \n",
       "5         0            926  27.0             0                 1      M   \n",
       "6         0           2879  43.0             0                 0      F   \n",
       "7         0            152  50.0             1                 0      M   \n",
       "8         2           6929  35.0             0                 1      F   \n",
       "9         0           2188  41.0             1                 0      M   \n",
       "\n",
       "  income_type  debt  total_income                     purpose  \\\n",
       "0   сотрудник     0        253875               покупка жилья   \n",
       "1   сотрудник     0        112080     приобретение автомобиля   \n",
       "2   сотрудник     0        145885               покупка жилья   \n",
       "3   сотрудник     0        267628  дополнительное образование   \n",
       "4   пенсионер     0        158616             сыграть свадьбу   \n",
       "5   компаньон     0        255763               покупка жилья   \n",
       "6   компаньон     0        240525           операции с жильем   \n",
       "7   сотрудник     0        135823                 образование   \n",
       "8   сотрудник     0         95856       на проведение свадьбы   \n",
       "9   сотрудник     0        144425     покупка жилья для семьи   \n",
       "\n",
       "  total_income_category  \n",
       "0                     B  \n",
       "1                     C  \n",
       "2                     C  \n",
       "3                     B  \n",
       "4                     C  \n",
       "5                     B  \n",
       "6                     B  \n",
       "7                     C  \n",
       "8                     C  \n",
       "9                     C  "
      ]
     },
     "execution_count": 45,
     "metadata": {},
     "output_type": "execute_result"
    }
   ],
   "source": [
    "data.head(10)"
   ]
  },
  {
   "cell_type": "markdown",
   "id": "b89389ea",
   "metadata": {},
   "source": [
    "### Шаг 2.7. Категоризация целей кредита."
   ]
  },
  {
   "cell_type": "code",
   "execution_count": 46,
   "id": "45083bae",
   "metadata": {},
   "outputs": [
    {
     "data": {
      "text/plain": [
       "свадьба                                   791\n",
       "на проведение свадьбы                     767\n",
       "сыграть свадьбу                           765\n",
       "операции с недвижимостью                  675\n",
       "покупка коммерческой недвижимости         661\n",
       "операции с жильем                         652\n",
       "покупка жилья для сдачи                   651\n",
       "операции с коммерческой недвижимостью     650\n",
       "покупка жилья                             646\n",
       "жилье                                     646\n",
       "покупка жилья для семьи                   638\n",
       "строительство собственной недвижимости    635\n",
       "недвижимость                              633\n",
       "операции со своей недвижимостью           627\n",
       "строительство жилой недвижимости          624\n",
       "покупка недвижимости                      621\n",
       "покупка своего жилья                      620\n",
       "строительство недвижимости                619\n",
       "ремонт жилью                              607\n",
       "покупка жилой недвижимости                606\n",
       "на покупку своего автомобиля              505\n",
       "заняться высшим образованием              496\n",
       "автомобиль                                494\n",
       "сделка с подержанным автомобилем          486\n",
       "автомобили                                478\n",
       "на покупку подержанного автомобиля        478\n",
       "свой автомобиль                           478\n",
       "на покупку автомобиля                     471\n",
       "приобретение автомобиля                   461\n",
       "дополнительное образование                460\n",
       "сделка с автомобилем                      455\n",
       "высшее образование                        452\n",
       "образование                               447\n",
       "получение дополнительного образования     446\n",
       "получение образования                     442\n",
       "профильное образование                    436\n",
       "получение высшего образования             426\n",
       "заняться образованием                     408\n",
       "Name: purpose, dtype: int64"
      ]
     },
     "execution_count": 46,
     "metadata": {},
     "output_type": "execute_result"
    }
   ],
   "source": [
    "data['purpose'].value_counts()"
   ]
  },
  {
   "cell_type": "code",
   "execution_count": 47,
   "id": "8bfb6b78",
   "metadata": {},
   "outputs": [],
   "source": [
    "def purpose_category(purpose):\n",
    "    \n",
    "    #'операции с автомобилем',\n",
    "    #'операции с недвижимостью',\n",
    "    #'проведение свадьбы',\n",
    "    #'получение образования'\n",
    "    \n",
    "    if 'свадьб' in purpose:\n",
    "        return 'проведение свадьбы'\n",
    "    if 'недвиж' in purpose:\n",
    "        return 'операции с недвижимостью'\n",
    "    if 'жиль' in purpose:\n",
    "        return 'операции с недвижимостью'\n",
    "    if 'авто' in purpose:\n",
    "        return 'операции с автомобилем'\n",
    "    if 'образов' in purpose:\n",
    "        return 'получение образования'\n",
    "    \n",
    "\n",
    "data['purpose_category'] = data['purpose'].apply(purpose_category)"
   ]
  },
  {
   "cell_type": "code",
   "execution_count": 48,
   "id": "e86d585c",
   "metadata": {},
   "outputs": [
    {
     "data": {
      "text/plain": [
       "операции с недвижимостью    10811\n",
       "операции с автомобилем       4306\n",
       "получение образования        4013\n",
       "проведение свадьбы           2323\n",
       "Name: purpose_category, dtype: int64"
      ]
     },
     "execution_count": 48,
     "metadata": {},
     "output_type": "execute_result"
    }
   ],
   "source": [
    "data['purpose_category'].value_counts()"
   ]
  },
  {
   "cell_type": "markdown",
   "id": "4fa45632",
   "metadata": {},
   "source": [
    "### Ответы на вопросы."
   ]
  },
  {
   "cell_type": "markdown",
   "id": "c1bacf49",
   "metadata": {},
   "source": [
    "##### Вопрос 1: Есть ли зависимость между количеством детей и возвратом кредита в срок?"
   ]
  },
  {
   "cell_type": "code",
   "execution_count": 53,
   "id": "636eda8d",
   "metadata": {
    "scrolled": false
   },
   "outputs": [
    {
     "data": {
      "text/html": [
       "<div>\n",
       "<style scoped>\n",
       "    .dataframe tbody tr th:only-of-type {\n",
       "        vertical-align: middle;\n",
       "    }\n",
       "\n",
       "    .dataframe tbody tr th {\n",
       "        vertical-align: top;\n",
       "    }\n",
       "\n",
       "    .dataframe thead tr th {\n",
       "        text-align: left;\n",
       "    }\n",
       "\n",
       "    .dataframe thead tr:last-of-type th {\n",
       "        text-align: right;\n",
       "    }\n",
       "</style>\n",
       "<table border=\"1\" class=\"dataframe\">\n",
       "  <thead>\n",
       "    <tr>\n",
       "      <th></th>\n",
       "      <th>count</th>\n",
       "      <th>sum</th>\n",
       "      <th>mean</th>\n",
       "    </tr>\n",
       "    <tr>\n",
       "      <th></th>\n",
       "      <th>debt</th>\n",
       "      <th>debt</th>\n",
       "      <th>debt</th>\n",
       "    </tr>\n",
       "    <tr>\n",
       "      <th>children</th>\n",
       "      <th></th>\n",
       "      <th></th>\n",
       "      <th></th>\n",
       "    </tr>\n",
       "  </thead>\n",
       "  <tbody>\n",
       "    <tr>\n",
       "      <th>0</th>\n",
       "      <td>14090</td>\n",
       "      <td>1063</td>\n",
       "      <td>0.075444</td>\n",
       "    </tr>\n",
       "    <tr>\n",
       "      <th>1</th>\n",
       "      <td>4855</td>\n",
       "      <td>445</td>\n",
       "      <td>0.091658</td>\n",
       "    </tr>\n",
       "    <tr>\n",
       "      <th>2</th>\n",
       "      <td>2128</td>\n",
       "      <td>202</td>\n",
       "      <td>0.094925</td>\n",
       "    </tr>\n",
       "    <tr>\n",
       "      <th>3</th>\n",
       "      <td>330</td>\n",
       "      <td>27</td>\n",
       "      <td>0.081818</td>\n",
       "    </tr>\n",
       "    <tr>\n",
       "      <th>4</th>\n",
       "      <td>41</td>\n",
       "      <td>4</td>\n",
       "      <td>0.097561</td>\n",
       "    </tr>\n",
       "    <tr>\n",
       "      <th>5</th>\n",
       "      <td>9</td>\n",
       "      <td>0</td>\n",
       "      <td>0.000000</td>\n",
       "    </tr>\n",
       "  </tbody>\n",
       "</table>\n",
       "</div>"
      ],
      "text/plain": [
       "          count   sum      mean\n",
       "           debt  debt      debt\n",
       "children                       \n",
       "0         14090  1063  0.075444\n",
       "1          4855   445  0.091658\n",
       "2          2128   202  0.094925\n",
       "3           330    27  0.081818\n",
       "4            41     4  0.097561\n",
       "5             9     0  0.000000"
      ]
     },
     "execution_count": 53,
     "metadata": {},
     "output_type": "execute_result"
    }
   ],
   "source": [
    "data_pivot1 = data.pivot_table(index='children', values='debt', aggfunc=['count', 'sum', 'mean'])\n",
    "data_pivot1"
   ]
  },
  {
   "cell_type": "markdown",
   "id": "a7caa434",
   "metadata": {},
   "source": [
    "Изучив данные сводной таблицы количестве детей и факте наличия задолжностей по кредитам, можно сделать определенные выводы:\n",
    "* Люди, имеющие 4 ребенка, чаще всего не возвращают кредит;\n",
    "* Люди, имеющие 5 детей, не имеют задолжностей по кредитам;"
   ]
  },
  {
   "cell_type": "markdown",
   "id": "d7b4a763",
   "metadata": {},
   "source": [
    "##### Вопрос 2: Есть ли зависимость между семейным положением и возвратом кредита в срок?"
   ]
  },
  {
   "cell_type": "code",
   "execution_count": 54,
   "id": "2e9f0c94",
   "metadata": {},
   "outputs": [],
   "source": [
    "data_pivot2 = data.pivot_table(index='family_status_id', values='debt', aggfunc=['count', 'sum', 'mean'])"
   ]
  },
  {
   "cell_type": "code",
   "execution_count": 55,
   "id": "6cdd7a7c",
   "metadata": {},
   "outputs": [
    {
     "name": "stderr",
     "output_type": "stream",
     "text": [
      "/opt/conda/lib/python3.9/site-packages/pandas/core/reshape/merge.py:648: UserWarning: merging between different levels can give an unintended result (1 levels on the left,2 on the right)\n",
      "  warnings.warn(msg, UserWarning)\n"
     ]
    }
   ],
   "source": [
    "data_pivot2 = family_status.merge(data_pivot2, on='family_status_id')"
   ]
  },
  {
   "cell_type": "code",
   "execution_count": 56,
   "id": "4bbb747b",
   "metadata": {},
   "outputs": [
    {
     "data": {
      "text/html": [
       "<div>\n",
       "<style scoped>\n",
       "    .dataframe tbody tr th:only-of-type {\n",
       "        vertical-align: middle;\n",
       "    }\n",
       "\n",
       "    .dataframe tbody tr th {\n",
       "        vertical-align: top;\n",
       "    }\n",
       "\n",
       "    .dataframe thead th {\n",
       "        text-align: right;\n",
       "    }\n",
       "</style>\n",
       "<table border=\"1\" class=\"dataframe\">\n",
       "  <thead>\n",
       "    <tr style=\"text-align: right;\">\n",
       "      <th></th>\n",
       "      <th>family_status</th>\n",
       "      <th>family_status_id</th>\n",
       "      <th>(count, debt)</th>\n",
       "      <th>(sum, debt)</th>\n",
       "      <th>(mean, debt)</th>\n",
       "    </tr>\n",
       "  </thead>\n",
       "  <tbody>\n",
       "    <tr>\n",
       "      <th>0</th>\n",
       "      <td>женат / замужем</td>\n",
       "      <td>0</td>\n",
       "      <td>12339</td>\n",
       "      <td>931</td>\n",
       "      <td>0.075452</td>\n",
       "    </tr>\n",
       "    <tr>\n",
       "      <th>1</th>\n",
       "      <td>гражданский брак</td>\n",
       "      <td>1</td>\n",
       "      <td>4150</td>\n",
       "      <td>388</td>\n",
       "      <td>0.093494</td>\n",
       "    </tr>\n",
       "    <tr>\n",
       "      <th>2</th>\n",
       "      <td>вдовец / вдова</td>\n",
       "      <td>2</td>\n",
       "      <td>959</td>\n",
       "      <td>63</td>\n",
       "      <td>0.065693</td>\n",
       "    </tr>\n",
       "    <tr>\n",
       "      <th>3</th>\n",
       "      <td>в разводе</td>\n",
       "      <td>3</td>\n",
       "      <td>1195</td>\n",
       "      <td>85</td>\n",
       "      <td>0.071130</td>\n",
       "    </tr>\n",
       "    <tr>\n",
       "      <th>4</th>\n",
       "      <td>Не женат / не замужем</td>\n",
       "      <td>4</td>\n",
       "      <td>2810</td>\n",
       "      <td>274</td>\n",
       "      <td>0.097509</td>\n",
       "    </tr>\n",
       "  </tbody>\n",
       "</table>\n",
       "</div>"
      ],
      "text/plain": [
       "           family_status  family_status_id  (count, debt)  (sum, debt)  \\\n",
       "0        женат / замужем                 0          12339          931   \n",
       "1       гражданский брак                 1           4150          388   \n",
       "2         вдовец / вдова                 2            959           63   \n",
       "3              в разводе                 3           1195           85   \n",
       "4  Не женат / не замужем                 4           2810          274   \n",
       "\n",
       "   (mean, debt)  \n",
       "0      0.075452  \n",
       "1      0.093494  \n",
       "2      0.065693  \n",
       "3      0.071130  \n",
       "4      0.097509  "
      ]
     },
     "execution_count": 56,
     "metadata": {},
     "output_type": "execute_result"
    }
   ],
   "source": [
    "data_pivot2"
   ]
  },
  {
   "cell_type": "markdown",
   "id": "1143578e",
   "metadata": {},
   "source": [
    "Изучив данные сводной таблицы, можно сделать определенные выводы\n",
    "* Доля не женатых/не замужем людей, которые имеют задолжности по кредитам больше всего;\n",
    "* Вдовы / вдовцы имеют меньше всего задолжностей по кредитам."
   ]
  },
  {
   "cell_type": "markdown",
   "id": "545561f8",
   "metadata": {},
   "source": [
    "##### Вопрос 3: Есть ли зависимость между уровнем дохода и возвратом кредита в срок?"
   ]
  },
  {
   "cell_type": "code",
   "execution_count": 57,
   "id": "b1b06fca",
   "metadata": {},
   "outputs": [],
   "source": [
    "data_pivot3 = data.pivot_table(index='total_income_category', values='debt', aggfunc=['count', 'sum', 'mean'])"
   ]
  },
  {
   "cell_type": "code",
   "execution_count": 58,
   "id": "907254c5",
   "metadata": {},
   "outputs": [
    {
     "data": {
      "text/html": [
       "<div>\n",
       "<style scoped>\n",
       "    .dataframe tbody tr th:only-of-type {\n",
       "        vertical-align: middle;\n",
       "    }\n",
       "\n",
       "    .dataframe tbody tr th {\n",
       "        vertical-align: top;\n",
       "    }\n",
       "\n",
       "    .dataframe thead tr th {\n",
       "        text-align: left;\n",
       "    }\n",
       "\n",
       "    .dataframe thead tr:last-of-type th {\n",
       "        text-align: right;\n",
       "    }\n",
       "</style>\n",
       "<table border=\"1\" class=\"dataframe\">\n",
       "  <thead>\n",
       "    <tr>\n",
       "      <th></th>\n",
       "      <th>count</th>\n",
       "      <th>sum</th>\n",
       "      <th>mean</th>\n",
       "    </tr>\n",
       "    <tr>\n",
       "      <th></th>\n",
       "      <th>debt</th>\n",
       "      <th>debt</th>\n",
       "      <th>debt</th>\n",
       "    </tr>\n",
       "    <tr>\n",
       "      <th>total_income_category</th>\n",
       "      <th></th>\n",
       "      <th></th>\n",
       "      <th></th>\n",
       "    </tr>\n",
       "  </thead>\n",
       "  <tbody>\n",
       "    <tr>\n",
       "      <th>A</th>\n",
       "      <td>25</td>\n",
       "      <td>2</td>\n",
       "      <td>0.080000</td>\n",
       "    </tr>\n",
       "    <tr>\n",
       "      <th>B</th>\n",
       "      <td>5042</td>\n",
       "      <td>356</td>\n",
       "      <td>0.070607</td>\n",
       "    </tr>\n",
       "    <tr>\n",
       "      <th>C</th>\n",
       "      <td>16014</td>\n",
       "      <td>1360</td>\n",
       "      <td>0.084926</td>\n",
       "    </tr>\n",
       "    <tr>\n",
       "      <th>D</th>\n",
       "      <td>350</td>\n",
       "      <td>21</td>\n",
       "      <td>0.060000</td>\n",
       "    </tr>\n",
       "    <tr>\n",
       "      <th>E</th>\n",
       "      <td>22</td>\n",
       "      <td>2</td>\n",
       "      <td>0.090909</td>\n",
       "    </tr>\n",
       "  </tbody>\n",
       "</table>\n",
       "</div>"
      ],
      "text/plain": [
       "                       count   sum      mean\n",
       "                        debt  debt      debt\n",
       "total_income_category                       \n",
       "A                         25     2  0.080000\n",
       "B                       5042   356  0.070607\n",
       "C                      16014  1360  0.084926\n",
       "D                        350    21  0.060000\n",
       "E                         22     2  0.090909"
      ]
     },
     "execution_count": 58,
     "metadata": {},
     "output_type": "execute_result"
    }
   ],
   "source": [
    "data_pivot3\n",
    "\n",
    "    #0–30000 — 'E'; \n",
    "    #30001–50000 — 'D'; \n",
    "    #50001–200000 — 'C';\n",
    "    #200001–1000000 — 'B';\n",
    "    #1000001 и выше — 'A'."
   ]
  },
  {
   "cell_type": "markdown",
   "id": "390e4440",
   "metadata": {},
   "source": [
    "Изучив данные сводной таблицы и гистаграммы, можно сделать определенные выводы:\n",
    "* Люди, имеющие доходы \"0–30000\", имеют больше всего задолжностей по кредитам;\n",
    "* Люди, имеющие доходы \"30001–50000\", имеют меньше всего задолжностей по кредитам."
   ]
  },
  {
   "cell_type": "markdown",
   "id": "cc962341",
   "metadata": {},
   "source": [
    "##### Вопрос 4: Как разные цели кредита влияют на его возврат в срок?"
   ]
  },
  {
   "cell_type": "code",
   "execution_count": 59,
   "id": "a2363f00",
   "metadata": {},
   "outputs": [],
   "source": [
    "data_pivot4 = data.pivot_table(index='purpose_category', values='debt', aggfunc=['count', 'sum', 'mean'])"
   ]
  },
  {
   "cell_type": "code",
   "execution_count": 60,
   "id": "51f4f167",
   "metadata": {
    "scrolled": true
   },
   "outputs": [
    {
     "data": {
      "text/html": [
       "<div>\n",
       "<style scoped>\n",
       "    .dataframe tbody tr th:only-of-type {\n",
       "        vertical-align: middle;\n",
       "    }\n",
       "\n",
       "    .dataframe tbody tr th {\n",
       "        vertical-align: top;\n",
       "    }\n",
       "\n",
       "    .dataframe thead tr th {\n",
       "        text-align: left;\n",
       "    }\n",
       "\n",
       "    .dataframe thead tr:last-of-type th {\n",
       "        text-align: right;\n",
       "    }\n",
       "</style>\n",
       "<table border=\"1\" class=\"dataframe\">\n",
       "  <thead>\n",
       "    <tr>\n",
       "      <th></th>\n",
       "      <th>count</th>\n",
       "      <th>sum</th>\n",
       "      <th>mean</th>\n",
       "    </tr>\n",
       "    <tr>\n",
       "      <th></th>\n",
       "      <th>debt</th>\n",
       "      <th>debt</th>\n",
       "      <th>debt</th>\n",
       "    </tr>\n",
       "    <tr>\n",
       "      <th>purpose_category</th>\n",
       "      <th></th>\n",
       "      <th></th>\n",
       "      <th></th>\n",
       "    </tr>\n",
       "  </thead>\n",
       "  <tbody>\n",
       "    <tr>\n",
       "      <th>операции с автомобилем</th>\n",
       "      <td>4306</td>\n",
       "      <td>403</td>\n",
       "      <td>0.093590</td>\n",
       "    </tr>\n",
       "    <tr>\n",
       "      <th>операции с недвижимостью</th>\n",
       "      <td>10811</td>\n",
       "      <td>782</td>\n",
       "      <td>0.072334</td>\n",
       "    </tr>\n",
       "    <tr>\n",
       "      <th>получение образования</th>\n",
       "      <td>4013</td>\n",
       "      <td>370</td>\n",
       "      <td>0.092200</td>\n",
       "    </tr>\n",
       "    <tr>\n",
       "      <th>проведение свадьбы</th>\n",
       "      <td>2323</td>\n",
       "      <td>186</td>\n",
       "      <td>0.080069</td>\n",
       "    </tr>\n",
       "  </tbody>\n",
       "</table>\n",
       "</div>"
      ],
      "text/plain": [
       "                          count  sum      mean\n",
       "                           debt debt      debt\n",
       "purpose_category                              \n",
       "операции с автомобилем     4306  403  0.093590\n",
       "операции с недвижимостью  10811  782  0.072334\n",
       "получение образования      4013  370  0.092200\n",
       "проведение свадьбы         2323  186  0.080069"
      ]
     },
     "execution_count": 60,
     "metadata": {},
     "output_type": "execute_result"
    }
   ],
   "source": [
    "data_pivot4"
   ]
  },
  {
   "cell_type": "markdown",
   "id": "f55758da",
   "metadata": {},
   "source": [
    "Изучив данные сводной таблицы, можно сделать определенные выводы:\n",
    "* Больше всего задолжностей по кредитам у людей, которые берут кредит для операций с автомобилем;\n",
    "* Меньше всего задолжностей по кредитам у людей, которые берут кредит для операций с недвижимостью."
   ]
  },
  {
   "cell_type": "markdown",
   "id": "786532a2",
   "metadata": {},
   "source": [
    "## Общий вывод:"
   ]
  },
  {
   "cell_type": "markdown",
   "id": "b91583f0",
   "metadata": {},
   "source": [
    "Проанализорав данные статистики о платёжеспособности клиентов, проверили зависимости некоторых критериев, влияющих на возврат кредитов в срок.\n",
    "\n",
    "1. Зависимость между количеством детей и возвратом кредита в срок:\n",
    "* Люди, имеющие 4 ребенка, чаще всего не возвращают кредит;\n",
    "* Люди, имеющие 5 детей, не имеют задолжностей по кредитам;\n",
    "\n",
    "2. Зависимость между семейным положением и возвратом кредита в срок:\n",
    "* Доля не женатых/не замужем людей, которые имеют задолжности по кредитам больше всего;\n",
    "* Вдовы / вдовцы имеют меньше всего задолжностей по кредитам.\n",
    "\n",
    "3. Зависимость между уровнем дохода и возвратом кредита в срок:\n",
    "* Люди, имеющие доходы \"0–30000\", имеют больше всего задолжностей по кредитам;\n",
    "* Люди, имеющие доходы \"30001–50000\", имеют меньше всего задолжностей по кредитам.\n",
    "\n",
    "4. Как разные цели кредита влияют на его возврат в срок:\n",
    "* Больше всего задолжностей по кредитам у людей, которые берут кредит для операций с автомобилем;\n",
    "* Меньше всего задолжностей по кредитам у людей, которые берут кредит для операций с недвижимостью."
   ]
  }
 ],
 "metadata": {
  "ExecuteTimeLog": [
   {
    "duration": 48,
    "start_time": "2022-04-17T12:40:51.030Z"
   },
   {
    "duration": 340,
    "start_time": "2022-04-17T12:40:55.500Z"
   },
   {
    "duration": 56,
    "start_time": "2022-04-17T12:40:56.464Z"
   },
   {
    "duration": 63,
    "start_time": "2022-04-17T12:41:08.657Z"
   },
   {
    "duration": 19,
    "start_time": "2022-04-17T12:43:43.860Z"
   },
   {
    "duration": 9,
    "start_time": "2022-04-17T12:51:10.781Z"
   },
   {
    "duration": 4,
    "start_time": "2022-04-17T12:55:56.809Z"
   },
   {
    "duration": 6,
    "start_time": "2022-04-17T12:56:07.474Z"
   },
   {
    "duration": 6,
    "start_time": "2022-04-17T12:57:39.985Z"
   },
   {
    "duration": 12,
    "start_time": "2022-04-17T12:57:48.399Z"
   },
   {
    "duration": 7,
    "start_time": "2022-04-17T12:58:31.086Z"
   },
   {
    "duration": 6,
    "start_time": "2022-04-17T12:58:52.993Z"
   },
   {
    "duration": 10,
    "start_time": "2022-04-17T12:59:01.395Z"
   },
   {
    "duration": 97,
    "start_time": "2022-04-17T12:59:28.658Z"
   },
   {
    "duration": 5,
    "start_time": "2022-04-17T13:01:30.269Z"
   },
   {
    "duration": 4,
    "start_time": "2022-04-17T13:04:37.191Z"
   },
   {
    "duration": 5,
    "start_time": "2022-04-17T13:04:46.237Z"
   },
   {
    "duration": 5,
    "start_time": "2022-04-17T13:04:49.377Z"
   },
   {
    "duration": 5,
    "start_time": "2022-04-17T13:05:08.385Z"
   },
   {
    "duration": 64,
    "start_time": "2022-04-17T13:05:13.001Z"
   },
   {
    "duration": 5,
    "start_time": "2022-04-17T13:05:30.430Z"
   },
   {
    "duration": 6,
    "start_time": "2022-04-17T13:05:33.242Z"
   },
   {
    "duration": 342,
    "start_time": "2022-04-17T13:05:46.201Z"
   },
   {
    "duration": 66,
    "start_time": "2022-04-17T13:05:46.545Z"
   },
   {
    "duration": 9,
    "start_time": "2022-04-17T13:05:46.612Z"
   },
   {
    "duration": 14,
    "start_time": "2022-04-17T13:05:46.623Z"
   },
   {
    "duration": 9,
    "start_time": "2022-04-17T13:05:46.648Z"
   },
   {
    "duration": 5,
    "start_time": "2022-04-17T13:05:46.659Z"
   },
   {
    "duration": 7,
    "start_time": "2022-04-17T13:05:46.665Z"
   },
   {
    "duration": 12,
    "start_time": "2022-04-17T13:05:46.673Z"
   },
   {
    "duration": 5,
    "start_time": "2022-04-17T13:06:08.733Z"
   },
   {
    "duration": 5,
    "start_time": "2022-04-17T13:06:18.173Z"
   },
   {
    "duration": 5,
    "start_time": "2022-04-17T13:06:24.802Z"
   },
   {
    "duration": 5,
    "start_time": "2022-04-17T13:06:26.550Z"
   },
   {
    "duration": 6,
    "start_time": "2022-04-17T13:06:27.675Z"
   },
   {
    "duration": 2,
    "start_time": "2022-04-17T13:06:30.172Z"
   },
   {
    "duration": 62,
    "start_time": "2022-04-17T13:06:30.843Z"
   },
   {
    "duration": 6,
    "start_time": "2022-04-17T13:06:32.217Z"
   },
   {
    "duration": 84,
    "start_time": "2022-04-17T13:06:36.874Z"
   },
   {
    "duration": 6,
    "start_time": "2022-04-17T13:06:40.987Z"
   },
   {
    "duration": 5,
    "start_time": "2022-04-17T13:08:21.007Z"
   },
   {
    "duration": 5,
    "start_time": "2022-04-17T13:08:25.829Z"
   },
   {
    "duration": 169,
    "start_time": "2022-04-17T13:08:52.070Z"
   },
   {
    "duration": 5,
    "start_time": "2022-04-17T13:08:55.590Z"
   },
   {
    "duration": 9,
    "start_time": "2022-04-17T13:09:00.584Z"
   },
   {
    "duration": 12,
    "start_time": "2022-04-17T13:09:04.375Z"
   },
   {
    "duration": 10,
    "start_time": "2022-04-17T13:09:04.768Z"
   },
   {
    "duration": 6,
    "start_time": "2022-04-17T13:09:05.145Z"
   },
   {
    "duration": 4,
    "start_time": "2022-04-17T13:09:05.725Z"
   },
   {
    "duration": 10,
    "start_time": "2022-04-17T13:09:06.143Z"
   },
   {
    "duration": 4,
    "start_time": "2022-04-17T13:09:57.113Z"
   },
   {
    "duration": 9,
    "start_time": "2022-04-17T13:09:59.096Z"
   },
   {
    "duration": 9,
    "start_time": "2022-04-17T13:10:00.515Z"
   },
   {
    "duration": 688,
    "start_time": "2022-04-17T13:10:06.731Z"
   },
   {
    "duration": 12,
    "start_time": "2022-04-17T13:10:09.700Z"
   },
   {
    "duration": 10,
    "start_time": "2022-04-17T13:10:10.892Z"
   },
   {
    "duration": 5,
    "start_time": "2022-04-17T13:10:13.648Z"
   },
   {
    "duration": 6,
    "start_time": "2022-04-17T13:10:15.158Z"
   },
   {
    "duration": 4,
    "start_time": "2022-04-17T13:10:15.513Z"
   },
   {
    "duration": 9,
    "start_time": "2022-04-17T13:10:15.952Z"
   },
   {
    "duration": 6,
    "start_time": "2022-04-17T13:10:52.608Z"
   },
   {
    "duration": 5,
    "start_time": "2022-04-17T13:11:05.114Z"
   },
   {
    "duration": 4,
    "start_time": "2022-04-17T13:11:09.855Z"
   },
   {
    "duration": 4,
    "start_time": "2022-04-17T13:11:12.449Z"
   },
   {
    "duration": 344,
    "start_time": "2022-04-17T13:11:18.008Z"
   },
   {
    "duration": 65,
    "start_time": "2022-04-17T13:11:18.354Z"
   },
   {
    "duration": 26,
    "start_time": "2022-04-17T13:11:18.421Z"
   },
   {
    "duration": 9,
    "start_time": "2022-04-17T13:11:18.449Z"
   },
   {
    "duration": 10,
    "start_time": "2022-04-17T13:11:18.460Z"
   },
   {
    "duration": 7,
    "start_time": "2022-04-17T13:11:18.471Z"
   },
   {
    "duration": 6,
    "start_time": "2022-04-17T13:11:18.479Z"
   },
   {
    "duration": 12,
    "start_time": "2022-04-17T13:11:18.486Z"
   },
   {
    "duration": 4,
    "start_time": "2022-04-17T13:11:25.141Z"
   },
   {
    "duration": 5,
    "start_time": "2022-04-17T13:11:38.385Z"
   },
   {
    "duration": 10,
    "start_time": "2022-04-17T13:11:40.565Z"
   },
   {
    "duration": 4,
    "start_time": "2022-04-17T13:21:36.086Z"
   },
   {
    "duration": 13,
    "start_time": "2022-04-17T13:21:42.329Z"
   },
   {
    "duration": 3,
    "start_time": "2022-04-17T13:21:50.041Z"
   },
   {
    "duration": 19,
    "start_time": "2022-04-17T13:23:48.574Z"
   },
   {
    "duration": 16,
    "start_time": "2022-04-17T13:24:01.624Z"
   },
   {
    "duration": 4,
    "start_time": "2022-04-17T13:24:37.538Z"
   },
   {
    "duration": 14,
    "start_time": "2022-04-17T13:24:43.035Z"
   },
   {
    "duration": 38,
    "start_time": "2022-04-17T13:27:49.439Z"
   },
   {
    "duration": 56,
    "start_time": "2022-04-17T13:28:06.606Z"
   },
   {
    "duration": 35,
    "start_time": "2022-04-17T13:28:14.704Z"
   },
   {
    "duration": 61,
    "start_time": "2022-04-17T13:30:27.913Z"
   },
   {
    "duration": 7,
    "start_time": "2022-04-17T13:30:40.798Z"
   },
   {
    "duration": 9,
    "start_time": "2022-04-17T13:31:31.985Z"
   },
   {
    "duration": 23,
    "start_time": "2022-04-17T13:31:36.086Z"
   },
   {
    "duration": 27,
    "start_time": "2022-04-17T13:32:05.874Z"
   },
   {
    "duration": 16,
    "start_time": "2022-04-17T13:32:25.239Z"
   },
   {
    "duration": 1265,
    "start_time": "2022-04-17T13:34:18.724Z"
   },
   {
    "duration": 86,
    "start_time": "2022-04-17T13:40:48.324Z"
   },
   {
    "duration": 27,
    "start_time": "2022-04-17T13:41:02.789Z"
   },
   {
    "duration": 7,
    "start_time": "2022-04-17T13:43:34.065Z"
   },
   {
    "duration": 7,
    "start_time": "2022-04-17T13:43:53.475Z"
   },
   {
    "duration": 7,
    "start_time": "2022-04-17T13:44:04.306Z"
   },
   {
    "duration": 7,
    "start_time": "2022-04-17T13:44:32.951Z"
   },
   {
    "duration": 8,
    "start_time": "2022-04-17T13:47:49.199Z"
   },
   {
    "duration": 15,
    "start_time": "2022-04-17T13:48:04.210Z"
   },
   {
    "duration": 13,
    "start_time": "2022-04-17T13:48:07.274Z"
   },
   {
    "duration": 376,
    "start_time": "2022-04-17T13:48:22.364Z"
   },
   {
    "duration": 67,
    "start_time": "2022-04-17T13:48:22.742Z"
   },
   {
    "duration": 17,
    "start_time": "2022-04-17T13:48:22.811Z"
   },
   {
    "duration": 18,
    "start_time": "2022-04-17T13:48:22.830Z"
   },
   {
    "duration": 5,
    "start_time": "2022-04-17T13:48:22.850Z"
   },
   {
    "duration": 6,
    "start_time": "2022-04-17T13:48:22.856Z"
   },
   {
    "duration": 4,
    "start_time": "2022-04-17T13:48:22.863Z"
   },
   {
    "duration": 9,
    "start_time": "2022-04-17T13:48:22.869Z"
   },
   {
    "duration": 15,
    "start_time": "2022-04-17T13:48:22.880Z"
   },
   {
    "duration": 13,
    "start_time": "2022-04-17T13:48:22.897Z"
   },
   {
    "duration": 17,
    "start_time": "2022-04-17T13:48:22.948Z"
   },
   {
    "duration": 19,
    "start_time": "2022-04-17T13:48:22.966Z"
   },
   {
    "duration": 15,
    "start_time": "2022-04-17T13:48:22.986Z"
   },
   {
    "duration": 7,
    "start_time": "2022-04-17T13:48:23.002Z"
   },
   {
    "duration": 8,
    "start_time": "2022-04-17T13:48:23.010Z"
   },
   {
    "duration": 7,
    "start_time": "2022-04-17T13:48:23.047Z"
   },
   {
    "duration": 7,
    "start_time": "2022-04-17T13:48:23.056Z"
   },
   {
    "duration": 15,
    "start_time": "2022-04-17T13:48:23.064Z"
   },
   {
    "duration": 12,
    "start_time": "2022-04-17T13:48:28.498Z"
   },
   {
    "duration": 9,
    "start_time": "2022-04-17T13:48:45.946Z"
   },
   {
    "duration": 16,
    "start_time": "2022-04-17T13:48:53.271Z"
   },
   {
    "duration": 73,
    "start_time": "2022-04-17T13:53:41.657Z"
   },
   {
    "duration": 26,
    "start_time": "2022-04-17T14:01:42.276Z"
   },
   {
    "duration": 5,
    "start_time": "2022-04-17T14:02:06.956Z"
   },
   {
    "duration": 4,
    "start_time": "2022-04-17T14:03:04.965Z"
   },
   {
    "duration": 4,
    "start_time": "2022-04-17T14:09:53.254Z"
   },
   {
    "duration": 3,
    "start_time": "2022-04-17T14:13:20.402Z"
   },
   {
    "duration": 3,
    "start_time": "2022-04-17T14:13:51.238Z"
   },
   {
    "duration": 4,
    "start_time": "2022-04-17T14:14:00.917Z"
   },
   {
    "duration": 6,
    "start_time": "2022-04-17T14:14:07.345Z"
   },
   {
    "duration": 4,
    "start_time": "2022-04-17T14:14:13.738Z"
   },
   {
    "duration": 4,
    "start_time": "2022-04-17T14:14:15.952Z"
   },
   {
    "duration": 6,
    "start_time": "2022-04-17T14:14:17.863Z"
   },
   {
    "duration": 5,
    "start_time": "2022-04-17T14:14:29.061Z"
   },
   {
    "duration": 5,
    "start_time": "2022-04-17T14:14:30.955Z"
   },
   {
    "duration": 377,
    "start_time": "2022-04-17T14:14:39.664Z"
   },
   {
    "duration": 70,
    "start_time": "2022-04-17T14:14:40.043Z"
   },
   {
    "duration": 18,
    "start_time": "2022-04-17T14:14:40.114Z"
   },
   {
    "duration": 15,
    "start_time": "2022-04-17T14:14:40.133Z"
   },
   {
    "duration": 4,
    "start_time": "2022-04-17T14:14:40.150Z"
   },
   {
    "duration": 7,
    "start_time": "2022-04-17T14:14:40.156Z"
   },
   {
    "duration": 3,
    "start_time": "2022-04-17T14:14:40.165Z"
   },
   {
    "duration": 18,
    "start_time": "2022-04-17T14:14:40.170Z"
   },
   {
    "duration": 3,
    "start_time": "2022-04-17T14:14:40.189Z"
   },
   {
    "duration": 7,
    "start_time": "2022-04-17T14:14:40.193Z"
   },
   {
    "duration": 3,
    "start_time": "2022-04-17T14:14:40.201Z"
   },
   {
    "duration": 7,
    "start_time": "2022-04-17T14:14:40.205Z"
   },
   {
    "duration": 48,
    "start_time": "2022-04-17T14:14:40.213Z"
   },
   {
    "duration": 14,
    "start_time": "2022-04-17T14:14:40.263Z"
   },
   {
    "duration": 16,
    "start_time": "2022-04-17T14:14:40.278Z"
   },
   {
    "duration": 17,
    "start_time": "2022-04-17T14:14:40.296Z"
   },
   {
    "duration": 44,
    "start_time": "2022-04-17T14:14:40.315Z"
   },
   {
    "duration": 6,
    "start_time": "2022-04-17T14:14:40.361Z"
   },
   {
    "duration": 7,
    "start_time": "2022-04-17T14:14:40.368Z"
   },
   {
    "duration": 7,
    "start_time": "2022-04-17T14:14:40.377Z"
   },
   {
    "duration": 8,
    "start_time": "2022-04-17T14:14:40.385Z"
   },
   {
    "duration": 17,
    "start_time": "2022-04-17T14:14:40.394Z"
   },
   {
    "duration": 3,
    "start_time": "2022-04-17T14:14:55.751Z"
   },
   {
    "duration": 5,
    "start_time": "2022-04-17T14:14:59.733Z"
   },
   {
    "duration": 27,
    "start_time": "2022-04-17T14:17:52.951Z"
   },
   {
    "duration": 394,
    "start_time": "2022-04-17T14:30:32.585Z"
   },
   {
    "duration": 66,
    "start_time": "2022-04-17T14:30:32.981Z"
   },
   {
    "duration": 17,
    "start_time": "2022-04-17T14:30:33.049Z"
   },
   {
    "duration": 30,
    "start_time": "2022-04-17T14:30:33.067Z"
   },
   {
    "duration": 9,
    "start_time": "2022-04-17T14:30:33.100Z"
   },
   {
    "duration": 5,
    "start_time": "2022-04-17T14:30:33.110Z"
   },
   {
    "duration": 33,
    "start_time": "2022-04-17T14:30:33.117Z"
   },
   {
    "duration": 3,
    "start_time": "2022-04-17T14:30:33.152Z"
   },
   {
    "duration": 17,
    "start_time": "2022-04-17T14:30:33.156Z"
   },
   {
    "duration": 5,
    "start_time": "2022-04-17T14:30:33.175Z"
   },
   {
    "duration": 10,
    "start_time": "2022-04-17T14:30:33.181Z"
   },
   {
    "duration": 4,
    "start_time": "2022-04-17T14:30:33.193Z"
   },
   {
    "duration": 8,
    "start_time": "2022-04-17T14:30:33.198Z"
   },
   {
    "duration": 13,
    "start_time": "2022-04-17T14:30:33.209Z"
   },
   {
    "duration": 27,
    "start_time": "2022-04-17T14:30:33.224Z"
   },
   {
    "duration": 14,
    "start_time": "2022-04-17T14:30:33.252Z"
   },
   {
    "duration": 17,
    "start_time": "2022-04-17T14:30:33.268Z"
   },
   {
    "duration": 19,
    "start_time": "2022-04-17T14:30:33.286Z"
   },
   {
    "duration": 45,
    "start_time": "2022-04-17T14:30:33.307Z"
   },
   {
    "duration": 7,
    "start_time": "2022-04-17T14:30:33.354Z"
   },
   {
    "duration": 8,
    "start_time": "2022-04-17T14:30:33.362Z"
   },
   {
    "duration": 9,
    "start_time": "2022-04-17T14:30:33.371Z"
   },
   {
    "duration": 8,
    "start_time": "2022-04-17T14:30:33.382Z"
   },
   {
    "duration": 17,
    "start_time": "2022-04-17T14:30:33.392Z"
   },
   {
    "duration": 8,
    "start_time": "2022-04-17T14:31:57.982Z"
   },
   {
    "duration": 16,
    "start_time": "2022-04-17T14:38:24.787Z"
   },
   {
    "duration": 28,
    "start_time": "2022-04-17T14:44:19.247Z"
   },
   {
    "duration": 35,
    "start_time": "2022-04-17T14:46:41.543Z"
   },
   {
    "duration": 7,
    "start_time": "2022-04-17T14:46:58.708Z"
   },
   {
    "duration": 34,
    "start_time": "2022-04-17T14:47:33.927Z"
   },
   {
    "duration": 7,
    "start_time": "2022-04-17T14:47:34.929Z"
   },
   {
    "duration": 52,
    "start_time": "2022-04-17T14:47:39.127Z"
   },
   {
    "duration": 7,
    "start_time": "2022-04-17T14:47:41.261Z"
   },
   {
    "duration": 35,
    "start_time": "2022-04-17T14:47:43.932Z"
   },
   {
    "duration": 7,
    "start_time": "2022-04-17T14:47:44.402Z"
   },
   {
    "duration": 12,
    "start_time": "2022-04-17T14:48:08.219Z"
   },
   {
    "duration": 415,
    "start_time": "2022-04-17T14:48:23.521Z"
   },
   {
    "duration": 65,
    "start_time": "2022-04-17T14:48:23.938Z"
   },
   {
    "duration": 16,
    "start_time": "2022-04-17T14:48:24.005Z"
   },
   {
    "duration": 39,
    "start_time": "2022-04-17T14:48:24.023Z"
   },
   {
    "duration": 9,
    "start_time": "2022-04-17T14:48:24.063Z"
   },
   {
    "duration": 5,
    "start_time": "2022-04-17T14:48:24.073Z"
   },
   {
    "duration": 8,
    "start_time": "2022-04-17T14:48:24.079Z"
   },
   {
    "duration": 6,
    "start_time": "2022-04-17T14:48:24.089Z"
   },
   {
    "duration": 10,
    "start_time": "2022-04-17T14:48:24.096Z"
   },
   {
    "duration": 2,
    "start_time": "2022-04-17T14:48:24.109Z"
   },
   {
    "duration": 43,
    "start_time": "2022-04-17T14:48:24.113Z"
   },
   {
    "duration": 4,
    "start_time": "2022-04-17T14:48:24.157Z"
   },
   {
    "duration": 6,
    "start_time": "2022-04-17T14:48:24.162Z"
   },
   {
    "duration": 7,
    "start_time": "2022-04-17T14:48:24.170Z"
   },
   {
    "duration": 17,
    "start_time": "2022-04-17T14:48:24.178Z"
   },
   {
    "duration": 14,
    "start_time": "2022-04-17T14:48:24.196Z"
   },
   {
    "duration": 37,
    "start_time": "2022-04-17T14:48:24.211Z"
   },
   {
    "duration": 18,
    "start_time": "2022-04-17T14:48:24.250Z"
   },
   {
    "duration": 15,
    "start_time": "2022-04-17T14:48:24.270Z"
   },
   {
    "duration": 7,
    "start_time": "2022-04-17T14:48:24.286Z"
   },
   {
    "duration": 9,
    "start_time": "2022-04-17T14:48:24.294Z"
   },
   {
    "duration": 7,
    "start_time": "2022-04-17T14:48:24.305Z"
   },
   {
    "duration": 67,
    "start_time": "2022-04-17T14:48:24.314Z"
   },
   {
    "duration": 8,
    "start_time": "2022-04-17T14:48:24.382Z"
   },
   {
    "duration": 7,
    "start_time": "2022-04-17T14:48:24.392Z"
   },
   {
    "duration": 21,
    "start_time": "2022-04-17T14:48:24.401Z"
   },
   {
    "duration": 7,
    "start_time": "2022-04-17T14:56:04.040Z"
   },
   {
    "duration": 1279,
    "start_time": "2022-04-17T14:58:55.732Z"
   },
   {
    "duration": 8,
    "start_time": "2022-04-17T14:59:12.285Z"
   },
   {
    "duration": 15,
    "start_time": "2022-04-17T15:01:02.885Z"
   },
   {
    "duration": 8,
    "start_time": "2022-04-17T15:03:33.274Z"
   },
   {
    "duration": 6,
    "start_time": "2022-04-17T15:04:18.594Z"
   },
   {
    "duration": 10,
    "start_time": "2022-04-17T15:04:24.678Z"
   },
   {
    "duration": 5,
    "start_time": "2022-04-17T15:05:31.157Z"
   },
   {
    "duration": 7,
    "start_time": "2022-04-17T15:05:38.527Z"
   },
   {
    "duration": 4,
    "start_time": "2022-04-17T15:05:39.847Z"
   },
   {
    "duration": 8,
    "start_time": "2022-04-17T15:05:40.192Z"
   },
   {
    "duration": 7,
    "start_time": "2022-04-17T15:08:27.964Z"
   },
   {
    "duration": 5,
    "start_time": "2022-04-17T15:10:46.844Z"
   },
   {
    "duration": 7,
    "start_time": "2022-04-17T15:10:48.685Z"
   },
   {
    "duration": 4,
    "start_time": "2022-04-17T15:10:50.839Z"
   },
   {
    "duration": 8,
    "start_time": "2022-04-17T15:10:51.982Z"
   },
   {
    "duration": 375,
    "start_time": "2022-04-17T15:10:55.575Z"
   },
   {
    "duration": 72,
    "start_time": "2022-04-17T15:10:55.952Z"
   },
   {
    "duration": 18,
    "start_time": "2022-04-17T15:10:56.026Z"
   },
   {
    "duration": 38,
    "start_time": "2022-04-17T15:10:56.048Z"
   },
   {
    "duration": 11,
    "start_time": "2022-04-17T15:10:56.088Z"
   },
   {
    "duration": 12,
    "start_time": "2022-04-17T15:10:56.100Z"
   },
   {
    "duration": 8,
    "start_time": "2022-04-17T15:10:56.114Z"
   },
   {
    "duration": 24,
    "start_time": "2022-04-17T15:10:56.124Z"
   },
   {
    "duration": 11,
    "start_time": "2022-04-17T15:10:56.150Z"
   },
   {
    "duration": 3,
    "start_time": "2022-04-17T15:10:56.164Z"
   },
   {
    "duration": 8,
    "start_time": "2022-04-17T15:10:56.168Z"
   },
   {
    "duration": 4,
    "start_time": "2022-04-17T15:10:56.178Z"
   },
   {
    "duration": 5,
    "start_time": "2022-04-17T15:10:56.183Z"
   },
   {
    "duration": 7,
    "start_time": "2022-04-17T15:10:56.189Z"
   },
   {
    "duration": 17,
    "start_time": "2022-04-17T15:10:56.198Z"
   },
   {
    "duration": 35,
    "start_time": "2022-04-17T15:10:56.216Z"
   },
   {
    "duration": 5,
    "start_time": "2022-04-17T15:10:56.253Z"
   },
   {
    "duration": 8,
    "start_time": "2022-04-17T15:10:56.260Z"
   },
   {
    "duration": 15,
    "start_time": "2022-04-17T15:10:56.270Z"
   },
   {
    "duration": 18,
    "start_time": "2022-04-17T15:10:56.286Z"
   },
   {
    "duration": 43,
    "start_time": "2022-04-17T15:10:56.305Z"
   },
   {
    "duration": 16,
    "start_time": "2022-04-17T15:10:56.349Z"
   },
   {
    "duration": 6,
    "start_time": "2022-04-17T15:10:56.367Z"
   },
   {
    "duration": 16,
    "start_time": "2022-04-17T15:10:56.374Z"
   },
   {
    "duration": 13,
    "start_time": "2022-04-17T15:10:56.391Z"
   },
   {
    "duration": 56,
    "start_time": "2022-04-17T15:10:56.406Z"
   },
   {
    "duration": 6,
    "start_time": "2022-04-17T15:10:56.464Z"
   },
   {
    "duration": 7,
    "start_time": "2022-04-17T15:10:56.473Z"
   },
   {
    "duration": 21,
    "start_time": "2022-04-17T15:10:56.481Z"
   },
   {
    "duration": 59,
    "start_time": "2022-04-17T15:12:56.806Z"
   },
   {
    "duration": 7,
    "start_time": "2022-04-17T15:14:41.712Z"
   },
   {
    "duration": 7,
    "start_time": "2022-04-17T15:14:46.873Z"
   },
   {
    "duration": 8,
    "start_time": "2022-04-17T15:41:03.297Z"
   },
   {
    "duration": 7,
    "start_time": "2022-04-17T15:42:38.527Z"
   },
   {
    "duration": 337,
    "start_time": "2022-04-17T15:42:43.800Z"
   },
   {
    "duration": 66,
    "start_time": "2022-04-17T15:42:44.139Z"
   },
   {
    "duration": 18,
    "start_time": "2022-04-17T15:42:44.206Z"
   },
   {
    "duration": 39,
    "start_time": "2022-04-17T15:42:44.226Z"
   },
   {
    "duration": 9,
    "start_time": "2022-04-17T15:42:44.267Z"
   },
   {
    "duration": 7,
    "start_time": "2022-04-17T15:42:44.277Z"
   },
   {
    "duration": 9,
    "start_time": "2022-04-17T15:42:44.286Z"
   },
   {
    "duration": 5,
    "start_time": "2022-04-17T15:42:44.297Z"
   },
   {
    "duration": 15,
    "start_time": "2022-04-17T15:42:44.303Z"
   },
   {
    "duration": 26,
    "start_time": "2022-04-17T15:42:44.321Z"
   },
   {
    "duration": 7,
    "start_time": "2022-04-17T15:42:44.349Z"
   },
   {
    "duration": 3,
    "start_time": "2022-04-17T15:42:44.358Z"
   },
   {
    "duration": 5,
    "start_time": "2022-04-17T15:42:44.362Z"
   },
   {
    "duration": 7,
    "start_time": "2022-04-17T15:42:44.369Z"
   },
   {
    "duration": 18,
    "start_time": "2022-04-17T15:42:44.377Z"
   },
   {
    "duration": 13,
    "start_time": "2022-04-17T15:42:44.397Z"
   },
   {
    "duration": 40,
    "start_time": "2022-04-17T15:42:44.412Z"
   },
   {
    "duration": 18,
    "start_time": "2022-04-17T15:42:44.454Z"
   },
   {
    "duration": 16,
    "start_time": "2022-04-17T15:42:44.473Z"
   },
   {
    "duration": 6,
    "start_time": "2022-04-17T15:42:44.491Z"
   },
   {
    "duration": 13,
    "start_time": "2022-04-17T15:42:44.499Z"
   },
   {
    "duration": 41,
    "start_time": "2022-04-17T15:42:44.514Z"
   },
   {
    "duration": 7,
    "start_time": "2022-04-17T15:42:44.557Z"
   },
   {
    "duration": 38,
    "start_time": "2022-04-17T15:42:44.565Z"
   },
   {
    "duration": 6,
    "start_time": "2022-04-17T15:42:44.605Z"
   },
   {
    "duration": 8,
    "start_time": "2022-04-17T15:42:44.613Z"
   },
   {
    "duration": 98,
    "start_time": "2022-04-17T15:42:44.648Z"
   },
   {
    "duration": 15,
    "start_time": "2022-04-17T15:44:03.503Z"
   },
   {
    "duration": 6,
    "start_time": "2022-04-17T15:44:33.593Z"
   },
   {
    "duration": 60,
    "start_time": "2022-04-17T15:44:48.164Z"
   },
   {
    "duration": 11,
    "start_time": "2022-04-17T15:45:38.468Z"
   },
   {
    "duration": 7,
    "start_time": "2022-04-17T15:45:43.033Z"
   },
   {
    "duration": 7,
    "start_time": "2022-04-17T15:45:45.606Z"
   },
   {
    "duration": 9,
    "start_time": "2022-04-17T15:45:48.985Z"
   },
   {
    "duration": 94,
    "start_time": "2022-04-17T15:46:16.791Z"
   },
   {
    "duration": 9,
    "start_time": "2022-04-17T15:46:20.341Z"
   },
   {
    "duration": 7,
    "start_time": "2022-04-17T15:46:24.467Z"
   },
   {
    "duration": 6,
    "start_time": "2022-04-17T15:46:29.664Z"
   },
   {
    "duration": 6,
    "start_time": "2022-04-17T15:47:24.090Z"
   },
   {
    "duration": 421,
    "start_time": "2022-04-17T15:47:45.122Z"
   },
   {
    "duration": 67,
    "start_time": "2022-04-17T15:47:45.545Z"
   },
   {
    "duration": 18,
    "start_time": "2022-04-17T15:47:45.613Z"
   },
   {
    "duration": 35,
    "start_time": "2022-04-17T15:47:45.633Z"
   },
   {
    "duration": 9,
    "start_time": "2022-04-17T15:47:45.669Z"
   },
   {
    "duration": 4,
    "start_time": "2022-04-17T15:47:45.680Z"
   },
   {
    "duration": 6,
    "start_time": "2022-04-17T15:47:45.686Z"
   },
   {
    "duration": 4,
    "start_time": "2022-04-17T15:47:45.693Z"
   },
   {
    "duration": 10,
    "start_time": "2022-04-17T15:47:45.699Z"
   },
   {
    "duration": 3,
    "start_time": "2022-04-17T15:47:45.747Z"
   },
   {
    "duration": 9,
    "start_time": "2022-04-17T15:47:45.752Z"
   },
   {
    "duration": 4,
    "start_time": "2022-04-17T15:47:45.762Z"
   },
   {
    "duration": 5,
    "start_time": "2022-04-17T15:47:45.767Z"
   },
   {
    "duration": 6,
    "start_time": "2022-04-17T15:47:45.773Z"
   },
   {
    "duration": 16,
    "start_time": "2022-04-17T15:47:45.780Z"
   },
   {
    "duration": 15,
    "start_time": "2022-04-17T15:47:45.797Z"
   },
   {
    "duration": 47,
    "start_time": "2022-04-17T15:47:45.813Z"
   },
   {
    "duration": 17,
    "start_time": "2022-04-17T15:47:45.862Z"
   },
   {
    "duration": 15,
    "start_time": "2022-04-17T15:47:45.881Z"
   },
   {
    "duration": 4,
    "start_time": "2022-04-17T15:47:45.898Z"
   },
   {
    "duration": 10,
    "start_time": "2022-04-17T15:47:45.904Z"
   },
   {
    "duration": 33,
    "start_time": "2022-04-17T15:47:45.916Z"
   },
   {
    "duration": 15,
    "start_time": "2022-04-17T15:47:45.951Z"
   },
   {
    "duration": 15,
    "start_time": "2022-04-17T15:47:45.968Z"
   },
   {
    "duration": 37,
    "start_time": "2022-04-17T15:47:45.985Z"
   },
   {
    "duration": 26,
    "start_time": "2022-04-17T15:47:46.023Z"
   },
   {
    "duration": 8,
    "start_time": "2022-04-17T15:47:46.051Z"
   },
   {
    "duration": 15,
    "start_time": "2022-04-17T15:50:01.362Z"
   },
   {
    "duration": 17,
    "start_time": "2022-04-17T15:51:21.135Z"
   },
   {
    "duration": 61,
    "start_time": "2022-04-17T15:52:00.207Z"
   },
   {
    "duration": 8,
    "start_time": "2022-04-17T15:52:04.111Z"
   },
   {
    "duration": 5,
    "start_time": "2022-04-17T15:52:07.158Z"
   },
   {
    "duration": 1263,
    "start_time": "2022-04-17T15:53:54.466Z"
   },
   {
    "duration": 417,
    "start_time": "2022-04-17T15:54:05.917Z"
   },
   {
    "duration": 67,
    "start_time": "2022-04-17T15:54:06.335Z"
   },
   {
    "duration": 18,
    "start_time": "2022-04-17T15:54:06.403Z"
   },
   {
    "duration": 39,
    "start_time": "2022-04-17T15:54:06.423Z"
   },
   {
    "duration": 9,
    "start_time": "2022-04-17T15:54:06.464Z"
   },
   {
    "duration": 5,
    "start_time": "2022-04-17T15:54:06.474Z"
   },
   {
    "duration": 6,
    "start_time": "2022-04-17T15:54:06.481Z"
   },
   {
    "duration": 3,
    "start_time": "2022-04-17T15:54:06.489Z"
   },
   {
    "duration": 9,
    "start_time": "2022-04-17T15:54:06.494Z"
   },
   {
    "duration": 2,
    "start_time": "2022-04-17T15:54:06.506Z"
   },
   {
    "duration": 39,
    "start_time": "2022-04-17T15:54:06.510Z"
   },
   {
    "duration": 6,
    "start_time": "2022-04-17T15:54:06.550Z"
   },
   {
    "duration": 4,
    "start_time": "2022-04-17T15:54:06.557Z"
   },
   {
    "duration": 5,
    "start_time": "2022-04-17T15:54:06.563Z"
   },
   {
    "duration": 18,
    "start_time": "2022-04-17T15:54:06.569Z"
   },
   {
    "duration": 4,
    "start_time": "2022-04-17T15:54:06.588Z"
   },
   {
    "duration": 17,
    "start_time": "2022-04-17T15:54:06.593Z"
   },
   {
    "duration": 48,
    "start_time": "2022-04-17T15:54:06.612Z"
   },
   {
    "duration": 18,
    "start_time": "2022-04-17T15:54:06.661Z"
   },
   {
    "duration": 16,
    "start_time": "2022-04-17T15:54:06.680Z"
   },
   {
    "duration": 4,
    "start_time": "2022-04-17T15:54:06.698Z"
   },
   {
    "duration": 7,
    "start_time": "2022-04-17T15:54:06.704Z"
   },
   {
    "duration": 36,
    "start_time": "2022-04-17T15:54:06.713Z"
   },
   {
    "duration": 16,
    "start_time": "2022-04-17T15:54:06.750Z"
   },
   {
    "duration": 7,
    "start_time": "2022-04-17T15:54:06.768Z"
   },
   {
    "duration": 38,
    "start_time": "2022-04-17T15:54:06.777Z"
   },
   {
    "duration": 7,
    "start_time": "2022-04-17T15:54:06.816Z"
   },
   {
    "duration": 6,
    "start_time": "2022-04-17T15:54:06.849Z"
   },
   {
    "duration": 1352,
    "start_time": "2022-04-17T15:54:14.701Z"
   },
   {
    "duration": 1354,
    "start_time": "2022-04-17T15:54:34.539Z"
   },
   {
    "duration": 412,
    "start_time": "2022-04-17T15:54:38.924Z"
   },
   {
    "duration": 67,
    "start_time": "2022-04-17T15:54:39.337Z"
   },
   {
    "duration": 17,
    "start_time": "2022-04-17T15:54:39.405Z"
   },
   {
    "duration": 42,
    "start_time": "2022-04-17T15:54:39.424Z"
   },
   {
    "duration": 9,
    "start_time": "2022-04-17T15:54:39.467Z"
   },
   {
    "duration": 5,
    "start_time": "2022-04-17T15:54:39.478Z"
   },
   {
    "duration": 6,
    "start_time": "2022-04-17T15:54:39.484Z"
   },
   {
    "duration": 4,
    "start_time": "2022-04-17T15:54:39.491Z"
   },
   {
    "duration": 10,
    "start_time": "2022-04-17T15:54:39.496Z"
   },
   {
    "duration": 3,
    "start_time": "2022-04-17T15:54:39.508Z"
   },
   {
    "duration": 36,
    "start_time": "2022-04-17T15:54:39.512Z"
   },
   {
    "duration": 3,
    "start_time": "2022-04-17T15:54:39.550Z"
   },
   {
    "duration": 4,
    "start_time": "2022-04-17T15:54:39.555Z"
   },
   {
    "duration": 6,
    "start_time": "2022-04-17T15:54:39.560Z"
   },
   {
    "duration": 17,
    "start_time": "2022-04-17T15:54:39.567Z"
   },
   {
    "duration": 7,
    "start_time": "2022-04-17T15:54:39.585Z"
   },
   {
    "duration": 16,
    "start_time": "2022-04-17T15:54:39.593Z"
   },
   {
    "duration": 48,
    "start_time": "2022-04-17T15:54:39.611Z"
   },
   {
    "duration": 17,
    "start_time": "2022-04-17T15:54:39.661Z"
   },
   {
    "duration": 15,
    "start_time": "2022-04-17T15:54:39.680Z"
   },
   {
    "duration": 4,
    "start_time": "2022-04-17T15:54:39.697Z"
   },
   {
    "duration": 8,
    "start_time": "2022-04-17T15:54:39.702Z"
   },
   {
    "duration": 38,
    "start_time": "2022-04-17T15:54:39.711Z"
   },
   {
    "duration": 16,
    "start_time": "2022-04-17T15:54:39.750Z"
   },
   {
    "duration": 7,
    "start_time": "2022-04-17T15:54:39.767Z"
   },
   {
    "duration": 38,
    "start_time": "2022-04-17T15:54:39.777Z"
   },
   {
    "duration": 31,
    "start_time": "2022-04-17T15:54:39.817Z"
   },
   {
    "duration": 7,
    "start_time": "2022-04-17T15:54:39.851Z"
   },
   {
    "duration": 391,
    "start_time": "2022-04-17T15:57:02.578Z"
   },
   {
    "duration": 90,
    "start_time": "2022-04-17T15:57:02.971Z"
   },
   {
    "duration": 18,
    "start_time": "2022-04-17T15:57:03.063Z"
   },
   {
    "duration": 28,
    "start_time": "2022-04-17T15:57:03.084Z"
   },
   {
    "duration": 9,
    "start_time": "2022-04-17T15:57:03.114Z"
   },
   {
    "duration": 7,
    "start_time": "2022-04-17T15:57:03.147Z"
   },
   {
    "duration": 8,
    "start_time": "2022-04-17T15:57:03.156Z"
   },
   {
    "duration": 4,
    "start_time": "2022-04-17T15:57:03.166Z"
   },
   {
    "duration": 18,
    "start_time": "2022-04-17T15:57:03.172Z"
   },
   {
    "duration": 3,
    "start_time": "2022-04-17T15:57:03.193Z"
   },
   {
    "duration": 8,
    "start_time": "2022-04-17T15:57:03.198Z"
   },
   {
    "duration": 40,
    "start_time": "2022-04-17T15:57:03.207Z"
   },
   {
    "duration": 4,
    "start_time": "2022-04-17T15:57:03.249Z"
   },
   {
    "duration": 8,
    "start_time": "2022-04-17T15:57:03.254Z"
   },
   {
    "duration": 17,
    "start_time": "2022-04-17T15:57:03.263Z"
   },
   {
    "duration": 13,
    "start_time": "2022-04-17T15:57:03.281Z"
   },
   {
    "duration": 52,
    "start_time": "2022-04-17T15:57:03.296Z"
   },
   {
    "duration": 24,
    "start_time": "2022-04-17T15:57:03.350Z"
   },
   {
    "duration": 21,
    "start_time": "2022-04-17T15:57:03.375Z"
   },
   {
    "duration": 17,
    "start_time": "2022-04-17T15:57:03.397Z"
   },
   {
    "duration": 31,
    "start_time": "2022-04-17T15:57:03.416Z"
   },
   {
    "duration": 7,
    "start_time": "2022-04-17T15:57:03.449Z"
   },
   {
    "duration": 9,
    "start_time": "2022-04-17T15:57:03.458Z"
   },
   {
    "duration": 25,
    "start_time": "2022-04-17T15:57:03.469Z"
   },
   {
    "duration": 8,
    "start_time": "2022-04-17T15:57:03.496Z"
   },
   {
    "duration": 73,
    "start_time": "2022-04-17T15:57:03.505Z"
   },
   {
    "duration": 10,
    "start_time": "2022-04-17T15:57:03.580Z"
   },
   {
    "duration": 12,
    "start_time": "2022-04-17T15:57:03.593Z"
   },
   {
    "duration": 8,
    "start_time": "2022-04-17T15:57:52.215Z"
   },
   {
    "duration": 414,
    "start_time": "2022-04-17T15:58:46.127Z"
   },
   {
    "duration": 72,
    "start_time": "2022-04-17T15:58:46.543Z"
   },
   {
    "duration": 19,
    "start_time": "2022-04-17T15:58:46.617Z"
   },
   {
    "duration": 28,
    "start_time": "2022-04-17T15:58:46.648Z"
   },
   {
    "duration": 10,
    "start_time": "2022-04-17T15:58:46.677Z"
   },
   {
    "duration": 5,
    "start_time": "2022-04-17T15:58:46.688Z"
   },
   {
    "duration": 10,
    "start_time": "2022-04-17T15:58:46.694Z"
   },
   {
    "duration": 4,
    "start_time": "2022-04-17T15:58:46.705Z"
   },
   {
    "duration": 40,
    "start_time": "2022-04-17T15:58:46.711Z"
   },
   {
    "duration": 2,
    "start_time": "2022-04-17T15:58:46.754Z"
   },
   {
    "duration": 11,
    "start_time": "2022-04-17T15:58:46.757Z"
   },
   {
    "duration": 5,
    "start_time": "2022-04-17T15:58:46.769Z"
   },
   {
    "duration": 5,
    "start_time": "2022-04-17T15:58:46.775Z"
   },
   {
    "duration": 6,
    "start_time": "2022-04-17T15:58:46.781Z"
   },
   {
    "duration": 17,
    "start_time": "2022-04-17T15:58:46.789Z"
   },
   {
    "duration": 12,
    "start_time": "2022-04-17T15:58:46.808Z"
   },
   {
    "duration": 18,
    "start_time": "2022-04-17T15:58:46.847Z"
   },
   {
    "duration": 16,
    "start_time": "2022-04-17T15:58:46.867Z"
   },
   {
    "duration": 18,
    "start_time": "2022-04-17T15:58:46.884Z"
   },
   {
    "duration": 15,
    "start_time": "2022-04-17T15:58:46.904Z"
   },
   {
    "duration": 6,
    "start_time": "2022-04-17T15:58:46.947Z"
   },
   {
    "duration": 10,
    "start_time": "2022-04-17T15:58:46.954Z"
   },
   {
    "duration": 7,
    "start_time": "2022-04-17T15:58:46.966Z"
   },
   {
    "duration": 18,
    "start_time": "2022-04-17T15:58:46.974Z"
   },
   {
    "duration": 12,
    "start_time": "2022-04-17T15:58:46.994Z"
   },
   {
    "duration": 58,
    "start_time": "2022-04-17T15:58:47.008Z"
   },
   {
    "duration": 7,
    "start_time": "2022-04-17T15:58:47.067Z"
   },
   {
    "duration": 11,
    "start_time": "2022-04-17T15:58:47.076Z"
   },
   {
    "duration": 6,
    "start_time": "2022-04-17T16:00:03.859Z"
   },
   {
    "duration": 5,
    "start_time": "2022-04-17T16:00:34.611Z"
   },
   {
    "duration": 8,
    "start_time": "2022-04-17T16:01:20.450Z"
   },
   {
    "duration": 8,
    "start_time": "2022-04-17T16:01:30.692Z"
   },
   {
    "duration": 9,
    "start_time": "2022-04-17T16:01:46.413Z"
   },
   {
    "duration": 6,
    "start_time": "2022-04-17T16:02:02.477Z"
   },
   {
    "duration": 16,
    "start_time": "2022-04-17T16:02:37.524Z"
   },
   {
    "duration": 18,
    "start_time": "2022-04-17T16:02:51.566Z"
   },
   {
    "duration": 429,
    "start_time": "2022-04-17T16:02:56.057Z"
   },
   {
    "duration": 68,
    "start_time": "2022-04-17T16:02:56.488Z"
   },
   {
    "duration": 19,
    "start_time": "2022-04-17T16:02:56.557Z"
   },
   {
    "duration": 28,
    "start_time": "2022-04-17T16:02:56.582Z"
   },
   {
    "duration": 9,
    "start_time": "2022-04-17T16:02:56.612Z"
   },
   {
    "duration": 24,
    "start_time": "2022-04-17T16:02:56.623Z"
   },
   {
    "duration": 7,
    "start_time": "2022-04-17T16:02:56.649Z"
   },
   {
    "duration": 4,
    "start_time": "2022-04-17T16:02:56.657Z"
   },
   {
    "duration": 10,
    "start_time": "2022-04-17T16:02:56.663Z"
   },
   {
    "duration": 3,
    "start_time": "2022-04-17T16:02:56.675Z"
   },
   {
    "duration": 8,
    "start_time": "2022-04-17T16:02:56.680Z"
   },
   {
    "duration": 4,
    "start_time": "2022-04-17T16:02:56.689Z"
   },
   {
    "duration": 4,
    "start_time": "2022-04-17T16:02:56.694Z"
   },
   {
    "duration": 6,
    "start_time": "2022-04-17T16:02:56.700Z"
   },
   {
    "duration": 54,
    "start_time": "2022-04-17T16:02:56.708Z"
   },
   {
    "duration": 14,
    "start_time": "2022-04-17T16:02:56.764Z"
   },
   {
    "duration": 18,
    "start_time": "2022-04-17T16:02:56.779Z"
   },
   {
    "duration": 17,
    "start_time": "2022-04-17T16:02:56.799Z"
   },
   {
    "duration": 20,
    "start_time": "2022-04-17T16:02:56.847Z"
   },
   {
    "duration": 16,
    "start_time": "2022-04-17T16:02:56.869Z"
   },
   {
    "duration": 6,
    "start_time": "2022-04-17T16:02:56.886Z"
   },
   {
    "duration": 8,
    "start_time": "2022-04-17T16:02:56.893Z"
   },
   {
    "duration": 10,
    "start_time": "2022-04-17T16:02:56.903Z"
   },
   {
    "duration": 47,
    "start_time": "2022-04-17T16:02:56.914Z"
   },
   {
    "duration": 8,
    "start_time": "2022-04-17T16:02:56.962Z"
   },
   {
    "duration": 38,
    "start_time": "2022-04-17T16:02:56.972Z"
   },
   {
    "duration": 6,
    "start_time": "2022-04-17T16:02:57.012Z"
   },
   {
    "duration": 7,
    "start_time": "2022-04-17T16:02:57.050Z"
   },
   {
    "duration": 6,
    "start_time": "2022-04-17T16:02:57.058Z"
   },
   {
    "duration": 5,
    "start_time": "2022-04-17T16:02:57.066Z"
   },
   {
    "duration": 6,
    "start_time": "2022-04-17T16:02:57.073Z"
   },
   {
    "duration": 16,
    "start_time": "2022-04-17T16:03:06.259Z"
   },
   {
    "duration": 27,
    "start_time": "2022-04-17T16:03:12.624Z"
   },
   {
    "duration": 415,
    "start_time": "2022-04-17T16:05:18.310Z"
   },
   {
    "duration": 71,
    "start_time": "2022-04-17T16:05:18.727Z"
   },
   {
    "duration": 18,
    "start_time": "2022-04-17T16:05:18.801Z"
   },
   {
    "duration": 45,
    "start_time": "2022-04-17T16:05:18.821Z"
   },
   {
    "duration": 10,
    "start_time": "2022-04-17T16:05:18.867Z"
   },
   {
    "duration": 11,
    "start_time": "2022-04-17T16:05:18.879Z"
   },
   {
    "duration": 9,
    "start_time": "2022-04-17T16:05:18.892Z"
   },
   {
    "duration": 8,
    "start_time": "2022-04-17T16:05:18.902Z"
   },
   {
    "duration": 13,
    "start_time": "2022-04-17T16:05:18.912Z"
   },
   {
    "duration": 3,
    "start_time": "2022-04-17T16:05:18.947Z"
   },
   {
    "duration": 7,
    "start_time": "2022-04-17T16:05:18.951Z"
   },
   {
    "duration": 3,
    "start_time": "2022-04-17T16:05:18.960Z"
   },
   {
    "duration": 4,
    "start_time": "2022-04-17T16:05:18.965Z"
   },
   {
    "duration": 7,
    "start_time": "2022-04-17T16:05:18.970Z"
   },
   {
    "duration": 16,
    "start_time": "2022-04-17T16:05:18.978Z"
   },
   {
    "duration": 9,
    "start_time": "2022-04-17T16:05:18.995Z"
   },
   {
    "duration": 54,
    "start_time": "2022-04-17T16:05:19.005Z"
   },
   {
    "duration": 24,
    "start_time": "2022-04-17T16:05:19.061Z"
   },
   {
    "duration": 26,
    "start_time": "2022-04-17T16:05:19.086Z"
   },
   {
    "duration": 47,
    "start_time": "2022-04-17T16:05:19.114Z"
   },
   {
    "duration": 6,
    "start_time": "2022-04-17T16:05:19.162Z"
   },
   {
    "duration": 12,
    "start_time": "2022-04-17T16:05:19.169Z"
   },
   {
    "duration": 12,
    "start_time": "2022-04-17T16:05:19.182Z"
   },
   {
    "duration": 35,
    "start_time": "2022-04-17T16:05:19.195Z"
   },
   {
    "duration": 21,
    "start_time": "2022-04-17T16:05:19.232Z"
   },
   {
    "duration": 57,
    "start_time": "2022-04-17T16:05:19.254Z"
   },
   {
    "duration": 9,
    "start_time": "2022-04-17T16:05:19.312Z"
   },
   {
    "duration": 25,
    "start_time": "2022-04-17T16:05:19.324Z"
   },
   {
    "duration": 7,
    "start_time": "2022-04-17T16:05:19.351Z"
   },
   {
    "duration": 6,
    "start_time": "2022-04-17T16:05:19.360Z"
   },
   {
    "duration": 8,
    "start_time": "2022-04-17T16:05:19.367Z"
   },
   {
    "duration": 61,
    "start_time": "2022-04-17T16:06:18.706Z"
   },
   {
    "duration": 7,
    "start_time": "2022-04-17T16:06:22.805Z"
   },
   {
    "duration": 1226,
    "start_time": "2022-04-17T16:09:50.090Z"
   },
   {
    "duration": 8,
    "start_time": "2022-04-17T16:12:45.703Z"
   },
   {
    "duration": 83,
    "start_time": "2022-04-18T18:08:19.869Z"
   },
   {
    "duration": 555,
    "start_time": "2022-04-18T18:08:26.948Z"
   },
   {
    "duration": 113,
    "start_time": "2022-04-18T18:08:27.507Z"
   },
   {
    "duration": 31,
    "start_time": "2022-04-18T18:08:27.625Z"
   },
   {
    "duration": 63,
    "start_time": "2022-04-18T18:08:27.660Z"
   },
   {
    "duration": 14,
    "start_time": "2022-04-18T18:08:27.725Z"
   },
   {
    "duration": 7,
    "start_time": "2022-04-18T18:08:27.741Z"
   },
   {
    "duration": 42,
    "start_time": "2022-04-18T18:08:27.751Z"
   },
   {
    "duration": 13,
    "start_time": "2022-04-18T18:08:27.798Z"
   },
   {
    "duration": 22,
    "start_time": "2022-04-18T18:08:27.814Z"
   },
   {
    "duration": 11,
    "start_time": "2022-04-18T18:08:27.840Z"
   },
   {
    "duration": 13,
    "start_time": "2022-04-18T18:08:27.854Z"
   },
   {
    "duration": 25,
    "start_time": "2022-04-18T18:08:27.869Z"
   },
   {
    "duration": 15,
    "start_time": "2022-04-18T18:08:27.897Z"
   },
   {
    "duration": 17,
    "start_time": "2022-04-18T18:08:27.914Z"
   },
   {
    "duration": 25,
    "start_time": "2022-04-18T18:08:27.933Z"
   },
   {
    "duration": 31,
    "start_time": "2022-04-18T18:08:27.960Z"
   },
   {
    "duration": 19,
    "start_time": "2022-04-18T18:08:27.994Z"
   },
   {
    "duration": 31,
    "start_time": "2022-04-18T18:08:28.018Z"
   },
   {
    "duration": 49,
    "start_time": "2022-04-18T18:08:28.052Z"
   },
   {
    "duration": 30,
    "start_time": "2022-04-18T18:08:28.108Z"
   },
   {
    "duration": 25,
    "start_time": "2022-04-18T18:08:28.140Z"
   },
   {
    "duration": 33,
    "start_time": "2022-04-18T18:08:28.167Z"
   },
   {
    "duration": 38,
    "start_time": "2022-04-18T18:08:28.204Z"
   },
   {
    "duration": 19,
    "start_time": "2022-04-18T18:08:28.244Z"
   },
   {
    "duration": 58,
    "start_time": "2022-04-18T18:08:28.265Z"
   },
   {
    "duration": 42,
    "start_time": "2022-04-18T18:08:28.325Z"
   },
   {
    "duration": 87,
    "start_time": "2022-04-18T18:08:28.370Z"
   },
   {
    "duration": 9,
    "start_time": "2022-04-18T18:08:28.462Z"
   },
   {
    "duration": 35,
    "start_time": "2022-04-18T18:08:28.474Z"
   },
   {
    "duration": 38,
    "start_time": "2022-04-18T18:08:28.516Z"
   },
   {
    "duration": 18,
    "start_time": "2022-04-18T18:08:28.557Z"
   },
   {
    "duration": 49,
    "start_time": "2022-04-18T18:08:28.578Z"
   },
   {
    "duration": 14,
    "start_time": "2022-04-18T18:08:40.863Z"
   },
   {
    "duration": 48,
    "start_time": "2022-04-18T18:09:17.762Z"
   },
   {
    "duration": 152,
    "start_time": "2022-04-18T18:09:39.336Z"
   },
   {
    "duration": 11,
    "start_time": "2022-04-18T18:09:43.733Z"
   },
   {
    "duration": 18,
    "start_time": "2022-04-18T18:09:46.876Z"
   },
   {
    "duration": 29,
    "start_time": "2022-04-18T18:10:01.492Z"
   },
   {
    "duration": 9,
    "start_time": "2022-04-18T18:12:12.309Z"
   },
   {
    "duration": 10,
    "start_time": "2022-04-18T18:12:18.997Z"
   },
   {
    "duration": 7,
    "start_time": "2022-04-18T18:12:33.515Z"
   },
   {
    "duration": 11,
    "start_time": "2022-04-18T18:13:10.302Z"
   },
   {
    "duration": 10,
    "start_time": "2022-04-18T18:13:14.559Z"
   },
   {
    "duration": 14,
    "start_time": "2022-04-18T18:14:45.327Z"
   },
   {
    "duration": 7,
    "start_time": "2022-04-18T18:15:09.513Z"
   },
   {
    "duration": 18,
    "start_time": "2022-04-18T18:16:34.587Z"
   },
   {
    "duration": 61,
    "start_time": "2022-04-18T18:16:51.519Z"
   },
   {
    "duration": 633,
    "start_time": "2022-04-18T18:17:03.211Z"
   },
   {
    "duration": 141,
    "start_time": "2022-04-18T18:17:03.847Z"
   },
   {
    "duration": 50,
    "start_time": "2022-04-18T18:17:03.991Z"
   },
   {
    "duration": 72,
    "start_time": "2022-04-18T18:17:04.045Z"
   },
   {
    "duration": 17,
    "start_time": "2022-04-18T18:17:04.121Z"
   },
   {
    "duration": 8,
    "start_time": "2022-04-18T18:17:04.140Z"
   },
   {
    "duration": 47,
    "start_time": "2022-04-18T18:17:04.150Z"
   },
   {
    "duration": 32,
    "start_time": "2022-04-18T18:17:04.200Z"
   },
   {
    "duration": 15,
    "start_time": "2022-04-18T18:17:04.234Z"
   },
   {
    "duration": 4,
    "start_time": "2022-04-18T18:17:04.252Z"
   },
   {
    "duration": 10,
    "start_time": "2022-04-18T18:17:04.259Z"
   },
   {
    "duration": 20,
    "start_time": "2022-04-18T18:17:04.271Z"
   },
   {
    "duration": 27,
    "start_time": "2022-04-18T18:17:04.299Z"
   },
   {
    "duration": 8,
    "start_time": "2022-04-18T18:17:04.331Z"
   },
   {
    "duration": 24,
    "start_time": "2022-04-18T18:17:04.342Z"
   },
   {
    "duration": 39,
    "start_time": "2022-04-18T18:17:04.368Z"
   },
   {
    "duration": 12,
    "start_time": "2022-04-18T18:17:04.414Z"
   },
   {
    "duration": 25,
    "start_time": "2022-04-18T18:17:04.429Z"
   },
   {
    "duration": 57,
    "start_time": "2022-04-18T18:17:04.457Z"
   },
   {
    "duration": 27,
    "start_time": "2022-04-18T18:17:04.517Z"
   },
   {
    "duration": 54,
    "start_time": "2022-04-18T18:17:04.546Z"
   },
   {
    "duration": 43,
    "start_time": "2022-04-18T18:17:04.603Z"
   },
   {
    "duration": 7,
    "start_time": "2022-04-18T18:17:04.648Z"
   },
   {
    "duration": 39,
    "start_time": "2022-04-18T18:17:04.657Z"
   },
   {
    "duration": 33,
    "start_time": "2022-04-18T18:17:04.698Z"
   },
   {
    "duration": 24,
    "start_time": "2022-04-18T18:17:04.733Z"
   },
   {
    "duration": 10,
    "start_time": "2022-04-18T18:17:04.759Z"
   },
   {
    "duration": 76,
    "start_time": "2022-04-18T18:17:04.771Z"
   },
   {
    "duration": 10,
    "start_time": "2022-04-18T18:17:04.849Z"
   },
   {
    "duration": 28,
    "start_time": "2022-04-18T18:17:04.861Z"
   },
   {
    "duration": 45,
    "start_time": "2022-04-18T18:17:04.891Z"
   },
   {
    "duration": 9,
    "start_time": "2022-04-18T18:17:04.938Z"
   },
   {
    "duration": 12,
    "start_time": "2022-04-18T18:17:04.950Z"
   },
   {
    "duration": 10,
    "start_time": "2022-04-18T18:20:26.764Z"
   },
   {
    "duration": 19,
    "start_time": "2022-04-18T18:20:34.433Z"
   },
   {
    "duration": 532,
    "start_time": "2022-04-18T18:20:49.355Z"
   },
   {
    "duration": 106,
    "start_time": "2022-04-18T18:20:49.891Z"
   },
   {
    "duration": 46,
    "start_time": "2022-04-18T18:20:50.000Z"
   },
   {
    "duration": 67,
    "start_time": "2022-04-18T18:20:50.049Z"
   },
   {
    "duration": 16,
    "start_time": "2022-04-18T18:20:50.119Z"
   },
   {
    "duration": 8,
    "start_time": "2022-04-18T18:20:50.137Z"
   },
   {
    "duration": 46,
    "start_time": "2022-04-18T18:20:50.147Z"
   },
   {
    "duration": 25,
    "start_time": "2022-04-18T18:20:50.197Z"
   },
   {
    "duration": 16,
    "start_time": "2022-04-18T18:20:50.225Z"
   },
   {
    "duration": 3,
    "start_time": "2022-04-18T18:20:50.246Z"
   },
   {
    "duration": 13,
    "start_time": "2022-04-18T18:20:50.252Z"
   },
   {
    "duration": 15,
    "start_time": "2022-04-18T18:20:50.268Z"
   },
   {
    "duration": 30,
    "start_time": "2022-04-18T18:20:50.292Z"
   },
   {
    "duration": 11,
    "start_time": "2022-04-18T18:20:50.325Z"
   },
   {
    "duration": 32,
    "start_time": "2022-04-18T18:20:50.339Z"
   },
   {
    "duration": 21,
    "start_time": "2022-04-18T18:20:50.373Z"
   },
   {
    "duration": 30,
    "start_time": "2022-04-18T18:20:50.397Z"
   },
   {
    "duration": 30,
    "start_time": "2022-04-18T18:20:50.430Z"
   },
   {
    "duration": 12,
    "start_time": "2022-04-18T18:20:50.463Z"
   },
   {
    "duration": 34,
    "start_time": "2022-04-18T18:20:50.477Z"
   },
   {
    "duration": 29,
    "start_time": "2022-04-18T18:20:50.515Z"
   },
   {
    "duration": 37,
    "start_time": "2022-04-18T18:20:50.546Z"
   },
   {
    "duration": 45,
    "start_time": "2022-04-18T18:20:50.585Z"
   },
   {
    "duration": 44,
    "start_time": "2022-04-18T18:20:50.633Z"
   },
   {
    "duration": 16,
    "start_time": "2022-04-18T18:20:50.680Z"
   },
   {
    "duration": 42,
    "start_time": "2022-04-18T18:20:50.699Z"
   },
   {
    "duration": 23,
    "start_time": "2022-04-18T18:20:50.743Z"
   },
   {
    "duration": 65,
    "start_time": "2022-04-18T18:20:50.772Z"
   },
   {
    "duration": 14,
    "start_time": "2022-04-18T18:20:50.840Z"
   },
   {
    "duration": 90,
    "start_time": "2022-04-18T18:20:50.856Z"
   },
   {
    "duration": 12,
    "start_time": "2022-04-18T18:20:50.949Z"
   },
   {
    "duration": 24,
    "start_time": "2022-04-18T18:20:50.963Z"
   },
   {
    "duration": 38,
    "start_time": "2022-04-18T18:20:50.993Z"
   },
   {
    "duration": 15,
    "start_time": "2022-04-18T18:20:51.033Z"
   },
   {
    "duration": 18,
    "start_time": "2022-04-18T18:20:51.051Z"
   },
   {
    "duration": 12,
    "start_time": "2022-04-18T18:23:27.200Z"
   },
   {
    "duration": 13,
    "start_time": "2022-04-18T18:24:44.836Z"
   },
   {
    "duration": 12,
    "start_time": "2022-04-18T18:25:11.064Z"
   },
   {
    "duration": 7,
    "start_time": "2022-04-18T18:41:29.105Z"
   },
   {
    "duration": 13,
    "start_time": "2022-04-18T18:41:41.827Z"
   },
   {
    "duration": 27,
    "start_time": "2022-04-18T18:44:22.617Z"
   },
   {
    "duration": 105,
    "start_time": "2022-04-18T18:45:34.146Z"
   },
   {
    "duration": 19,
    "start_time": "2022-04-18T18:45:58.225Z"
   },
   {
    "duration": 11,
    "start_time": "2022-04-18T18:47:50.261Z"
   },
   {
    "duration": 10,
    "start_time": "2022-04-18T18:47:55.156Z"
   },
   {
    "duration": 21,
    "start_time": "2022-04-18T18:47:59.519Z"
   },
   {
    "duration": 21,
    "start_time": "2022-04-18T18:48:22.732Z"
   },
   {
    "duration": 16,
    "start_time": "2022-04-18T18:48:29.117Z"
   },
   {
    "duration": 20,
    "start_time": "2022-04-18T18:48:38.409Z"
   },
   {
    "duration": 10,
    "start_time": "2022-04-18T18:55:27.924Z"
   },
   {
    "duration": 5,
    "start_time": "2022-04-18T18:55:30.545Z"
   },
   {
    "duration": 12,
    "start_time": "2022-04-18T18:55:32.530Z"
   },
   {
    "duration": 19,
    "start_time": "2022-04-18T18:55:40.989Z"
   },
   {
    "duration": 5,
    "start_time": "2022-04-18T18:55:55.798Z"
   },
   {
    "duration": 15,
    "start_time": "2022-04-18T18:55:56.217Z"
   },
   {
    "duration": 19,
    "start_time": "2022-04-18T18:55:56.803Z"
   },
   {
    "duration": 507,
    "start_time": "2022-04-18T18:57:59.182Z"
   },
   {
    "duration": 144,
    "start_time": "2022-04-18T18:57:59.692Z"
   },
   {
    "duration": 57,
    "start_time": "2022-04-18T18:57:59.838Z"
   },
   {
    "duration": 45,
    "start_time": "2022-04-18T18:57:59.898Z"
   },
   {
    "duration": 38,
    "start_time": "2022-04-18T18:57:59.945Z"
   },
   {
    "duration": 7,
    "start_time": "2022-04-18T18:57:59.985Z"
   },
   {
    "duration": 8,
    "start_time": "2022-04-18T18:57:59.995Z"
   },
   {
    "duration": 10,
    "start_time": "2022-04-18T18:58:00.006Z"
   },
   {
    "duration": 16,
    "start_time": "2022-04-18T18:58:00.018Z"
   },
   {
    "duration": 44,
    "start_time": "2022-04-18T18:58:00.039Z"
   },
   {
    "duration": 10,
    "start_time": "2022-04-18T18:58:00.085Z"
   },
   {
    "duration": 13,
    "start_time": "2022-04-18T18:58:00.098Z"
   },
   {
    "duration": 8,
    "start_time": "2022-04-18T18:58:00.114Z"
   },
   {
    "duration": 22,
    "start_time": "2022-04-18T18:58:00.124Z"
   },
   {
    "duration": 38,
    "start_time": "2022-04-18T18:58:00.148Z"
   },
   {
    "duration": 13,
    "start_time": "2022-04-18T18:58:00.188Z"
   },
   {
    "duration": 24,
    "start_time": "2022-04-18T18:58:00.203Z"
   },
   {
    "duration": 39,
    "start_time": "2022-04-18T18:58:00.229Z"
   },
   {
    "duration": 15,
    "start_time": "2022-04-18T18:58:00.270Z"
   },
   {
    "duration": 21,
    "start_time": "2022-04-18T18:58:00.287Z"
   },
   {
    "duration": 27,
    "start_time": "2022-04-18T18:58:00.310Z"
   },
   {
    "duration": 77,
    "start_time": "2022-04-18T18:58:00.339Z"
   },
   {
    "duration": 31,
    "start_time": "2022-04-18T18:58:00.418Z"
   },
   {
    "duration": 35,
    "start_time": "2022-04-18T18:58:00.451Z"
   },
   {
    "duration": 26,
    "start_time": "2022-04-18T18:58:00.489Z"
   },
   {
    "duration": 9,
    "start_time": "2022-04-18T18:58:00.518Z"
   },
   {
    "duration": 14,
    "start_time": "2022-04-18T18:58:00.530Z"
   },
   {
    "duration": 10,
    "start_time": "2022-04-18T18:58:00.583Z"
   },
   {
    "duration": 28,
    "start_time": "2022-04-18T18:58:00.596Z"
   },
   {
    "duration": 11,
    "start_time": "2022-04-18T18:58:00.627Z"
   },
   {
    "duration": 94,
    "start_time": "2022-04-18T18:58:00.641Z"
   },
   {
    "duration": 10,
    "start_time": "2022-04-18T18:58:00.737Z"
   },
   {
    "duration": 34,
    "start_time": "2022-04-18T18:58:00.749Z"
   },
   {
    "duration": 9,
    "start_time": "2022-04-18T18:58:00.786Z"
   },
   {
    "duration": 26,
    "start_time": "2022-04-18T18:58:00.797Z"
   },
   {
    "duration": 17,
    "start_time": "2022-04-18T18:58:00.825Z"
   },
   {
    "duration": 25,
    "start_time": "2022-04-18T18:58:00.845Z"
   },
   {
    "duration": 16,
    "start_time": "2022-04-18T18:58:00.882Z"
   },
   {
    "duration": 34,
    "start_time": "2022-04-18T18:58:00.901Z"
   },
   {
    "duration": 32,
    "start_time": "2022-04-18T18:58:00.937Z"
   },
   {
    "duration": 27,
    "start_time": "2022-04-18T18:58:00.971Z"
   },
   {
    "duration": 22,
    "start_time": "2022-04-18T18:58:01.000Z"
   },
   {
    "duration": 250,
    "start_time": "2022-04-18T18:58:01.025Z"
   },
   {
    "duration": 482,
    "start_time": "2022-04-18T18:59:51.011Z"
   },
   {
    "duration": 102,
    "start_time": "2022-04-18T18:59:51.495Z"
   },
   {
    "duration": 47,
    "start_time": "2022-04-18T18:59:51.600Z"
   },
   {
    "duration": 73,
    "start_time": "2022-04-18T18:59:51.651Z"
   },
   {
    "duration": 14,
    "start_time": "2022-04-18T18:59:51.726Z"
   },
   {
    "duration": 8,
    "start_time": "2022-04-18T18:59:51.742Z"
   },
   {
    "duration": 36,
    "start_time": "2022-04-18T18:59:51.752Z"
   },
   {
    "duration": 9,
    "start_time": "2022-04-18T18:59:51.790Z"
   },
   {
    "duration": 27,
    "start_time": "2022-04-18T18:59:51.801Z"
   },
   {
    "duration": 11,
    "start_time": "2022-04-18T18:59:51.832Z"
   },
   {
    "duration": 13,
    "start_time": "2022-04-18T18:59:51.845Z"
   },
   {
    "duration": 22,
    "start_time": "2022-04-18T18:59:51.860Z"
   },
   {
    "duration": 26,
    "start_time": "2022-04-18T18:59:51.885Z"
   },
   {
    "duration": 31,
    "start_time": "2022-04-18T18:59:51.913Z"
   },
   {
    "duration": 25,
    "start_time": "2022-04-18T18:59:51.947Z"
   },
   {
    "duration": 14,
    "start_time": "2022-04-18T18:59:51.974Z"
   },
   {
    "duration": 9,
    "start_time": "2022-04-18T18:59:51.991Z"
   },
   {
    "duration": 42,
    "start_time": "2022-04-18T18:59:52.002Z"
   },
   {
    "duration": 20,
    "start_time": "2022-04-18T18:59:52.046Z"
   },
   {
    "duration": 19,
    "start_time": "2022-04-18T18:59:52.069Z"
   },
   {
    "duration": 16,
    "start_time": "2022-04-18T18:59:52.091Z"
   },
   {
    "duration": 35,
    "start_time": "2022-04-18T18:59:52.109Z"
   },
   {
    "duration": 65,
    "start_time": "2022-04-18T18:59:52.147Z"
   },
   {
    "duration": 43,
    "start_time": "2022-04-18T18:59:52.214Z"
   },
   {
    "duration": 42,
    "start_time": "2022-04-18T18:59:52.259Z"
   },
   {
    "duration": 9,
    "start_time": "2022-04-18T18:59:52.303Z"
   },
   {
    "duration": 12,
    "start_time": "2022-04-18T18:59:52.315Z"
   },
   {
    "duration": 11,
    "start_time": "2022-04-18T18:59:52.331Z"
   },
   {
    "duration": 23,
    "start_time": "2022-04-18T18:59:52.383Z"
   },
   {
    "duration": 13,
    "start_time": "2022-04-18T18:59:52.408Z"
   },
   {
    "duration": 15,
    "start_time": "2022-04-18T18:59:52.423Z"
   },
   {
    "duration": 9,
    "start_time": "2022-04-18T18:59:52.440Z"
   },
   {
    "duration": 10,
    "start_time": "2022-04-18T18:59:52.481Z"
   },
   {
    "duration": 24,
    "start_time": "2022-04-18T18:59:52.493Z"
   },
   {
    "duration": 17,
    "start_time": "2022-04-18T18:59:52.519Z"
   },
   {
    "duration": 54,
    "start_time": "2022-04-18T18:59:52.538Z"
   },
   {
    "duration": 14,
    "start_time": "2022-04-18T18:59:52.594Z"
   },
   {
    "duration": 20,
    "start_time": "2022-04-18T18:59:52.610Z"
   },
   {
    "duration": 19,
    "start_time": "2022-04-18T18:59:52.632Z"
   },
   {
    "duration": 250,
    "start_time": "2022-04-18T18:59:52.654Z"
   },
   {
    "duration": 11,
    "start_time": "2022-04-18T19:00:14.002Z"
   },
   {
    "duration": 12,
    "start_time": "2022-04-18T19:08:01.779Z"
   },
   {
    "duration": 15,
    "start_time": "2022-04-18T19:08:21.912Z"
   },
   {
    "duration": 17,
    "start_time": "2022-04-18T19:08:31.548Z"
   },
   {
    "duration": 11,
    "start_time": "2022-04-18T19:08:32.980Z"
   },
   {
    "duration": 13,
    "start_time": "2022-04-18T19:08:50.433Z"
   },
   {
    "duration": 25,
    "start_time": "2022-04-18T19:14:10.284Z"
   },
   {
    "duration": 12,
    "start_time": "2022-04-18T19:14:11.004Z"
   },
   {
    "duration": 9,
    "start_time": "2022-04-18T19:14:14.441Z"
   },
   {
    "duration": 17,
    "start_time": "2022-04-18T19:14:15.359Z"
   },
   {
    "duration": 9,
    "start_time": "2022-04-18T19:14:16.494Z"
   },
   {
    "duration": 13,
    "start_time": "2022-04-18T19:17:00.747Z"
   },
   {
    "duration": 10,
    "start_time": "2022-04-18T19:17:01.303Z"
   },
   {
    "duration": 26,
    "start_time": "2022-04-18T19:18:04.000Z"
   },
   {
    "duration": 9,
    "start_time": "2022-04-18T19:18:04.534Z"
   },
   {
    "duration": 27,
    "start_time": "2022-04-18T19:18:52.538Z"
   },
   {
    "duration": 11,
    "start_time": "2022-04-18T19:18:52.723Z"
   },
   {
    "duration": 15,
    "start_time": "2022-04-18T19:19:03.974Z"
   },
   {
    "duration": 11,
    "start_time": "2022-04-18T19:19:04.649Z"
   },
   {
    "duration": 26,
    "start_time": "2022-04-18T19:25:20.236Z"
   },
   {
    "duration": 11,
    "start_time": "2022-04-18T19:25:21.066Z"
   },
   {
    "duration": 25,
    "start_time": "2022-04-18T19:28:14.679Z"
   },
   {
    "duration": 8,
    "start_time": "2022-04-18T19:28:15.797Z"
   },
   {
    "duration": 29,
    "start_time": "2022-04-18T19:29:35.068Z"
   },
   {
    "duration": 9,
    "start_time": "2022-04-18T19:29:35.632Z"
   },
   {
    "duration": 12,
    "start_time": "2022-04-18T19:30:27.465Z"
   },
   {
    "duration": 9,
    "start_time": "2022-04-18T19:30:27.943Z"
   },
   {
    "duration": 25,
    "start_time": "2022-04-18T19:30:39.293Z"
   },
   {
    "duration": 10,
    "start_time": "2022-04-18T19:30:40.639Z"
   },
   {
    "duration": 9,
    "start_time": "2022-04-18T19:30:56.022Z"
   },
   {
    "duration": 9,
    "start_time": "2022-04-18T19:31:01.622Z"
   },
   {
    "duration": 13,
    "start_time": "2022-04-18T19:31:05.052Z"
   },
   {
    "duration": 13,
    "start_time": "2022-04-18T19:31:11.019Z"
   },
   {
    "duration": 21,
    "start_time": "2022-04-18T19:31:26.466Z"
   },
   {
    "duration": 19,
    "start_time": "2022-04-18T19:31:26.843Z"
   },
   {
    "duration": 24,
    "start_time": "2022-04-18T19:31:52.278Z"
   },
   {
    "duration": 15,
    "start_time": "2022-04-18T19:31:52.508Z"
   },
   {
    "duration": 13,
    "start_time": "2022-04-18T19:32:02.863Z"
   },
   {
    "duration": 13,
    "start_time": "2022-04-18T19:32:08.341Z"
   },
   {
    "duration": 15,
    "start_time": "2022-04-18T19:32:11.529Z"
   },
   {
    "duration": 10,
    "start_time": "2022-04-18T19:36:12.941Z"
   },
   {
    "duration": 512,
    "start_time": "2022-04-18T19:36:19.002Z"
   },
   {
    "duration": 298,
    "start_time": "2022-04-18T19:36:19.520Z"
   },
   {
    "duration": 43,
    "start_time": "2022-04-18T19:36:19.820Z"
   },
   {
    "duration": 49,
    "start_time": "2022-04-18T19:36:19.883Z"
   },
   {
    "duration": 15,
    "start_time": "2022-04-18T19:36:19.935Z"
   },
   {
    "duration": 39,
    "start_time": "2022-04-18T19:36:19.952Z"
   },
   {
    "duration": 25,
    "start_time": "2022-04-18T19:36:19.994Z"
   },
   {
    "duration": 14,
    "start_time": "2022-04-18T19:36:20.022Z"
   },
   {
    "duration": 15,
    "start_time": "2022-04-18T19:36:20.038Z"
   },
   {
    "duration": 4,
    "start_time": "2022-04-18T19:36:20.059Z"
   },
   {
    "duration": 23,
    "start_time": "2022-04-18T19:36:20.066Z"
   },
   {
    "duration": 13,
    "start_time": "2022-04-18T19:36:20.093Z"
   },
   {
    "duration": 9,
    "start_time": "2022-04-18T19:36:20.108Z"
   },
   {
    "duration": 11,
    "start_time": "2022-04-18T19:36:20.119Z"
   },
   {
    "duration": 23,
    "start_time": "2022-04-18T19:36:20.132Z"
   },
   {
    "duration": 20,
    "start_time": "2022-04-18T19:36:20.183Z"
   },
   {
    "duration": 11,
    "start_time": "2022-04-18T19:36:20.206Z"
   },
   {
    "duration": 33,
    "start_time": "2022-04-18T19:36:20.219Z"
   },
   {
    "duration": 40,
    "start_time": "2022-04-18T19:36:20.255Z"
   },
   {
    "duration": 15,
    "start_time": "2022-04-18T19:36:20.303Z"
   },
   {
    "duration": 14,
    "start_time": "2022-04-18T19:36:20.321Z"
   },
   {
    "duration": 63,
    "start_time": "2022-04-18T19:36:20.337Z"
   },
   {
    "duration": 26,
    "start_time": "2022-04-18T19:36:20.402Z"
   },
   {
    "duration": 29,
    "start_time": "2022-04-18T19:36:20.431Z"
   },
   {
    "duration": 52,
    "start_time": "2022-04-18T19:36:20.462Z"
   },
   {
    "duration": 8,
    "start_time": "2022-04-18T19:36:20.516Z"
   },
   {
    "duration": 29,
    "start_time": "2022-04-18T19:36:20.526Z"
   },
   {
    "duration": 35,
    "start_time": "2022-04-18T19:36:20.560Z"
   },
   {
    "duration": 45,
    "start_time": "2022-04-18T19:36:20.598Z"
   },
   {
    "duration": 9,
    "start_time": "2022-04-18T19:36:20.646Z"
   },
   {
    "duration": 24,
    "start_time": "2022-04-18T19:36:20.685Z"
   },
   {
    "duration": 10,
    "start_time": "2022-04-18T19:36:20.713Z"
   },
   {
    "duration": 25,
    "start_time": "2022-04-18T19:36:20.726Z"
   },
   {
    "duration": 18,
    "start_time": "2022-04-18T19:36:20.753Z"
   },
   {
    "duration": 27,
    "start_time": "2022-04-18T19:36:20.788Z"
   },
   {
    "duration": 28,
    "start_time": "2022-04-18T19:36:20.818Z"
   },
   {
    "duration": 6,
    "start_time": "2022-04-18T19:36:20.848Z"
   },
   {
    "duration": 35,
    "start_time": "2022-04-18T19:36:20.857Z"
   },
   {
    "duration": 37,
    "start_time": "2022-04-18T19:36:20.895Z"
   },
   {
    "duration": 20,
    "start_time": "2022-04-18T19:36:20.935Z"
   },
   {
    "duration": 39,
    "start_time": "2022-04-18T19:36:20.958Z"
   },
   {
    "duration": 19,
    "start_time": "2022-04-18T19:36:21.000Z"
   },
   {
    "duration": 595,
    "start_time": "2022-04-18T19:39:21.913Z"
   },
   {
    "duration": 101,
    "start_time": "2022-04-18T19:39:22.511Z"
   },
   {
    "duration": 44,
    "start_time": "2022-04-18T19:39:22.615Z"
   },
   {
    "duration": 53,
    "start_time": "2022-04-18T19:39:22.682Z"
   },
   {
    "duration": 13,
    "start_time": "2022-04-18T19:39:22.737Z"
   },
   {
    "duration": 29,
    "start_time": "2022-04-18T19:39:22.753Z"
   },
   {
    "duration": 9,
    "start_time": "2022-04-18T19:39:22.790Z"
   },
   {
    "duration": 7,
    "start_time": "2022-04-18T19:39:22.803Z"
   },
   {
    "duration": 15,
    "start_time": "2022-04-18T19:39:22.813Z"
   },
   {
    "duration": 4,
    "start_time": "2022-04-18T19:39:22.834Z"
   },
   {
    "duration": 54,
    "start_time": "2022-04-18T19:39:22.841Z"
   },
   {
    "duration": 6,
    "start_time": "2022-04-18T19:39:22.898Z"
   },
   {
    "duration": 6,
    "start_time": "2022-04-18T19:39:22.906Z"
   },
   {
    "duration": 9,
    "start_time": "2022-04-18T19:39:22.914Z"
   },
   {
    "duration": 24,
    "start_time": "2022-04-18T19:39:22.925Z"
   },
   {
    "duration": 22,
    "start_time": "2022-04-18T19:39:22.981Z"
   },
   {
    "duration": 10,
    "start_time": "2022-04-18T19:39:23.006Z"
   },
   {
    "duration": 27,
    "start_time": "2022-04-18T19:39:23.018Z"
   },
   {
    "duration": 9,
    "start_time": "2022-04-18T19:39:23.047Z"
   },
   {
    "duration": 16,
    "start_time": "2022-04-18T19:39:23.088Z"
   },
   {
    "duration": 14,
    "start_time": "2022-04-18T19:39:23.107Z"
   },
   {
    "duration": 26,
    "start_time": "2022-04-18T19:39:23.124Z"
   },
   {
    "duration": 58,
    "start_time": "2022-04-18T19:39:23.153Z"
   },
   {
    "duration": 29,
    "start_time": "2022-04-18T19:39:23.213Z"
   },
   {
    "duration": 61,
    "start_time": "2022-04-18T19:39:23.245Z"
   },
   {
    "duration": 9,
    "start_time": "2022-04-18T19:39:23.309Z"
   },
   {
    "duration": 19,
    "start_time": "2022-04-18T19:39:23.321Z"
   },
   {
    "duration": 9,
    "start_time": "2022-04-18T19:39:23.347Z"
   },
   {
    "duration": 28,
    "start_time": "2022-04-18T19:39:23.385Z"
   },
   {
    "duration": 9,
    "start_time": "2022-04-18T19:39:23.416Z"
   },
   {
    "duration": 7,
    "start_time": "2022-04-18T19:39:23.427Z"
   },
   {
    "duration": 54,
    "start_time": "2022-04-18T19:39:23.437Z"
   },
   {
    "duration": 9,
    "start_time": "2022-04-18T19:39:23.494Z"
   },
   {
    "duration": 27,
    "start_time": "2022-04-18T19:39:23.506Z"
   },
   {
    "duration": 15,
    "start_time": "2022-04-18T19:39:23.535Z"
   },
   {
    "duration": 47,
    "start_time": "2022-04-18T19:39:23.553Z"
   },
   {
    "duration": 5,
    "start_time": "2022-04-18T19:39:23.602Z"
   },
   {
    "duration": 16,
    "start_time": "2022-04-18T19:39:23.609Z"
   },
   {
    "duration": 19,
    "start_time": "2022-04-18T19:39:23.627Z"
   },
   {
    "duration": 39,
    "start_time": "2022-04-18T19:39:23.648Z"
   },
   {
    "duration": 24,
    "start_time": "2022-04-18T19:39:23.689Z"
   },
   {
    "duration": 15,
    "start_time": "2022-04-18T19:39:23.715Z"
   },
   {
    "duration": 54,
    "start_time": "2022-04-18T19:51:08.854Z"
   },
   {
    "duration": 6,
    "start_time": "2022-04-18T19:52:22.073Z"
   },
   {
    "duration": 539,
    "start_time": "2022-04-18T19:52:30.279Z"
   },
   {
    "duration": 97,
    "start_time": "2022-04-18T19:52:30.821Z"
   },
   {
    "duration": 41,
    "start_time": "2022-04-18T19:52:30.921Z"
   },
   {
    "duration": 60,
    "start_time": "2022-04-18T19:52:30.965Z"
   },
   {
    "duration": 14,
    "start_time": "2022-04-18T19:52:31.027Z"
   },
   {
    "duration": 8,
    "start_time": "2022-04-18T19:52:31.043Z"
   },
   {
    "duration": 8,
    "start_time": "2022-04-18T19:52:31.082Z"
   },
   {
    "duration": 5,
    "start_time": "2022-04-18T19:52:31.092Z"
   },
   {
    "duration": 19,
    "start_time": "2022-04-18T19:52:31.099Z"
   },
   {
    "duration": 5,
    "start_time": "2022-04-18T19:52:31.122Z"
   },
   {
    "duration": 22,
    "start_time": "2022-04-18T19:52:31.129Z"
   },
   {
    "duration": 4,
    "start_time": "2022-04-18T19:52:31.182Z"
   },
   {
    "duration": 10,
    "start_time": "2022-04-18T19:52:31.189Z"
   },
   {
    "duration": 21,
    "start_time": "2022-04-18T19:52:31.201Z"
   },
   {
    "duration": 25,
    "start_time": "2022-04-18T19:52:31.224Z"
   },
   {
    "duration": 33,
    "start_time": "2022-04-18T19:52:31.251Z"
   },
   {
    "duration": 10,
    "start_time": "2022-04-18T19:52:31.287Z"
   },
   {
    "duration": 43,
    "start_time": "2022-04-18T19:52:31.299Z"
   },
   {
    "duration": 9,
    "start_time": "2022-04-18T19:52:31.344Z"
   },
   {
    "duration": 26,
    "start_time": "2022-04-18T19:52:31.355Z"
   },
   {
    "duration": 20,
    "start_time": "2022-04-18T19:52:31.383Z"
   },
   {
    "duration": 25,
    "start_time": "2022-04-18T19:52:31.405Z"
   },
   {
    "duration": 50,
    "start_time": "2022-04-18T19:52:31.433Z"
   },
   {
    "duration": 30,
    "start_time": "2022-04-18T19:52:31.485Z"
   },
   {
    "duration": 28,
    "start_time": "2022-04-18T19:52:31.517Z"
   },
   {
    "duration": 39,
    "start_time": "2022-04-18T19:52:31.548Z"
   },
   {
    "duration": 21,
    "start_time": "2022-04-18T19:52:31.590Z"
   },
   {
    "duration": 15,
    "start_time": "2022-04-18T19:52:31.618Z"
   },
   {
    "duration": 34,
    "start_time": "2022-04-18T19:52:31.635Z"
   },
   {
    "duration": 11,
    "start_time": "2022-04-18T19:52:31.682Z"
   },
   {
    "duration": 15,
    "start_time": "2022-04-18T19:52:31.695Z"
   },
   {
    "duration": 13,
    "start_time": "2022-04-18T19:52:31.713Z"
   },
   {
    "duration": 23,
    "start_time": "2022-04-18T19:52:31.728Z"
   },
   {
    "duration": 39,
    "start_time": "2022-04-18T19:52:31.753Z"
   },
   {
    "duration": 16,
    "start_time": "2022-04-18T19:52:31.795Z"
   },
   {
    "duration": 22,
    "start_time": "2022-04-18T19:52:31.813Z"
   },
   {
    "duration": 45,
    "start_time": "2022-04-18T19:52:31.837Z"
   },
   {
    "duration": 39,
    "start_time": "2022-04-18T19:52:31.885Z"
   },
   {
    "duration": 27,
    "start_time": "2022-04-18T19:52:31.928Z"
   },
   {
    "duration": 25,
    "start_time": "2022-04-18T19:52:31.957Z"
   },
   {
    "duration": 21,
    "start_time": "2022-04-18T19:52:31.985Z"
   },
   {
    "duration": 15,
    "start_time": "2022-04-18T19:52:32.009Z"
   },
   {
    "duration": 11,
    "start_time": "2022-04-18T19:52:32.027Z"
   },
   {
    "duration": 3,
    "start_time": "2022-04-18T19:52:52.179Z"
   },
   {
    "duration": 9,
    "start_time": "2022-04-18T19:53:00.077Z"
   },
   {
    "duration": 6,
    "start_time": "2022-04-18T19:53:12.727Z"
   },
   {
    "duration": 19,
    "start_time": "2022-04-18T19:55:05.387Z"
   },
   {
    "duration": 13,
    "start_time": "2022-04-18T19:55:14.197Z"
   },
   {
    "duration": 19,
    "start_time": "2022-04-18T19:55:17.972Z"
   },
   {
    "duration": 856,
    "start_time": "2022-04-18T19:55:55.346Z"
   },
   {
    "duration": 209,
    "start_time": "2022-04-18T19:59:35.803Z"
   },
   {
    "duration": 23,
    "start_time": "2022-04-18T19:59:42.701Z"
   },
   {
    "duration": 9,
    "start_time": "2022-04-18T19:59:47.799Z"
   },
   {
    "duration": 221,
    "start_time": "2022-04-18T19:59:56.161Z"
   },
   {
    "duration": 337,
    "start_time": "2022-04-18T20:00:17.978Z"
   },
   {
    "duration": 290,
    "start_time": "2022-04-18T20:00:29.042Z"
   },
   {
    "duration": 2595,
    "start_time": "2022-04-18T20:03:43.488Z"
   },
   {
    "duration": 327,
    "start_time": "2022-04-18T20:06:09.531Z"
   },
   {
    "duration": 325,
    "start_time": "2022-04-18T20:06:31.803Z"
   },
   {
    "duration": 11,
    "start_time": "2022-04-18T20:08:02.237Z"
   },
   {
    "duration": 580,
    "start_time": "2022-04-18T20:09:16.730Z"
   },
   {
    "duration": 94,
    "start_time": "2022-04-18T20:09:17.313Z"
   },
   {
    "duration": 76,
    "start_time": "2022-04-18T20:09:17.410Z"
   },
   {
    "duration": 48,
    "start_time": "2022-04-18T20:09:17.490Z"
   },
   {
    "duration": 44,
    "start_time": "2022-04-18T20:09:17.541Z"
   },
   {
    "duration": 8,
    "start_time": "2022-04-18T20:09:17.587Z"
   },
   {
    "duration": 21,
    "start_time": "2022-04-18T20:09:17.598Z"
   },
   {
    "duration": 12,
    "start_time": "2022-04-18T20:09:17.622Z"
   },
   {
    "duration": 51,
    "start_time": "2022-04-18T20:09:17.636Z"
   },
   {
    "duration": 5,
    "start_time": "2022-04-18T20:09:17.693Z"
   },
   {
    "duration": 24,
    "start_time": "2022-04-18T20:09:17.701Z"
   },
   {
    "duration": 6,
    "start_time": "2022-04-18T20:09:17.728Z"
   },
   {
    "duration": 9,
    "start_time": "2022-04-18T20:09:17.737Z"
   },
   {
    "duration": 35,
    "start_time": "2022-04-18T20:09:17.749Z"
   },
   {
    "duration": 34,
    "start_time": "2022-04-18T20:09:17.787Z"
   },
   {
    "duration": 22,
    "start_time": "2022-04-18T20:09:17.824Z"
   },
   {
    "duration": 41,
    "start_time": "2022-04-18T20:09:17.850Z"
   },
   {
    "duration": 29,
    "start_time": "2022-04-18T20:09:17.895Z"
   },
   {
    "duration": 8,
    "start_time": "2022-04-18T20:09:17.926Z"
   },
   {
    "duration": 47,
    "start_time": "2022-04-18T20:09:17.937Z"
   },
   {
    "duration": 22,
    "start_time": "2022-04-18T20:09:17.987Z"
   },
   {
    "duration": 29,
    "start_time": "2022-04-18T20:09:18.012Z"
   },
   {
    "duration": 51,
    "start_time": "2022-04-18T20:09:18.044Z"
   },
   {
    "duration": 40,
    "start_time": "2022-04-18T20:09:18.097Z"
   },
   {
    "duration": 61,
    "start_time": "2022-04-18T20:09:18.140Z"
   },
   {
    "duration": 9,
    "start_time": "2022-04-18T20:09:18.204Z"
   },
   {
    "duration": 20,
    "start_time": "2022-04-18T20:09:18.216Z"
   },
   {
    "duration": 10,
    "start_time": "2022-04-18T20:09:18.241Z"
   },
   {
    "duration": 22,
    "start_time": "2022-04-18T20:09:18.283Z"
   },
   {
    "duration": 12,
    "start_time": "2022-04-18T20:09:18.307Z"
   },
   {
    "duration": 8,
    "start_time": "2022-04-18T20:09:18.322Z"
   },
   {
    "duration": 8,
    "start_time": "2022-04-18T20:09:18.333Z"
   },
   {
    "duration": 10,
    "start_time": "2022-04-18T20:09:18.383Z"
   },
   {
    "duration": 18,
    "start_time": "2022-04-18T20:09:18.396Z"
   },
   {
    "duration": 23,
    "start_time": "2022-04-18T20:09:18.417Z"
   },
   {
    "duration": 65,
    "start_time": "2022-04-18T20:09:18.443Z"
   },
   {
    "duration": 6,
    "start_time": "2022-04-18T20:09:18.512Z"
   },
   {
    "duration": 21,
    "start_time": "2022-04-18T20:09:18.521Z"
   },
   {
    "duration": 51,
    "start_time": "2022-04-18T20:09:18.545Z"
   },
   {
    "duration": 17,
    "start_time": "2022-04-18T20:09:18.599Z"
   },
   {
    "duration": 16,
    "start_time": "2022-04-18T20:09:18.619Z"
   },
   {
    "duration": 10,
    "start_time": "2022-04-18T20:09:18.638Z"
   },
   {
    "duration": 64,
    "start_time": "2022-04-18T20:09:18.650Z"
   },
   {
    "duration": 156,
    "start_time": "2022-04-18T20:09:18.716Z"
   },
   {
    "duration": 0,
    "start_time": "2022-04-18T20:09:18.882Z"
   },
   {
    "duration": 11,
    "start_time": "2022-04-18T20:09:23.746Z"
   },
   {
    "duration": 772,
    "start_time": "2022-04-18T20:09:25.817Z"
   },
   {
    "duration": 4,
    "start_time": "2022-04-18T20:18:03.771Z"
   },
   {
    "duration": 4,
    "start_time": "2022-04-18T20:18:20.626Z"
   },
   {
    "duration": 12,
    "start_time": "2022-04-18T20:18:57.251Z"
   },
   {
    "duration": 9,
    "start_time": "2022-04-18T20:19:00.534Z"
   },
   {
    "duration": 30,
    "start_time": "2022-04-18T20:24:42.593Z"
   },
   {
    "duration": 8,
    "start_time": "2022-04-18T20:24:58.309Z"
   },
   {
    "duration": 129,
    "start_time": "2022-04-18T20:26:31.161Z"
   },
   {
    "duration": 9,
    "start_time": "2022-04-18T20:26:44.442Z"
   },
   {
    "duration": 9,
    "start_time": "2022-04-18T20:26:53.374Z"
   },
   {
    "duration": 16,
    "start_time": "2022-04-18T20:27:18.418Z"
   },
   {
    "duration": 18,
    "start_time": "2022-04-18T20:27:21.983Z"
   },
   {
    "duration": 19,
    "start_time": "2022-04-18T20:27:24.517Z"
   },
   {
    "duration": 15,
    "start_time": "2022-04-18T20:27:27.118Z"
   },
   {
    "duration": 15,
    "start_time": "2022-04-18T20:27:27.456Z"
   },
   {
    "duration": 25,
    "start_time": "2022-04-18T20:27:33.690Z"
   },
   {
    "duration": 19,
    "start_time": "2022-04-18T20:27:35.673Z"
   },
   {
    "duration": 23,
    "start_time": "2022-04-18T20:27:35.903Z"
   },
   {
    "duration": 23,
    "start_time": "2022-04-18T20:27:53.041Z"
   },
   {
    "duration": 19,
    "start_time": "2022-04-18T20:27:54.535Z"
   },
   {
    "duration": 22,
    "start_time": "2022-04-18T20:27:54.722Z"
   },
   {
    "duration": 13,
    "start_time": "2022-04-18T20:29:17.734Z"
   },
   {
    "duration": 14,
    "start_time": "2022-04-18T20:29:17.921Z"
   },
   {
    "duration": 12,
    "start_time": "2022-04-18T20:29:21.413Z"
   },
   {
    "duration": 13,
    "start_time": "2022-04-18T20:29:24.905Z"
   },
   {
    "duration": 13,
    "start_time": "2022-04-18T20:29:26.826Z"
   },
   {
    "duration": 9,
    "start_time": "2022-04-18T20:29:27.140Z"
   },
   {
    "duration": 10,
    "start_time": "2022-04-18T20:29:27.459Z"
   },
   {
    "duration": 8,
    "start_time": "2022-04-18T20:29:34.934Z"
   },
   {
    "duration": 12,
    "start_time": "2022-04-18T20:29:35.123Z"
   },
   {
    "duration": 13,
    "start_time": "2022-04-18T20:29:37.125Z"
   },
   {
    "duration": 8,
    "start_time": "2022-04-18T20:29:37.292Z"
   },
   {
    "duration": 10,
    "start_time": "2022-04-18T20:29:37.460Z"
   },
   {
    "duration": 31,
    "start_time": "2022-04-18T20:30:41.128Z"
   },
   {
    "duration": 8,
    "start_time": "2022-04-18T20:31:10.921Z"
   },
   {
    "duration": 11,
    "start_time": "2022-04-18T20:31:11.421Z"
   },
   {
    "duration": 14,
    "start_time": "2022-04-18T20:31:13.043Z"
   },
   {
    "duration": 9,
    "start_time": "2022-04-18T20:31:13.211Z"
   },
   {
    "duration": 10,
    "start_time": "2022-04-18T20:31:13.531Z"
   },
   {
    "duration": 8,
    "start_time": "2022-04-18T20:31:23.837Z"
   },
   {
    "duration": 11,
    "start_time": "2022-04-18T20:31:24.571Z"
   },
   {
    "duration": 14,
    "start_time": "2022-04-18T20:31:26.927Z"
   },
   {
    "duration": 7,
    "start_time": "2022-04-18T20:31:27.096Z"
   },
   {
    "duration": 10,
    "start_time": "2022-04-18T20:31:27.264Z"
   },
   {
    "duration": 12,
    "start_time": "2022-04-18T20:31:56.840Z"
   },
   {
    "duration": 6,
    "start_time": "2022-04-18T20:31:57.027Z"
   },
   {
    "duration": 10,
    "start_time": "2022-04-18T20:31:57.199Z"
   },
   {
    "duration": 218,
    "start_time": "2022-04-18T20:32:30.564Z"
   },
   {
    "duration": 242,
    "start_time": "2022-04-18T20:32:57.791Z"
   },
   {
    "duration": 2067,
    "start_time": "2022-04-18T20:33:18.690Z"
   },
   {
    "duration": 234,
    "start_time": "2022-04-18T20:33:25.659Z"
   },
   {
    "duration": 18,
    "start_time": "2022-04-18T20:37:47.660Z"
   },
   {
    "duration": 2478,
    "start_time": "2022-04-18T20:37:59.851Z"
   },
   {
    "duration": 20,
    "start_time": "2022-04-18T20:38:17.801Z"
   },
   {
    "duration": 15,
    "start_time": "2022-04-18T20:38:18.710Z"
   },
   {
    "duration": 1812,
    "start_time": "2022-04-18T20:38:26.276Z"
   },
   {
    "duration": 1945,
    "start_time": "2022-04-18T20:38:38.995Z"
   },
   {
    "duration": 1749,
    "start_time": "2022-04-18T20:38:46.719Z"
   },
   {
    "duration": 1551,
    "start_time": "2022-04-18T20:38:55.836Z"
   },
   {
    "duration": 422,
    "start_time": "2022-04-18T20:39:03.073Z"
   },
   {
    "duration": 770,
    "start_time": "2022-04-18T20:39:26.168Z"
   },
   {
    "duration": 16,
    "start_time": "2022-04-18T20:39:37.749Z"
   },
   {
    "duration": 9,
    "start_time": "2022-04-18T20:39:38.878Z"
   },
   {
    "duration": 209,
    "start_time": "2022-04-18T20:39:40.695Z"
   },
   {
    "duration": 359,
    "start_time": "2022-04-18T20:40:05.718Z"
   },
   {
    "duration": 281,
    "start_time": "2022-04-18T20:40:33.336Z"
   },
   {
    "duration": 357,
    "start_time": "2022-04-18T20:41:05.368Z"
   },
   {
    "duration": 12,
    "start_time": "2022-04-18T20:41:30.350Z"
   },
   {
    "duration": 12,
    "start_time": "2022-04-18T20:41:30.765Z"
   },
   {
    "duration": 333,
    "start_time": "2022-04-18T20:41:31.289Z"
   },
   {
    "duration": 14,
    "start_time": "2022-04-18T20:41:33.205Z"
   },
   {
    "duration": 7,
    "start_time": "2022-04-18T20:41:33.391Z"
   },
   {
    "duration": 15,
    "start_time": "2022-04-18T20:41:33.560Z"
   },
   {
    "duration": 231,
    "start_time": "2022-04-18T20:41:34.003Z"
   },
   {
    "duration": 197,
    "start_time": "2022-04-18T20:43:14.499Z"
   },
   {
    "duration": 12,
    "start_time": "2022-04-18T20:52:00.549Z"
   },
   {
    "duration": 13,
    "start_time": "2022-04-18T20:52:21.883Z"
   },
   {
    "duration": 535,
    "start_time": "2022-04-18T20:59:51.664Z"
   },
   {
    "duration": 102,
    "start_time": "2022-04-18T20:59:52.202Z"
   },
   {
    "duration": 46,
    "start_time": "2022-04-18T20:59:52.307Z"
   },
   {
    "duration": 70,
    "start_time": "2022-04-18T20:59:52.357Z"
   },
   {
    "duration": 14,
    "start_time": "2022-04-18T20:59:52.429Z"
   },
   {
    "duration": 40,
    "start_time": "2022-04-18T20:59:52.445Z"
   },
   {
    "duration": 8,
    "start_time": "2022-04-18T20:59:52.488Z"
   },
   {
    "duration": 6,
    "start_time": "2022-04-18T20:59:52.499Z"
   },
   {
    "duration": 15,
    "start_time": "2022-04-18T20:59:52.507Z"
   },
   {
    "duration": 4,
    "start_time": "2022-04-18T20:59:52.525Z"
   },
   {
    "duration": 12,
    "start_time": "2022-04-18T20:59:52.531Z"
   },
   {
    "duration": 42,
    "start_time": "2022-04-18T20:59:52.545Z"
   },
   {
    "duration": 15,
    "start_time": "2022-04-18T20:59:52.589Z"
   },
   {
    "duration": 16,
    "start_time": "2022-04-18T20:59:52.606Z"
   },
   {
    "duration": 29,
    "start_time": "2022-04-18T20:59:52.624Z"
   },
   {
    "duration": 13,
    "start_time": "2022-04-18T20:59:52.655Z"
   },
   {
    "duration": 12,
    "start_time": "2022-04-18T20:59:52.683Z"
   },
   {
    "duration": 20,
    "start_time": "2022-04-18T20:59:52.698Z"
   },
   {
    "duration": 8,
    "start_time": "2022-04-18T20:59:52.720Z"
   },
   {
    "duration": 13,
    "start_time": "2022-04-18T20:59:52.731Z"
   },
   {
    "duration": 13,
    "start_time": "2022-04-18T20:59:52.781Z"
   },
   {
    "duration": 28,
    "start_time": "2022-04-18T20:59:52.798Z"
   },
   {
    "duration": 27,
    "start_time": "2022-04-18T20:59:52.828Z"
   },
   {
    "duration": 61,
    "start_time": "2022-04-18T20:59:52.857Z"
   },
   {
    "duration": 26,
    "start_time": "2022-04-18T20:59:52.920Z"
   },
   {
    "duration": 7,
    "start_time": "2022-04-18T20:59:52.948Z"
   },
   {
    "duration": 14,
    "start_time": "2022-04-18T20:59:52.984Z"
   },
   {
    "duration": 10,
    "start_time": "2022-04-18T20:59:53.003Z"
   },
   {
    "duration": 32,
    "start_time": "2022-04-18T20:59:53.015Z"
   },
   {
    "duration": 40,
    "start_time": "2022-04-18T20:59:53.050Z"
   },
   {
    "duration": 16,
    "start_time": "2022-04-18T20:59:53.093Z"
   },
   {
    "duration": 12,
    "start_time": "2022-04-18T20:59:53.112Z"
   },
   {
    "duration": 16,
    "start_time": "2022-04-18T20:59:53.127Z"
   },
   {
    "duration": 19,
    "start_time": "2022-04-18T20:59:53.145Z"
   },
   {
    "duration": 20,
    "start_time": "2022-04-18T20:59:53.183Z"
   },
   {
    "duration": 27,
    "start_time": "2022-04-18T20:59:53.206Z"
   },
   {
    "duration": 10,
    "start_time": "2022-04-18T20:59:53.236Z"
   },
   {
    "duration": 45,
    "start_time": "2022-04-18T20:59:53.248Z"
   },
   {
    "duration": 30,
    "start_time": "2022-04-18T20:59:53.295Z"
   },
   {
    "duration": 23,
    "start_time": "2022-04-18T20:59:53.327Z"
   },
   {
    "duration": 27,
    "start_time": "2022-04-18T20:59:53.353Z"
   },
   {
    "duration": 14,
    "start_time": "2022-04-18T20:59:53.390Z"
   },
   {
    "duration": 23,
    "start_time": "2022-04-18T20:59:53.407Z"
   },
   {
    "duration": 9,
    "start_time": "2022-04-18T20:59:53.433Z"
   },
   {
    "duration": 606,
    "start_time": "2022-04-18T20:59:53.445Z"
   },
   {
    "duration": 13,
    "start_time": "2022-04-18T20:59:54.054Z"
   },
   {
    "duration": 36,
    "start_time": "2022-04-18T20:59:54.069Z"
   },
   {
    "duration": 14,
    "start_time": "2022-04-18T20:59:54.107Z"
   },
   {
    "duration": 125,
    "start_time": "2022-04-18T21:01:44.888Z"
   },
   {
    "duration": 13,
    "start_time": "2022-04-18T21:01:59.219Z"
   },
   {
    "duration": 7,
    "start_time": "2022-04-18T21:02:00.258Z"
   },
   {
    "duration": 15,
    "start_time": "2022-04-18T21:02:00.425Z"
   },
   {
    "duration": 19,
    "start_time": "2022-04-18T21:02:08.030Z"
   },
   {
    "duration": 17,
    "start_time": "2022-04-18T21:05:23.456Z"
   },
   {
    "duration": 9,
    "start_time": "2022-04-18T21:05:27.639Z"
   },
   {
    "duration": 10,
    "start_time": "2022-04-18T21:05:39.163Z"
   },
   {
    "duration": 13,
    "start_time": "2022-04-18T21:05:43.618Z"
   },
   {
    "duration": 9,
    "start_time": "2022-04-18T21:05:55.606Z"
   },
   {
    "duration": 10,
    "start_time": "2022-04-18T21:06:01.779Z"
   },
   {
    "duration": 10,
    "start_time": "2022-04-18T21:06:09.243Z"
   },
   {
    "duration": 223,
    "start_time": "2022-04-18T21:09:18.212Z"
   },
   {
    "duration": 5,
    "start_time": "2022-04-18T21:09:35.766Z"
   },
   {
    "duration": 9,
    "start_time": "2022-04-18T21:09:41.048Z"
   },
   {
    "duration": 217,
    "start_time": "2022-04-18T21:09:43.610Z"
   },
   {
    "duration": 3,
    "start_time": "2022-04-18T21:17:16.322Z"
   },
   {
    "duration": 16,
    "start_time": "2022-04-18T21:17:41.616Z"
   },
   {
    "duration": 9,
    "start_time": "2022-04-18T21:17:45.387Z"
   },
   {
    "duration": 5,
    "start_time": "2022-04-18T21:17:58.146Z"
   },
   {
    "duration": 10,
    "start_time": "2022-04-18T21:18:04.245Z"
   },
   {
    "duration": 213,
    "start_time": "2022-04-18T21:18:30.130Z"
   },
   {
    "duration": 382,
    "start_time": "2022-04-18T21:18:32.829Z"
   },
   {
    "duration": 112,
    "start_time": "2022-04-18T21:19:13.438Z"
   },
   {
    "duration": 528,
    "start_time": "2022-04-18T21:29:21.886Z"
   },
   {
    "duration": 99,
    "start_time": "2022-04-18T21:29:22.417Z"
   },
   {
    "duration": 42,
    "start_time": "2022-04-18T21:29:22.518Z"
   },
   {
    "duration": 62,
    "start_time": "2022-04-18T21:29:22.563Z"
   },
   {
    "duration": 14,
    "start_time": "2022-04-18T21:29:22.627Z"
   },
   {
    "duration": 6,
    "start_time": "2022-04-18T21:29:22.643Z"
   },
   {
    "duration": 37,
    "start_time": "2022-04-18T21:29:22.651Z"
   },
   {
    "duration": 6,
    "start_time": "2022-04-18T21:29:22.690Z"
   },
   {
    "duration": 16,
    "start_time": "2022-04-18T21:29:22.698Z"
   },
   {
    "duration": 4,
    "start_time": "2022-04-18T21:29:22.720Z"
   },
   {
    "duration": 57,
    "start_time": "2022-04-18T21:29:22.726Z"
   },
   {
    "duration": 5,
    "start_time": "2022-04-18T21:29:22.785Z"
   },
   {
    "duration": 8,
    "start_time": "2022-04-18T21:29:22.792Z"
   },
   {
    "duration": 9,
    "start_time": "2022-04-18T21:29:22.802Z"
   },
   {
    "duration": 25,
    "start_time": "2022-04-18T21:29:22.813Z"
   },
   {
    "duration": 49,
    "start_time": "2022-04-18T21:29:22.840Z"
   },
   {
    "duration": 10,
    "start_time": "2022-04-18T21:29:22.891Z"
   },
   {
    "duration": 18,
    "start_time": "2022-04-18T21:29:22.903Z"
   },
   {
    "duration": 11,
    "start_time": "2022-04-18T21:29:22.923Z"
   },
   {
    "duration": 12,
    "start_time": "2022-04-18T21:29:22.936Z"
   },
   {
    "duration": 12,
    "start_time": "2022-04-18T21:29:22.982Z"
   },
   {
    "duration": 25,
    "start_time": "2022-04-18T21:29:22.996Z"
   },
   {
    "duration": 58,
    "start_time": "2022-04-18T21:29:23.023Z"
   },
   {
    "duration": 30,
    "start_time": "2022-04-18T21:29:23.084Z"
   },
   {
    "duration": 25,
    "start_time": "2022-04-18T21:29:23.117Z"
   },
   {
    "duration": 6,
    "start_time": "2022-04-18T21:29:23.145Z"
   },
   {
    "duration": 10,
    "start_time": "2022-04-18T21:29:23.181Z"
   },
   {
    "duration": 10,
    "start_time": "2022-04-18T21:29:23.196Z"
   },
   {
    "duration": 27,
    "start_time": "2022-04-18T21:29:23.208Z"
   },
   {
    "duration": 9,
    "start_time": "2022-04-18T21:29:23.237Z"
   },
   {
    "duration": 40,
    "start_time": "2022-04-18T21:29:23.248Z"
   },
   {
    "duration": 9,
    "start_time": "2022-04-18T21:29:23.290Z"
   },
   {
    "duration": 9,
    "start_time": "2022-04-18T21:29:23.301Z"
   },
   {
    "duration": 21,
    "start_time": "2022-04-18T21:29:23.312Z"
   },
   {
    "duration": 53,
    "start_time": "2022-04-18T21:29:23.335Z"
   },
   {
    "duration": 24,
    "start_time": "2022-04-18T21:29:23.391Z"
   },
   {
    "duration": 7,
    "start_time": "2022-04-18T21:29:23.418Z"
   },
   {
    "duration": 16,
    "start_time": "2022-04-18T21:29:23.427Z"
   },
   {
    "duration": 51,
    "start_time": "2022-04-18T21:29:23.445Z"
   },
   {
    "duration": 13,
    "start_time": "2022-04-18T21:29:23.498Z"
   },
   {
    "duration": 17,
    "start_time": "2022-04-18T21:29:23.513Z"
   },
   {
    "duration": 11,
    "start_time": "2022-04-18T21:29:23.532Z"
   },
   {
    "duration": 48,
    "start_time": "2022-04-18T21:29:23.545Z"
   },
   {
    "duration": 10,
    "start_time": "2022-04-18T21:29:23.595Z"
   },
   {
    "duration": 583,
    "start_time": "2022-04-18T21:29:23.608Z"
   },
   {
    "duration": 13,
    "start_time": "2022-04-18T21:29:24.193Z"
   },
   {
    "duration": 7,
    "start_time": "2022-04-18T21:29:24.208Z"
   },
   {
    "duration": 16,
    "start_time": "2022-04-18T21:29:24.217Z"
   },
   {
    "duration": 49,
    "start_time": "2022-04-18T21:29:24.235Z"
   },
   {
    "duration": 4,
    "start_time": "2022-04-18T21:29:24.286Z"
   },
   {
    "duration": 11,
    "start_time": "2022-04-18T21:29:24.293Z"
   },
   {
    "duration": 235,
    "start_time": "2022-04-18T21:29:24.306Z"
   },
   {
    "duration": 16,
    "start_time": "2022-04-18T21:29:24.543Z"
   },
   {
    "duration": 4,
    "start_time": "2022-04-18T21:29:24.561Z"
   },
   {
    "duration": 11,
    "start_time": "2022-04-18T21:29:24.582Z"
   },
   {
    "duration": 19,
    "start_time": "2022-04-18T21:30:00.600Z"
   },
   {
    "duration": 13,
    "start_time": "2022-04-18T21:30:39.530Z"
   },
   {
    "duration": 13,
    "start_time": "2022-04-18T21:30:41.354Z"
   },
   {
    "duration": 530,
    "start_time": "2022-04-18T21:30:45.286Z"
   },
   {
    "duration": 98,
    "start_time": "2022-04-18T21:30:45.819Z"
   },
   {
    "duration": 32,
    "start_time": "2022-04-18T21:30:45.920Z"
   },
   {
    "duration": 66,
    "start_time": "2022-04-18T21:30:45.957Z"
   },
   {
    "duration": 17,
    "start_time": "2022-04-18T21:30:46.026Z"
   },
   {
    "duration": 39,
    "start_time": "2022-04-18T21:30:46.045Z"
   },
   {
    "duration": 11,
    "start_time": "2022-04-18T21:30:46.087Z"
   },
   {
    "duration": 6,
    "start_time": "2022-04-18T21:30:46.101Z"
   },
   {
    "duration": 23,
    "start_time": "2022-04-18T21:30:46.110Z"
   },
   {
    "duration": 4,
    "start_time": "2022-04-18T21:30:46.139Z"
   },
   {
    "duration": 42,
    "start_time": "2022-04-18T21:30:46.145Z"
   },
   {
    "duration": 7,
    "start_time": "2022-04-18T21:30:46.189Z"
   },
   {
    "duration": 9,
    "start_time": "2022-04-18T21:30:46.198Z"
   },
   {
    "duration": 11,
    "start_time": "2022-04-18T21:30:46.209Z"
   },
   {
    "duration": 60,
    "start_time": "2022-04-18T21:30:46.222Z"
   },
   {
    "duration": 12,
    "start_time": "2022-04-18T21:30:46.285Z"
   },
   {
    "duration": 10,
    "start_time": "2022-04-18T21:30:46.300Z"
   },
   {
    "duration": 24,
    "start_time": "2022-04-18T21:30:46.312Z"
   },
   {
    "duration": 9,
    "start_time": "2022-04-18T21:30:46.338Z"
   },
   {
    "duration": 13,
    "start_time": "2022-04-18T21:30:46.381Z"
   },
   {
    "duration": 15,
    "start_time": "2022-04-18T21:30:46.397Z"
   },
   {
    "duration": 27,
    "start_time": "2022-04-18T21:30:46.414Z"
   },
   {
    "duration": 58,
    "start_time": "2022-04-18T21:30:46.443Z"
   },
   {
    "duration": 29,
    "start_time": "2022-04-18T21:30:46.503Z"
   },
   {
    "duration": 47,
    "start_time": "2022-04-18T21:30:46.535Z"
   },
   {
    "duration": 7,
    "start_time": "2022-04-18T21:30:46.584Z"
   },
   {
    "duration": 10,
    "start_time": "2022-04-18T21:30:46.593Z"
   },
   {
    "duration": 10,
    "start_time": "2022-04-18T21:30:46.609Z"
   },
   {
    "duration": 61,
    "start_time": "2022-04-18T21:30:46.623Z"
   },
   {
    "duration": 11,
    "start_time": "2022-04-18T21:30:46.686Z"
   },
   {
    "duration": 12,
    "start_time": "2022-04-18T21:30:46.700Z"
   },
   {
    "duration": 7,
    "start_time": "2022-04-18T21:30:46.714Z"
   },
   {
    "duration": 14,
    "start_time": "2022-04-18T21:30:46.724Z"
   },
   {
    "duration": 58,
    "start_time": "2022-04-18T21:30:46.739Z"
   },
   {
    "duration": 16,
    "start_time": "2022-04-18T21:30:46.799Z"
   },
   {
    "duration": 21,
    "start_time": "2022-04-18T21:30:46.817Z"
   },
   {
    "duration": 5,
    "start_time": "2022-04-18T21:30:46.840Z"
   },
   {
    "duration": 45,
    "start_time": "2022-04-18T21:30:46.847Z"
   },
   {
    "duration": 19,
    "start_time": "2022-04-18T21:30:46.894Z"
   },
   {
    "duration": 11,
    "start_time": "2022-04-18T21:30:46.915Z"
   },
   {
    "duration": 14,
    "start_time": "2022-04-18T21:30:46.929Z"
   },
   {
    "duration": 43,
    "start_time": "2022-04-18T21:30:46.945Z"
   },
   {
    "duration": 20,
    "start_time": "2022-04-18T21:30:46.990Z"
   },
   {
    "duration": 9,
    "start_time": "2022-04-18T21:30:47.012Z"
   },
   {
    "duration": 639,
    "start_time": "2022-04-18T21:30:47.023Z"
   },
   {
    "duration": 24,
    "start_time": "2022-04-18T21:30:47.664Z"
   },
   {
    "duration": 7,
    "start_time": "2022-04-18T21:30:47.691Z"
   },
   {
    "duration": 15,
    "start_time": "2022-04-18T21:30:47.701Z"
   },
   {
    "duration": 26,
    "start_time": "2022-04-18T21:30:47.719Z"
   },
   {
    "duration": 36,
    "start_time": "2022-04-18T21:30:47.748Z"
   },
   {
    "duration": 14,
    "start_time": "2022-04-18T21:30:47.786Z"
   },
   {
    "duration": 239,
    "start_time": "2022-04-18T21:30:47.802Z"
   },
   {
    "duration": 16,
    "start_time": "2022-04-18T21:30:48.043Z"
   },
   {
    "duration": 4,
    "start_time": "2022-04-18T21:30:48.061Z"
   },
   {
    "duration": 9,
    "start_time": "2022-04-18T21:30:48.082Z"
   },
   {
    "duration": 363,
    "start_time": "2022-04-27T08:39:03.330Z"
   },
   {
    "duration": 67,
    "start_time": "2022-04-27T08:39:03.695Z"
   },
   {
    "duration": 22,
    "start_time": "2022-04-27T08:39:03.763Z"
   },
   {
    "duration": 30,
    "start_time": "2022-04-27T08:39:03.787Z"
   },
   {
    "duration": 10,
    "start_time": "2022-04-27T08:39:03.818Z"
   },
   {
    "duration": 7,
    "start_time": "2022-04-27T08:39:03.830Z"
   },
   {
    "duration": 35,
    "start_time": "2022-04-27T08:39:03.839Z"
   },
   {
    "duration": 4,
    "start_time": "2022-04-27T08:39:03.876Z"
   },
   {
    "duration": 13,
    "start_time": "2022-04-27T08:39:03.881Z"
   },
   {
    "duration": 3,
    "start_time": "2022-04-27T08:39:03.897Z"
   },
   {
    "duration": 12,
    "start_time": "2022-04-27T08:39:03.901Z"
   },
   {
    "duration": 9,
    "start_time": "2022-04-27T08:39:03.915Z"
   },
   {
    "duration": 11,
    "start_time": "2022-04-27T08:39:03.925Z"
   },
   {
    "duration": 9,
    "start_time": "2022-04-27T08:39:03.937Z"
   },
   {
    "duration": 36,
    "start_time": "2022-04-27T08:39:03.948Z"
   },
   {
    "duration": 9,
    "start_time": "2022-04-27T08:39:03.986Z"
   },
   {
    "duration": 6,
    "start_time": "2022-04-27T08:39:03.997Z"
   },
   {
    "duration": 16,
    "start_time": "2022-04-27T08:39:04.005Z"
   },
   {
    "duration": 6,
    "start_time": "2022-04-27T08:39:04.022Z"
   },
   {
    "duration": 10,
    "start_time": "2022-04-27T08:39:04.029Z"
   },
   {
    "duration": 9,
    "start_time": "2022-04-27T08:39:04.073Z"
   },
   {
    "duration": 18,
    "start_time": "2022-04-27T08:39:04.084Z"
   },
   {
    "duration": 17,
    "start_time": "2022-04-27T08:39:04.103Z"
   },
   {
    "duration": 19,
    "start_time": "2022-04-27T08:39:04.121Z"
   },
   {
    "duration": 41,
    "start_time": "2022-04-27T08:39:04.142Z"
   },
   {
    "duration": 16,
    "start_time": "2022-04-27T08:39:04.185Z"
   },
   {
    "duration": 9,
    "start_time": "2022-04-27T08:39:04.203Z"
   },
   {
    "duration": 9,
    "start_time": "2022-04-27T08:39:04.215Z"
   },
   {
    "duration": 25,
    "start_time": "2022-04-27T08:39:04.225Z"
   },
   {
    "duration": 24,
    "start_time": "2022-04-27T08:39:04.252Z"
   },
   {
    "duration": 9,
    "start_time": "2022-04-27T08:39:04.278Z"
   },
   {
    "duration": 9,
    "start_time": "2022-04-27T08:39:04.289Z"
   },
   {
    "duration": 8,
    "start_time": "2022-04-27T08:39:04.300Z"
   },
   {
    "duration": 12,
    "start_time": "2022-04-27T08:39:04.309Z"
   },
   {
    "duration": 14,
    "start_time": "2022-04-27T08:39:04.323Z"
   },
   {
    "duration": 38,
    "start_time": "2022-04-27T08:39:04.339Z"
   },
   {
    "duration": 5,
    "start_time": "2022-04-27T08:39:04.379Z"
   },
   {
    "duration": 14,
    "start_time": "2022-04-27T08:39:04.385Z"
   },
   {
    "duration": 11,
    "start_time": "2022-04-27T08:39:04.401Z"
   },
   {
    "duration": 13,
    "start_time": "2022-04-27T08:39:04.414Z"
   },
   {
    "duration": 11,
    "start_time": "2022-04-27T08:39:04.429Z"
   },
   {
    "duration": 14,
    "start_time": "2022-04-27T08:39:04.441Z"
   },
   {
    "duration": 12,
    "start_time": "2022-04-27T08:39:04.473Z"
   },
   {
    "duration": 6,
    "start_time": "2022-04-27T08:39:04.487Z"
   },
   {
    "duration": 403,
    "start_time": "2022-04-27T08:39:04.494Z"
   },
   {
    "duration": 10,
    "start_time": "2022-04-27T08:39:04.898Z"
   },
   {
    "duration": 10,
    "start_time": "2022-04-27T08:39:04.909Z"
   },
   {
    "duration": 17,
    "start_time": "2022-04-27T08:39:04.921Z"
   },
   {
    "duration": 11,
    "start_time": "2022-04-27T08:39:04.940Z"
   },
   {
    "duration": 3,
    "start_time": "2022-04-27T08:39:04.952Z"
   },
   {
    "duration": 6,
    "start_time": "2022-04-27T08:39:04.973Z"
   },
   {
    "duration": 146,
    "start_time": "2022-04-27T08:39:04.980Z"
   },
   {
    "duration": 12,
    "start_time": "2022-04-27T08:39:05.127Z"
   },
   {
    "duration": 9,
    "start_time": "2022-04-27T08:39:05.140Z"
   },
   {
    "duration": 12,
    "start_time": "2022-04-27T08:39:05.150Z"
   },
   {
    "duration": 660,
    "start_time": "2022-04-27T08:45:40.536Z"
   },
   {
    "duration": 19,
    "start_time": "2022-04-27T08:46:07.842Z"
   },
   {
    "duration": 158,
    "start_time": "2022-04-27T08:46:28.341Z"
   },
   {
    "duration": 169,
    "start_time": "2022-04-27T08:46:44.613Z"
   },
   {
    "duration": 172,
    "start_time": "2022-04-27T08:46:50.229Z"
   },
   {
    "duration": 175,
    "start_time": "2022-04-27T08:47:00.464Z"
   },
   {
    "duration": 367,
    "start_time": "2022-04-27T08:47:53.431Z"
   },
   {
    "duration": 73,
    "start_time": "2022-04-27T08:47:53.800Z"
   },
   {
    "duration": 19,
    "start_time": "2022-04-27T08:47:53.875Z"
   },
   {
    "duration": 29,
    "start_time": "2022-04-27T08:47:53.896Z"
   },
   {
    "duration": 9,
    "start_time": "2022-04-27T08:47:53.928Z"
   },
   {
    "duration": 7,
    "start_time": "2022-04-27T08:47:53.938Z"
   },
   {
    "duration": 8,
    "start_time": "2022-04-27T08:47:53.973Z"
   },
   {
    "duration": 6,
    "start_time": "2022-04-27T08:47:53.982Z"
   },
   {
    "duration": 15,
    "start_time": "2022-04-27T08:47:53.989Z"
   },
   {
    "duration": 3,
    "start_time": "2022-04-27T08:47:54.006Z"
   },
   {
    "duration": 8,
    "start_time": "2022-04-27T08:47:54.010Z"
   },
   {
    "duration": 5,
    "start_time": "2022-04-27T08:47:54.020Z"
   },
   {
    "duration": 5,
    "start_time": "2022-04-27T08:47:54.027Z"
   },
   {
    "duration": 9,
    "start_time": "2022-04-27T08:47:54.034Z"
   },
   {
    "duration": 43,
    "start_time": "2022-04-27T08:47:54.045Z"
   },
   {
    "duration": 9,
    "start_time": "2022-04-27T08:47:54.090Z"
   },
   {
    "duration": 10,
    "start_time": "2022-04-27T08:47:54.101Z"
   },
   {
    "duration": 16,
    "start_time": "2022-04-27T08:47:54.113Z"
   },
   {
    "duration": 5,
    "start_time": "2022-04-27T08:47:54.131Z"
   },
   {
    "duration": 12,
    "start_time": "2022-04-27T08:47:54.138Z"
   },
   {
    "duration": 9,
    "start_time": "2022-04-27T08:47:54.174Z"
   },
   {
    "duration": 18,
    "start_time": "2022-04-27T08:47:54.185Z"
   },
   {
    "duration": 16,
    "start_time": "2022-04-27T08:47:54.205Z"
   },
   {
    "duration": 18,
    "start_time": "2022-04-27T08:47:54.223Z"
   },
   {
    "duration": 45,
    "start_time": "2022-04-27T08:47:54.243Z"
   },
   {
    "duration": 5,
    "start_time": "2022-04-27T08:47:54.290Z"
   },
   {
    "duration": 8,
    "start_time": "2022-04-27T08:47:54.296Z"
   },
   {
    "duration": 8,
    "start_time": "2022-04-27T08:47:54.306Z"
   },
   {
    "duration": 18,
    "start_time": "2022-04-27T08:47:54.316Z"
   },
   {
    "duration": 10,
    "start_time": "2022-04-27T08:47:54.335Z"
   },
   {
    "duration": 5,
    "start_time": "2022-04-27T08:47:54.373Z"
   },
   {
    "duration": 10,
    "start_time": "2022-04-27T08:47:54.380Z"
   },
   {
    "duration": 19,
    "start_time": "2022-04-27T08:47:54.392Z"
   },
   {
    "duration": 13,
    "start_time": "2022-04-27T08:47:54.412Z"
   },
   {
    "duration": 11,
    "start_time": "2022-04-27T08:47:54.426Z"
   },
   {
    "duration": 13,
    "start_time": "2022-04-27T08:47:54.439Z"
   },
   {
    "duration": 3,
    "start_time": "2022-04-27T08:47:54.474Z"
   },
   {
    "duration": 14,
    "start_time": "2022-04-27T08:47:54.479Z"
   },
   {
    "duration": 14,
    "start_time": "2022-04-27T08:47:54.495Z"
   },
   {
    "duration": 11,
    "start_time": "2022-04-27T08:47:54.510Z"
   },
   {
    "duration": 11,
    "start_time": "2022-04-27T08:47:54.525Z"
   },
   {
    "duration": 9,
    "start_time": "2022-04-27T08:47:54.537Z"
   },
   {
    "duration": 29,
    "start_time": "2022-04-27T08:47:54.548Z"
   },
   {
    "duration": 5,
    "start_time": "2022-04-27T08:47:54.579Z"
   },
   {
    "duration": 374,
    "start_time": "2022-04-27T08:47:54.586Z"
   },
   {
    "duration": 679,
    "start_time": "2022-04-27T08:47:54.961Z"
   },
   {
    "duration": 9,
    "start_time": "2022-04-27T08:47:55.642Z"
   },
   {
    "duration": 15,
    "start_time": "2022-04-27T08:47:55.653Z"
   },
   {
    "duration": 19,
    "start_time": "2022-04-27T08:47:55.670Z"
   },
   {
    "duration": 25,
    "start_time": "2022-04-27T08:47:55.691Z"
   },
   {
    "duration": 31,
    "start_time": "2022-04-27T08:47:55.718Z"
   },
   {
    "duration": 11,
    "start_time": "2022-04-27T08:47:55.750Z"
   },
   {
    "duration": 168,
    "start_time": "2022-04-27T08:47:55.763Z"
   },
   {
    "duration": 12,
    "start_time": "2022-04-27T08:47:55.932Z"
   },
   {
    "duration": 21,
    "start_time": "2022-04-27T08:47:55.945Z"
   },
   {
    "duration": 17,
    "start_time": "2022-04-27T08:47:55.968Z"
   },
   {
    "duration": 178,
    "start_time": "2022-04-27T08:48:27.777Z"
   },
   {
    "duration": 74,
    "start_time": "2022-04-27T19:48:14.164Z"
   },
   {
    "duration": 535,
    "start_time": "2022-04-27T19:48:19.388Z"
   },
   {
    "duration": 94,
    "start_time": "2022-04-27T19:48:19.925Z"
   },
   {
    "duration": 34,
    "start_time": "2022-04-27T19:48:20.021Z"
   },
   {
    "duration": 76,
    "start_time": "2022-04-27T19:48:20.058Z"
   },
   {
    "duration": 16,
    "start_time": "2022-04-27T19:48:20.136Z"
   },
   {
    "duration": 8,
    "start_time": "2022-04-27T19:48:20.155Z"
   },
   {
    "duration": 130,
    "start_time": "2022-04-27T19:48:20.166Z"
   },
   {
    "duration": 0,
    "start_time": "2022-04-27T19:48:20.302Z"
   },
   {
    "duration": 0,
    "start_time": "2022-04-27T19:48:20.304Z"
   },
   {
    "duration": 0,
    "start_time": "2022-04-27T19:48:20.306Z"
   },
   {
    "duration": 0,
    "start_time": "2022-04-27T19:48:20.308Z"
   },
   {
    "duration": 0,
    "start_time": "2022-04-27T19:48:20.310Z"
   },
   {
    "duration": 0,
    "start_time": "2022-04-27T19:48:20.324Z"
   },
   {
    "duration": 0,
    "start_time": "2022-04-27T19:48:20.326Z"
   },
   {
    "duration": 0,
    "start_time": "2022-04-27T19:48:20.327Z"
   },
   {
    "duration": 0,
    "start_time": "2022-04-27T19:48:20.332Z"
   },
   {
    "duration": 0,
    "start_time": "2022-04-27T19:48:20.336Z"
   },
   {
    "duration": 0,
    "start_time": "2022-04-27T19:48:20.338Z"
   },
   {
    "duration": 0,
    "start_time": "2022-04-27T19:48:20.339Z"
   },
   {
    "duration": 0,
    "start_time": "2022-04-27T19:48:20.341Z"
   },
   {
    "duration": 1,
    "start_time": "2022-04-27T19:48:20.350Z"
   },
   {
    "duration": 0,
    "start_time": "2022-04-27T19:48:20.352Z"
   },
   {
    "duration": 0,
    "start_time": "2022-04-27T19:48:20.354Z"
   },
   {
    "duration": 0,
    "start_time": "2022-04-27T19:48:20.355Z"
   },
   {
    "duration": 0,
    "start_time": "2022-04-27T19:48:20.357Z"
   },
   {
    "duration": 0,
    "start_time": "2022-04-27T19:48:20.358Z"
   },
   {
    "duration": 0,
    "start_time": "2022-04-27T19:48:20.360Z"
   },
   {
    "duration": 0,
    "start_time": "2022-04-27T19:48:20.361Z"
   },
   {
    "duration": 0,
    "start_time": "2022-04-27T19:48:20.363Z"
   },
   {
    "duration": 0,
    "start_time": "2022-04-27T19:48:20.364Z"
   },
   {
    "duration": 0,
    "start_time": "2022-04-27T19:48:20.366Z"
   },
   {
    "duration": 0,
    "start_time": "2022-04-27T19:48:20.368Z"
   },
   {
    "duration": 0,
    "start_time": "2022-04-27T19:48:20.369Z"
   },
   {
    "duration": 0,
    "start_time": "2022-04-27T19:48:20.371Z"
   },
   {
    "duration": 0,
    "start_time": "2022-04-27T19:48:20.372Z"
   },
   {
    "duration": 0,
    "start_time": "2022-04-27T19:48:20.431Z"
   },
   {
    "duration": 0,
    "start_time": "2022-04-27T19:48:20.434Z"
   },
   {
    "duration": 0,
    "start_time": "2022-04-27T19:48:20.435Z"
   },
   {
    "duration": 0,
    "start_time": "2022-04-27T19:48:20.440Z"
   },
   {
    "duration": 0,
    "start_time": "2022-04-27T19:48:20.441Z"
   },
   {
    "duration": 0,
    "start_time": "2022-04-27T19:48:20.444Z"
   },
   {
    "duration": 0,
    "start_time": "2022-04-27T19:48:20.446Z"
   },
   {
    "duration": 0,
    "start_time": "2022-04-27T19:48:20.447Z"
   },
   {
    "duration": 0,
    "start_time": "2022-04-27T19:48:20.449Z"
   },
   {
    "duration": 0,
    "start_time": "2022-04-27T19:48:20.450Z"
   },
   {
    "duration": 0,
    "start_time": "2022-04-27T19:48:20.451Z"
   },
   {
    "duration": 0,
    "start_time": "2022-04-27T19:48:20.453Z"
   },
   {
    "duration": 0,
    "start_time": "2022-04-27T19:48:20.454Z"
   },
   {
    "duration": 0,
    "start_time": "2022-04-27T19:48:20.455Z"
   },
   {
    "duration": 0,
    "start_time": "2022-04-27T19:48:20.457Z"
   },
   {
    "duration": 0,
    "start_time": "2022-04-27T19:48:20.458Z"
   },
   {
    "duration": 0,
    "start_time": "2022-04-27T19:48:20.460Z"
   },
   {
    "duration": 0,
    "start_time": "2022-04-27T19:48:20.461Z"
   },
   {
    "duration": 0,
    "start_time": "2022-04-27T19:48:20.462Z"
   },
   {
    "duration": 0,
    "start_time": "2022-04-27T19:48:20.463Z"
   },
   {
    "duration": 0,
    "start_time": "2022-04-27T19:48:20.465Z"
   },
   {
    "duration": 0,
    "start_time": "2022-04-27T19:48:20.466Z"
   },
   {
    "duration": 14,
    "start_time": "2022-04-27T19:48:39.272Z"
   },
   {
    "duration": 8,
    "start_time": "2022-04-27T19:50:02.799Z"
   },
   {
    "duration": 9,
    "start_time": "2022-04-27T19:50:04.682Z"
   },
   {
    "duration": 624,
    "start_time": "2022-04-27T19:50:10.676Z"
   },
   {
    "duration": 96,
    "start_time": "2022-04-27T19:50:11.303Z"
   },
   {
    "duration": 45,
    "start_time": "2022-04-27T19:50:11.402Z"
   },
   {
    "duration": 43,
    "start_time": "2022-04-27T19:50:11.450Z"
   },
   {
    "duration": 34,
    "start_time": "2022-04-27T19:50:11.496Z"
   },
   {
    "duration": 7,
    "start_time": "2022-04-27T19:50:11.533Z"
   },
   {
    "duration": 17,
    "start_time": "2022-04-27T19:50:11.543Z"
   },
   {
    "duration": 20,
    "start_time": "2022-04-27T19:50:11.564Z"
   },
   {
    "duration": 41,
    "start_time": "2022-04-27T19:50:11.587Z"
   },
   {
    "duration": 20,
    "start_time": "2022-04-27T19:50:11.633Z"
   },
   {
    "duration": 6,
    "start_time": "2022-04-27T19:50:11.655Z"
   },
   {
    "duration": 17,
    "start_time": "2022-04-27T19:50:11.664Z"
   },
   {
    "duration": 15,
    "start_time": "2022-04-27T19:50:11.684Z"
   },
   {
    "duration": 26,
    "start_time": "2022-04-27T19:50:11.701Z"
   },
   {
    "duration": 16,
    "start_time": "2022-04-27T19:50:11.732Z"
   },
   {
    "duration": 37,
    "start_time": "2022-04-27T19:50:11.750Z"
   },
   {
    "duration": 54,
    "start_time": "2022-04-27T19:50:11.790Z"
   },
   {
    "duration": 10,
    "start_time": "2022-04-27T19:50:11.847Z"
   },
   {
    "duration": 21,
    "start_time": "2022-04-27T19:50:11.859Z"
   },
   {
    "duration": 8,
    "start_time": "2022-04-27T19:50:11.882Z"
   },
   {
    "duration": 40,
    "start_time": "2022-04-27T19:50:11.892Z"
   },
   {
    "duration": 23,
    "start_time": "2022-04-27T19:50:11.939Z"
   },
   {
    "duration": 27,
    "start_time": "2022-04-27T19:50:11.965Z"
   },
   {
    "duration": 42,
    "start_time": "2022-04-27T19:50:11.994Z"
   },
   {
    "duration": 40,
    "start_time": "2022-04-27T19:50:12.040Z"
   },
   {
    "duration": 62,
    "start_time": "2022-04-27T19:50:12.084Z"
   },
   {
    "duration": 15,
    "start_time": "2022-04-27T19:50:12.151Z"
   },
   {
    "duration": 13,
    "start_time": "2022-04-27T19:50:12.175Z"
   },
   {
    "duration": 48,
    "start_time": "2022-04-27T19:50:12.191Z"
   },
   {
    "duration": 47,
    "start_time": "2022-04-27T19:50:12.245Z"
   },
   {
    "duration": 14,
    "start_time": "2022-04-27T19:50:12.294Z"
   },
   {
    "duration": 29,
    "start_time": "2022-04-27T19:50:12.310Z"
   },
   {
    "duration": 12,
    "start_time": "2022-04-27T19:50:12.342Z"
   },
   {
    "duration": 10,
    "start_time": "2022-04-27T19:50:12.356Z"
   },
   {
    "duration": 20,
    "start_time": "2022-04-27T19:50:12.368Z"
   },
   {
    "duration": 51,
    "start_time": "2022-04-27T19:50:12.390Z"
   },
   {
    "duration": 24,
    "start_time": "2022-04-27T19:50:12.446Z"
   },
   {
    "duration": 9,
    "start_time": "2022-04-27T19:50:12.473Z"
   },
   {
    "duration": 47,
    "start_time": "2022-04-27T19:50:12.485Z"
   },
   {
    "duration": 28,
    "start_time": "2022-04-27T19:50:12.535Z"
   },
   {
    "duration": 12,
    "start_time": "2022-04-27T19:50:12.565Z"
   },
   {
    "duration": 57,
    "start_time": "2022-04-27T19:50:12.579Z"
   },
   {
    "duration": 20,
    "start_time": "2022-04-27T19:50:12.639Z"
   },
   {
    "duration": 30,
    "start_time": "2022-04-27T19:50:12.662Z"
   },
   {
    "duration": 8,
    "start_time": "2022-04-27T19:50:12.698Z"
   },
   {
    "duration": 980,
    "start_time": "2022-04-27T19:50:12.709Z"
   },
   {
    "duration": 1019,
    "start_time": "2022-04-27T19:50:13.691Z"
   },
   {
    "duration": 23,
    "start_time": "2022-04-27T19:50:14.712Z"
   },
   {
    "duration": 27,
    "start_time": "2022-04-27T19:50:14.738Z"
   },
   {
    "duration": 27,
    "start_time": "2022-04-27T19:50:14.767Z"
   },
   {
    "duration": 24,
    "start_time": "2022-04-27T19:50:14.796Z"
   },
   {
    "duration": 15,
    "start_time": "2022-04-27T19:50:14.822Z"
   },
   {
    "duration": 20,
    "start_time": "2022-04-27T19:50:14.840Z"
   },
   {
    "duration": 259,
    "start_time": "2022-04-27T19:50:14.862Z"
   },
   {
    "duration": 20,
    "start_time": "2022-04-27T19:50:15.128Z"
   },
   {
    "duration": 6,
    "start_time": "2022-04-27T19:50:15.151Z"
   },
   {
    "duration": 25,
    "start_time": "2022-04-27T19:50:15.160Z"
   },
   {
    "duration": 34,
    "start_time": "2022-04-27T19:58:21.167Z"
   },
   {
    "duration": 14,
    "start_time": "2022-04-27T19:58:43.704Z"
   },
   {
    "duration": 12,
    "start_time": "2022-04-27T20:01:29.540Z"
   },
   {
    "duration": 13,
    "start_time": "2022-04-27T20:01:39.421Z"
   },
   {
    "duration": 33,
    "start_time": "2022-04-27T20:02:42.384Z"
   },
   {
    "duration": 12,
    "start_time": "2022-04-27T20:02:53.257Z"
   },
   {
    "duration": 16,
    "start_time": "2022-04-27T20:03:05.060Z"
   },
   {
    "duration": 12,
    "start_time": "2022-04-27T20:03:09.640Z"
   },
   {
    "duration": 7,
    "start_time": "2022-04-27T20:05:31.817Z"
   },
   {
    "duration": 7,
    "start_time": "2022-04-27T20:05:41.453Z"
   },
   {
    "duration": 552,
    "start_time": "2022-04-27T20:05:57.800Z"
   },
   {
    "duration": 106,
    "start_time": "2022-04-27T20:05:58.355Z"
   },
   {
    "duration": 30,
    "start_time": "2022-04-27T20:05:58.464Z"
   },
   {
    "duration": 65,
    "start_time": "2022-04-27T20:05:58.496Z"
   },
   {
    "duration": 13,
    "start_time": "2022-04-27T20:05:58.564Z"
   },
   {
    "duration": 8,
    "start_time": "2022-04-27T20:05:58.579Z"
   },
   {
    "duration": 48,
    "start_time": "2022-04-27T20:05:58.589Z"
   },
   {
    "duration": 15,
    "start_time": "2022-04-27T20:05:58.640Z"
   },
   {
    "duration": 8,
    "start_time": "2022-04-27T20:05:58.658Z"
   },
   {
    "duration": 9,
    "start_time": "2022-04-27T20:05:58.668Z"
   },
   {
    "duration": 155,
    "start_time": "2022-04-27T20:05:58.679Z"
   },
   {
    "duration": 0,
    "start_time": "2022-04-27T20:05:58.841Z"
   },
   {
    "duration": 0,
    "start_time": "2022-04-27T20:05:58.843Z"
   },
   {
    "duration": 0,
    "start_time": "2022-04-27T20:05:58.844Z"
   },
   {
    "duration": 0,
    "start_time": "2022-04-27T20:05:58.846Z"
   },
   {
    "duration": 0,
    "start_time": "2022-04-27T20:05:58.847Z"
   },
   {
    "duration": 0,
    "start_time": "2022-04-27T20:05:58.849Z"
   },
   {
    "duration": 0,
    "start_time": "2022-04-27T20:05:58.851Z"
   },
   {
    "duration": 0,
    "start_time": "2022-04-27T20:05:58.852Z"
   },
   {
    "duration": 0,
    "start_time": "2022-04-27T20:05:58.853Z"
   },
   {
    "duration": 0,
    "start_time": "2022-04-27T20:05:58.855Z"
   },
   {
    "duration": 0,
    "start_time": "2022-04-27T20:05:58.856Z"
   },
   {
    "duration": 0,
    "start_time": "2022-04-27T20:05:58.858Z"
   },
   {
    "duration": 0,
    "start_time": "2022-04-27T20:05:58.860Z"
   },
   {
    "duration": 0,
    "start_time": "2022-04-27T20:05:58.862Z"
   },
   {
    "duration": 0,
    "start_time": "2022-04-27T20:05:58.864Z"
   },
   {
    "duration": 0,
    "start_time": "2022-04-27T20:05:58.865Z"
   },
   {
    "duration": 0,
    "start_time": "2022-04-27T20:05:58.867Z"
   },
   {
    "duration": 0,
    "start_time": "2022-04-27T20:05:58.868Z"
   },
   {
    "duration": 0,
    "start_time": "2022-04-27T20:05:58.870Z"
   },
   {
    "duration": 0,
    "start_time": "2022-04-27T20:05:58.872Z"
   },
   {
    "duration": 0,
    "start_time": "2022-04-27T20:05:58.930Z"
   },
   {
    "duration": 0,
    "start_time": "2022-04-27T20:05:58.931Z"
   },
   {
    "duration": 0,
    "start_time": "2022-04-27T20:05:58.932Z"
   },
   {
    "duration": 0,
    "start_time": "2022-04-27T20:05:58.933Z"
   },
   {
    "duration": 0,
    "start_time": "2022-04-27T20:05:58.934Z"
   },
   {
    "duration": 0,
    "start_time": "2022-04-27T20:05:58.935Z"
   },
   {
    "duration": 0,
    "start_time": "2022-04-27T20:05:58.936Z"
   },
   {
    "duration": 0,
    "start_time": "2022-04-27T20:05:58.937Z"
   },
   {
    "duration": 0,
    "start_time": "2022-04-27T20:05:58.938Z"
   },
   {
    "duration": 0,
    "start_time": "2022-04-27T20:05:58.942Z"
   },
   {
    "duration": 0,
    "start_time": "2022-04-27T20:05:58.943Z"
   },
   {
    "duration": 0,
    "start_time": "2022-04-27T20:05:58.945Z"
   },
   {
    "duration": 0,
    "start_time": "2022-04-27T20:05:58.946Z"
   },
   {
    "duration": 0,
    "start_time": "2022-04-27T20:05:58.947Z"
   },
   {
    "duration": 0,
    "start_time": "2022-04-27T20:05:58.948Z"
   },
   {
    "duration": 0,
    "start_time": "2022-04-27T20:05:58.950Z"
   },
   {
    "duration": 0,
    "start_time": "2022-04-27T20:05:58.951Z"
   },
   {
    "duration": 0,
    "start_time": "2022-04-27T20:05:58.952Z"
   },
   {
    "duration": 0,
    "start_time": "2022-04-27T20:05:58.954Z"
   },
   {
    "duration": 0,
    "start_time": "2022-04-27T20:05:58.955Z"
   },
   {
    "duration": 0,
    "start_time": "2022-04-27T20:05:58.956Z"
   },
   {
    "duration": 0,
    "start_time": "2022-04-27T20:05:58.957Z"
   },
   {
    "duration": 0,
    "start_time": "2022-04-27T20:05:58.958Z"
   },
   {
    "duration": 0,
    "start_time": "2022-04-27T20:05:58.960Z"
   },
   {
    "duration": 0,
    "start_time": "2022-04-27T20:05:58.961Z"
   },
   {
    "duration": 0,
    "start_time": "2022-04-27T20:05:58.962Z"
   },
   {
    "duration": 0,
    "start_time": "2022-04-27T20:05:58.963Z"
   },
   {
    "duration": 0,
    "start_time": "2022-04-27T20:05:58.964Z"
   },
   {
    "duration": 4,
    "start_time": "2022-04-27T20:06:35.748Z"
   },
   {
    "duration": 5,
    "start_time": "2022-04-27T20:06:45.282Z"
   },
   {
    "duration": 666,
    "start_time": "2022-04-27T20:06:53.950Z"
   },
   {
    "duration": 653,
    "start_time": "2022-04-27T20:07:29.605Z"
   },
   {
    "duration": 20,
    "start_time": "2022-04-27T20:07:44.547Z"
   },
   {
    "duration": 30,
    "start_time": "2022-04-27T20:08:27.806Z"
   },
   {
    "duration": 548,
    "start_time": "2022-04-27T20:12:31.568Z"
   },
   {
    "duration": 97,
    "start_time": "2022-04-27T20:12:32.119Z"
   },
   {
    "duration": 33,
    "start_time": "2022-04-27T20:12:32.225Z"
   },
   {
    "duration": 75,
    "start_time": "2022-04-27T20:12:32.260Z"
   },
   {
    "duration": 14,
    "start_time": "2022-04-27T20:12:32.337Z"
   },
   {
    "duration": 9,
    "start_time": "2022-04-27T20:12:32.353Z"
   },
   {
    "duration": 22,
    "start_time": "2022-04-27T20:12:32.364Z"
   },
   {
    "duration": 12,
    "start_time": "2022-04-27T20:12:32.389Z"
   },
   {
    "duration": 17,
    "start_time": "2022-04-27T20:12:32.426Z"
   },
   {
    "duration": 35,
    "start_time": "2022-04-27T20:12:32.449Z"
   },
   {
    "duration": 14,
    "start_time": "2022-04-27T20:12:32.486Z"
   },
   {
    "duration": 23,
    "start_time": "2022-04-27T20:12:32.503Z"
   },
   {
    "duration": 44,
    "start_time": "2022-04-27T20:12:32.528Z"
   },
   {
    "duration": 20,
    "start_time": "2022-04-27T20:12:32.574Z"
   },
   {
    "duration": 16,
    "start_time": "2022-04-27T20:12:32.596Z"
   },
   {
    "duration": 22,
    "start_time": "2022-04-27T20:12:32.614Z"
   },
   {
    "duration": 43,
    "start_time": "2022-04-27T20:12:32.639Z"
   },
   {
    "duration": 20,
    "start_time": "2022-04-27T20:12:32.685Z"
   },
   {
    "duration": 16,
    "start_time": "2022-04-27T20:12:32.707Z"
   },
   {
    "duration": 28,
    "start_time": "2022-04-27T20:12:32.725Z"
   },
   {
    "duration": 9,
    "start_time": "2022-04-27T20:12:32.755Z"
   },
   {
    "duration": 28,
    "start_time": "2022-04-27T20:12:32.767Z"
   },
   {
    "duration": 36,
    "start_time": "2022-04-27T20:12:32.798Z"
   },
   {
    "duration": 38,
    "start_time": "2022-04-27T20:12:32.837Z"
   },
   {
    "duration": 63,
    "start_time": "2022-04-27T20:12:32.878Z"
   },
   {
    "duration": 48,
    "start_time": "2022-04-27T20:12:32.944Z"
   },
   {
    "duration": 49,
    "start_time": "2022-04-27T20:12:32.995Z"
   },
   {
    "duration": 9,
    "start_time": "2022-04-27T20:12:33.052Z"
   },
   {
    "duration": 15,
    "start_time": "2022-04-27T20:12:33.064Z"
   },
   {
    "duration": 22,
    "start_time": "2022-04-27T20:12:33.081Z"
   },
   {
    "duration": 33,
    "start_time": "2022-04-27T20:12:33.126Z"
   },
   {
    "duration": 14,
    "start_time": "2022-04-27T20:12:33.161Z"
   },
   {
    "duration": 10,
    "start_time": "2022-04-27T20:12:33.178Z"
   },
   {
    "duration": 35,
    "start_time": "2022-04-27T20:12:33.191Z"
   },
   {
    "duration": 12,
    "start_time": "2022-04-27T20:12:33.229Z"
   },
   {
    "duration": 20,
    "start_time": "2022-04-27T20:12:33.244Z"
   },
   {
    "duration": 17,
    "start_time": "2022-04-27T20:12:33.266Z"
   },
   {
    "duration": 23,
    "start_time": "2022-04-27T20:12:33.325Z"
   },
   {
    "duration": 7,
    "start_time": "2022-04-27T20:12:33.351Z"
   },
   {
    "duration": 24,
    "start_time": "2022-04-27T20:12:33.361Z"
   },
   {
    "duration": 47,
    "start_time": "2022-04-27T20:12:33.387Z"
   },
   {
    "duration": 16,
    "start_time": "2022-04-27T20:12:33.436Z"
   },
   {
    "duration": 22,
    "start_time": "2022-04-27T20:12:33.455Z"
   },
   {
    "duration": 17,
    "start_time": "2022-04-27T20:12:33.480Z"
   },
   {
    "duration": 48,
    "start_time": "2022-04-27T20:12:33.500Z"
   },
   {
    "duration": 9,
    "start_time": "2022-04-27T20:12:33.551Z"
   },
   {
    "duration": 989,
    "start_time": "2022-04-27T20:12:33.563Z"
   },
   {
    "duration": 1009,
    "start_time": "2022-04-27T20:12:34.555Z"
   },
   {
    "duration": 13,
    "start_time": "2022-04-27T20:12:35.566Z"
   },
   {
    "duration": 10,
    "start_time": "2022-04-27T20:12:35.582Z"
   },
   {
    "duration": 44,
    "start_time": "2022-04-27T20:12:35.594Z"
   },
   {
    "duration": 35,
    "start_time": "2022-04-27T20:12:35.640Z"
   },
   {
    "duration": 20,
    "start_time": "2022-04-27T20:12:35.677Z"
   },
   {
    "duration": 21,
    "start_time": "2022-04-27T20:12:35.699Z"
   },
   {
    "duration": 256,
    "start_time": "2022-04-27T20:12:35.723Z"
   },
   {
    "duration": 16,
    "start_time": "2022-04-27T20:12:35.981Z"
   },
   {
    "duration": 24,
    "start_time": "2022-04-27T20:12:36.000Z"
   },
   {
    "duration": 9,
    "start_time": "2022-04-27T20:12:36.027Z"
   },
   {
    "duration": 31,
    "start_time": "2022-04-27T20:12:49.400Z"
   },
   {
    "duration": 32,
    "start_time": "2022-04-27T20:12:51.298Z"
   },
   {
    "duration": 13,
    "start_time": "2022-04-27T20:12:53.015Z"
   },
   {
    "duration": 761,
    "start_time": "2022-04-27T20:13:04.228Z"
   },
   {
    "duration": 153,
    "start_time": "2022-04-27T20:13:04.992Z"
   },
   {
    "duration": 46,
    "start_time": "2022-04-27T20:13:05.148Z"
   },
   {
    "duration": 70,
    "start_time": "2022-04-27T20:13:05.198Z"
   },
   {
    "duration": 14,
    "start_time": "2022-04-27T20:13:05.270Z"
   },
   {
    "duration": 41,
    "start_time": "2022-04-27T20:13:05.286Z"
   },
   {
    "duration": 22,
    "start_time": "2022-04-27T20:13:05.329Z"
   },
   {
    "duration": 9,
    "start_time": "2022-04-27T20:13:05.353Z"
   },
   {
    "duration": 12,
    "start_time": "2022-04-27T20:13:05.364Z"
   },
   {
    "duration": 55,
    "start_time": "2022-04-27T20:13:05.382Z"
   },
   {
    "duration": 13,
    "start_time": "2022-04-27T20:13:05.440Z"
   },
   {
    "duration": 5,
    "start_time": "2022-04-27T20:13:05.455Z"
   },
   {
    "duration": 15,
    "start_time": "2022-04-27T20:13:05.462Z"
   },
   {
    "duration": 45,
    "start_time": "2022-04-27T20:13:05.479Z"
   },
   {
    "duration": 5,
    "start_time": "2022-04-27T20:13:05.527Z"
   },
   {
    "duration": 19,
    "start_time": "2022-04-27T20:13:05.534Z"
   },
   {
    "duration": 35,
    "start_time": "2022-04-27T20:13:05.555Z"
   },
   {
    "duration": 35,
    "start_time": "2022-04-27T20:13:05.592Z"
   },
   {
    "duration": 9,
    "start_time": "2022-04-27T20:13:05.629Z"
   },
   {
    "duration": 22,
    "start_time": "2022-04-27T20:13:05.641Z"
   },
   {
    "duration": 10,
    "start_time": "2022-04-27T20:13:05.665Z"
   },
   {
    "duration": 55,
    "start_time": "2022-04-27T20:13:05.677Z"
   },
   {
    "duration": 16,
    "start_time": "2022-04-27T20:13:05.734Z"
   },
   {
    "duration": 26,
    "start_time": "2022-04-27T20:13:05.752Z"
   },
   {
    "duration": 65,
    "start_time": "2022-04-27T20:13:05.780Z"
   },
   {
    "duration": 34,
    "start_time": "2022-04-27T20:13:05.847Z"
   },
   {
    "duration": 56,
    "start_time": "2022-04-27T20:13:05.884Z"
   },
   {
    "duration": 9,
    "start_time": "2022-04-27T20:13:05.946Z"
   },
   {
    "duration": 14,
    "start_time": "2022-04-27T20:13:05.957Z"
   },
   {
    "duration": 51,
    "start_time": "2022-04-27T20:13:05.974Z"
   },
   {
    "duration": 23,
    "start_time": "2022-04-27T20:13:06.027Z"
   },
   {
    "duration": 15,
    "start_time": "2022-04-27T20:13:06.052Z"
   },
   {
    "duration": 12,
    "start_time": "2022-04-27T20:13:06.069Z"
   },
   {
    "duration": 43,
    "start_time": "2022-04-27T20:13:06.083Z"
   },
   {
    "duration": 17,
    "start_time": "2022-04-27T20:13:06.128Z"
   },
   {
    "duration": 20,
    "start_time": "2022-04-27T20:13:06.147Z"
   },
   {
    "duration": 17,
    "start_time": "2022-04-27T20:13:06.169Z"
   },
   {
    "duration": 23,
    "start_time": "2022-04-27T20:13:06.225Z"
   },
   {
    "duration": 22,
    "start_time": "2022-04-27T20:13:06.251Z"
   },
   {
    "duration": 35,
    "start_time": "2022-04-27T20:13:06.276Z"
   },
   {
    "duration": 31,
    "start_time": "2022-04-27T20:13:06.314Z"
   },
   {
    "duration": 20,
    "start_time": "2022-04-27T20:13:06.347Z"
   },
   {
    "duration": 18,
    "start_time": "2022-04-27T20:13:06.369Z"
   },
   {
    "duration": 16,
    "start_time": "2022-04-27T20:13:06.389Z"
   },
   {
    "duration": 22,
    "start_time": "2022-04-27T20:13:06.423Z"
   },
   {
    "duration": 8,
    "start_time": "2022-04-27T20:13:06.447Z"
   },
   {
    "duration": 881,
    "start_time": "2022-04-27T20:13:06.458Z"
   },
   {
    "duration": 1420,
    "start_time": "2022-04-27T20:13:07.342Z"
   },
   {
    "duration": 19,
    "start_time": "2022-04-27T20:13:08.765Z"
   },
   {
    "duration": 11,
    "start_time": "2022-04-27T20:13:08.787Z"
   },
   {
    "duration": 43,
    "start_time": "2022-04-27T20:13:08.800Z"
   },
   {
    "duration": 24,
    "start_time": "2022-04-27T20:13:08.846Z"
   },
   {
    "duration": 6,
    "start_time": "2022-04-27T20:13:08.873Z"
   },
   {
    "duration": 14,
    "start_time": "2022-04-27T20:13:08.882Z"
   },
   {
    "duration": 290,
    "start_time": "2022-04-27T20:13:08.898Z"
   },
   {
    "duration": 16,
    "start_time": "2022-04-27T20:13:09.191Z"
   },
   {
    "duration": 19,
    "start_time": "2022-04-27T20:13:09.209Z"
   },
   {
    "duration": 12,
    "start_time": "2022-04-27T20:13:09.230Z"
   },
   {
    "duration": 15,
    "start_time": "2022-04-27T20:13:16.005Z"
   },
   {
    "duration": 13,
    "start_time": "2022-04-27T20:13:17.720Z"
   },
   {
    "duration": 30,
    "start_time": "2022-04-27T20:13:19.932Z"
   },
   {
    "duration": 16,
    "start_time": "2022-04-27T20:13:25.920Z"
   },
   {
    "duration": 15,
    "start_time": "2022-04-27T20:13:27.609Z"
   },
   {
    "duration": 14,
    "start_time": "2022-04-27T20:13:30.646Z"
   },
   {
    "duration": 44,
    "start_time": "2022-04-27T20:13:33.291Z"
   },
   {
    "duration": 43,
    "start_time": "2022-04-27T20:13:35.121Z"
   },
   {
    "duration": 19,
    "start_time": "2022-04-27T20:13:38.503Z"
   },
   {
    "duration": 27,
    "start_time": "2022-04-27T20:13:40.054Z"
   },
   {
    "duration": 21,
    "start_time": "2022-04-27T20:14:02.000Z"
   },
   {
    "duration": 75,
    "start_time": "2022-04-27T20:14:20.117Z"
   },
   {
    "duration": 486,
    "start_time": "2022-04-27T20:14:26.858Z"
   },
   {
    "duration": 101,
    "start_time": "2022-04-27T20:14:27.759Z"
   },
   {
    "duration": 45,
    "start_time": "2022-04-27T20:14:30.576Z"
   },
   {
    "duration": 66,
    "start_time": "2022-04-27T20:14:31.392Z"
   },
   {
    "duration": 21,
    "start_time": "2022-04-27T20:14:33.906Z"
   },
   {
    "duration": 7,
    "start_time": "2022-04-27T20:14:38.378Z"
   },
   {
    "duration": 16,
    "start_time": "2022-04-27T20:14:39.857Z"
   },
   {
    "duration": 31,
    "start_time": "2022-04-27T20:14:44.408Z"
   },
   {
    "duration": 829,
    "start_time": "2022-04-27T20:20:59.354Z"
   },
   {
    "duration": 674,
    "start_time": "2022-04-27T20:21:24.409Z"
   },
   {
    "duration": 47,
    "start_time": "2022-04-27T20:21:40.313Z"
   },
   {
    "duration": 8,
    "start_time": "2022-04-27T20:23:54.028Z"
   },
   {
    "duration": 11,
    "start_time": "2022-04-27T20:23:59.737Z"
   },
   {
    "duration": 13,
    "start_time": "2022-04-27T20:24:19.648Z"
   },
   {
    "duration": 13,
    "start_time": "2022-04-27T20:24:36.345Z"
   },
   {
    "duration": 735,
    "start_time": "2022-04-27T20:26:41.669Z"
   },
   {
    "duration": 32,
    "start_time": "2022-04-27T20:27:00.182Z"
   },
   {
    "duration": 73,
    "start_time": "2022-04-27T20:27:21.794Z"
   },
   {
    "duration": 483,
    "start_time": "2022-04-27T20:27:26.752Z"
   },
   {
    "duration": 95,
    "start_time": "2022-04-27T20:27:27.415Z"
   },
   {
    "duration": 45,
    "start_time": "2022-04-27T20:27:29.051Z"
   },
   {
    "duration": 47,
    "start_time": "2022-04-27T20:27:51.997Z"
   },
   {
    "duration": 22,
    "start_time": "2022-04-27T20:27:53.029Z"
   },
   {
    "duration": 8,
    "start_time": "2022-04-27T20:27:55.646Z"
   },
   {
    "duration": 16,
    "start_time": "2022-04-27T20:27:56.369Z"
   },
   {
    "duration": 8,
    "start_time": "2022-04-27T20:28:33.007Z"
   },
   {
    "duration": 9,
    "start_time": "2022-04-27T20:28:36.495Z"
   },
   {
    "duration": 11,
    "start_time": "2022-04-27T20:28:39.763Z"
   },
   {
    "duration": 32,
    "start_time": "2022-04-27T20:28:55.734Z"
   },
   {
    "duration": 34,
    "start_time": "2022-04-27T20:29:09.657Z"
   },
   {
    "duration": 25,
    "start_time": "2022-04-27T20:30:31.810Z"
   },
   {
    "duration": 693,
    "start_time": "2022-04-27T20:30:46.024Z"
   },
   {
    "duration": 144,
    "start_time": "2022-04-27T20:30:46.788Z"
   },
   {
    "duration": 33,
    "start_time": "2022-04-27T20:30:48.956Z"
   },
   {
    "duration": 44,
    "start_time": "2022-04-27T20:30:58.101Z"
   },
   {
    "duration": 15,
    "start_time": "2022-04-27T20:30:58.548Z"
   },
   {
    "duration": 8,
    "start_time": "2022-04-27T20:30:59.096Z"
   },
   {
    "duration": 20,
    "start_time": "2022-04-27T20:31:00.159Z"
   },
   {
    "duration": 4,
    "start_time": "2022-04-27T20:31:02.535Z"
   },
   {
    "duration": 4,
    "start_time": "2022-04-27T20:31:02.921Z"
   },
   {
    "duration": 15,
    "start_time": "2022-04-27T20:31:04.108Z"
   },
   {
    "duration": 46,
    "start_time": "2022-04-27T20:31:08.488Z"
   },
   {
    "duration": 33,
    "start_time": "2022-04-27T20:31:12.248Z"
   },
   {
    "duration": 20,
    "start_time": "2022-04-27T20:31:43.300Z"
   },
   {
    "duration": 22,
    "start_time": "2022-04-27T20:34:26.702Z"
   },
   {
    "duration": 3,
    "start_time": "2022-04-27T20:34:30.816Z"
   },
   {
    "duration": 8,
    "start_time": "2022-04-27T20:34:31.448Z"
   },
   {
    "duration": 6,
    "start_time": "2022-04-27T20:34:53.776Z"
   },
   {
    "duration": 9,
    "start_time": "2022-04-27T20:34:59.660Z"
   },
   {
    "duration": 7,
    "start_time": "2022-04-27T20:35:51.187Z"
   },
   {
    "duration": 6,
    "start_time": "2022-04-27T20:36:49.597Z"
   },
   {
    "duration": 8,
    "start_time": "2022-04-27T20:36:50.117Z"
   },
   {
    "duration": 8,
    "start_time": "2022-04-27T20:37:20.450Z"
   },
   {
    "duration": 27,
    "start_time": "2022-04-27T20:39:43.178Z"
   },
   {
    "duration": 4,
    "start_time": "2022-04-27T20:41:06.753Z"
   },
   {
    "duration": 24,
    "start_time": "2022-04-27T20:41:43.535Z"
   },
   {
    "duration": 11,
    "start_time": "2022-04-27T20:42:01.426Z"
   },
   {
    "duration": 30,
    "start_time": "2022-04-27T20:42:05.716Z"
   },
   {
    "duration": 13,
    "start_time": "2022-04-27T20:42:58.086Z"
   },
   {
    "duration": 14,
    "start_time": "2022-04-27T20:43:08.590Z"
   },
   {
    "duration": 653,
    "start_time": "2022-04-27T20:43:21.336Z"
   },
   {
    "duration": 115,
    "start_time": "2022-04-27T20:43:21.993Z"
   },
   {
    "duration": 52,
    "start_time": "2022-04-27T20:43:22.264Z"
   },
   {
    "duration": 46,
    "start_time": "2022-04-27T20:43:22.738Z"
   },
   {
    "duration": 19,
    "start_time": "2022-04-27T20:43:22.947Z"
   },
   {
    "duration": 7,
    "start_time": "2022-04-27T20:43:23.392Z"
   },
   {
    "duration": 16,
    "start_time": "2022-04-27T20:43:23.716Z"
   },
   {
    "duration": 3,
    "start_time": "2022-04-27T20:43:24.889Z"
   },
   {
    "duration": 4,
    "start_time": "2022-04-27T20:43:25.591Z"
   },
   {
    "duration": 12,
    "start_time": "2022-04-27T20:43:28.311Z"
   },
   {
    "duration": 12,
    "start_time": "2022-04-27T20:43:33.579Z"
   },
   {
    "duration": 32,
    "start_time": "2022-04-27T20:43:34.668Z"
   },
   {
    "duration": 24,
    "start_time": "2022-04-27T20:43:35.891Z"
   },
   {
    "duration": 14,
    "start_time": "2022-04-27T20:43:39.260Z"
   },
   {
    "duration": 3,
    "start_time": "2022-04-27T20:43:42.209Z"
   },
   {
    "duration": 10,
    "start_time": "2022-04-27T20:43:42.700Z"
   },
   {
    "duration": 9,
    "start_time": "2022-04-27T20:43:43.105Z"
   },
   {
    "duration": 12,
    "start_time": "2022-04-27T20:43:43.678Z"
   },
   {
    "duration": 8,
    "start_time": "2022-04-27T20:43:44.528Z"
   },
   {
    "duration": 6,
    "start_time": "2022-04-27T20:48:04.702Z"
   },
   {
    "duration": 8,
    "start_time": "2022-04-27T20:48:05.077Z"
   },
   {
    "duration": 24,
    "start_time": "2022-04-27T20:48:06.522Z"
   },
   {
    "duration": 12,
    "start_time": "2022-04-27T20:48:08.907Z"
   },
   {
    "duration": 5,
    "start_time": "2022-04-27T20:49:14.542Z"
   },
   {
    "duration": 12,
    "start_time": "2022-04-27T20:49:53.207Z"
   },
   {
    "duration": 11,
    "start_time": "2022-04-27T20:51:09.479Z"
   },
   {
    "duration": 16,
    "start_time": "2022-04-27T20:52:23.757Z"
   },
   {
    "duration": 9,
    "start_time": "2022-04-27T20:53:39.124Z"
   },
   {
    "duration": 12,
    "start_time": "2022-04-27T20:53:43.608Z"
   },
   {
    "duration": 6,
    "start_time": "2022-04-27T20:56:27.102Z"
   },
   {
    "duration": 11,
    "start_time": "2022-04-27T20:56:27.480Z"
   },
   {
    "duration": 9,
    "start_time": "2022-04-27T20:57:47.632Z"
   },
   {
    "duration": 24,
    "start_time": "2022-04-27T20:57:48.566Z"
   },
   {
    "duration": 133,
    "start_time": "2022-04-27T20:57:49.460Z"
   },
   {
    "duration": 9,
    "start_time": "2022-04-27T20:57:55.036Z"
   },
   {
    "duration": 16,
    "start_time": "2022-04-27T20:57:57.107Z"
   },
   {
    "duration": 12,
    "start_time": "2022-04-27T20:58:41.613Z"
   },
   {
    "duration": 26,
    "start_time": "2022-04-27T20:58:45.493Z"
   },
   {
    "duration": 29,
    "start_time": "2022-04-27T20:58:48.269Z"
   },
   {
    "duration": 33,
    "start_time": "2022-04-27T20:58:48.738Z"
   },
   {
    "duration": 26,
    "start_time": "2022-04-27T20:58:49.142Z"
   },
   {
    "duration": 8,
    "start_time": "2022-04-27T20:58:49.952Z"
   },
   {
    "duration": 9,
    "start_time": "2022-04-27T20:58:54.417Z"
   },
   {
    "duration": 9,
    "start_time": "2022-04-27T20:58:55.146Z"
   },
   {
    "duration": 26,
    "start_time": "2022-04-27T20:58:56.884Z"
   },
   {
    "duration": 10,
    "start_time": "2022-04-27T20:58:57.420Z"
   },
   {
    "duration": 8,
    "start_time": "2022-04-27T20:58:59.331Z"
   },
   {
    "duration": 7,
    "start_time": "2022-04-27T20:58:59.881Z"
   },
   {
    "duration": 9,
    "start_time": "2022-04-27T20:59:01.722Z"
   },
   {
    "duration": 661,
    "start_time": "2022-04-27T21:01:12.740Z"
   },
   {
    "duration": 146,
    "start_time": "2022-04-27T21:01:13.405Z"
   },
   {
    "duration": 39,
    "start_time": "2022-04-27T21:01:13.554Z"
   },
   {
    "duration": 80,
    "start_time": "2022-04-27T21:01:13.597Z"
   },
   {
    "duration": 20,
    "start_time": "2022-04-27T21:01:13.680Z"
   },
   {
    "duration": 8,
    "start_time": "2022-04-27T21:01:13.724Z"
   },
   {
    "duration": 21,
    "start_time": "2022-04-27T21:01:13.735Z"
   },
   {
    "duration": 9,
    "start_time": "2022-04-27T21:01:13.761Z"
   },
   {
    "duration": 6,
    "start_time": "2022-04-27T21:01:13.773Z"
   },
   {
    "duration": 50,
    "start_time": "2022-04-27T21:01:13.782Z"
   },
   {
    "duration": 33,
    "start_time": "2022-04-27T21:01:13.834Z"
   },
   {
    "duration": 52,
    "start_time": "2022-04-27T21:01:13.872Z"
   },
   {
    "duration": 15,
    "start_time": "2022-04-27T21:01:14.052Z"
   },
   {
    "duration": 3,
    "start_time": "2022-04-27T21:01:15.074Z"
   },
   {
    "duration": 8,
    "start_time": "2022-04-27T21:01:15.224Z"
   },
   {
    "duration": 6,
    "start_time": "2022-04-27T21:01:15.333Z"
   },
   {
    "duration": 9,
    "start_time": "2022-04-27T21:01:15.484Z"
   },
   {
    "duration": 34,
    "start_time": "2022-04-27T21:01:16.018Z"
   },
   {
    "duration": 14,
    "start_time": "2022-04-27T21:01:16.171Z"
   },
   {
    "duration": 8,
    "start_time": "2022-04-27T21:01:16.449Z"
   },
   {
    "duration": 13,
    "start_time": "2022-04-27T21:01:17.256Z"
   },
   {
    "duration": 12,
    "start_time": "2022-04-27T21:01:17.601Z"
   },
   {
    "duration": 10,
    "start_time": "2022-04-27T21:01:18.854Z"
   },
   {
    "duration": 20,
    "start_time": "2022-04-27T21:01:19.004Z"
   },
   {
    "duration": 9,
    "start_time": "2022-04-27T21:01:19.176Z"
   },
   {
    "duration": 17,
    "start_time": "2022-04-27T21:01:19.611Z"
   },
   {
    "duration": 35,
    "start_time": "2022-04-27T21:01:20.187Z"
   },
   {
    "duration": 159,
    "start_time": "2022-04-27T21:02:19.513Z"
   },
   {
    "duration": 30,
    "start_time": "2022-04-27T21:02:26.243Z"
   },
   {
    "duration": 8,
    "start_time": "2022-04-27T21:02:37.112Z"
   },
   {
    "duration": 10,
    "start_time": "2022-04-27T21:02:37.975Z"
   },
   {
    "duration": 14,
    "start_time": "2022-04-27T21:02:38.762Z"
   },
   {
    "duration": 38,
    "start_time": "2022-04-27T21:02:39.147Z"
   },
   {
    "duration": 14,
    "start_time": "2022-04-27T21:02:40.348Z"
   },
   {
    "duration": 8,
    "start_time": "2022-04-27T21:02:42.557Z"
   },
   {
    "duration": 8,
    "start_time": "2022-04-27T21:02:44.359Z"
   },
   {
    "duration": 11,
    "start_time": "2022-04-27T21:02:45.069Z"
   },
   {
    "duration": 32,
    "start_time": "2022-04-27T21:02:45.606Z"
   },
   {
    "duration": 28,
    "start_time": "2022-04-27T21:02:52.186Z"
   },
   {
    "duration": 77,
    "start_time": "2022-04-27T21:03:38.180Z"
   },
   {
    "duration": 56,
    "start_time": "2022-04-27T21:03:46.523Z"
   },
   {
    "duration": 27,
    "start_time": "2022-04-27T21:04:15.807Z"
   },
   {
    "duration": 9,
    "start_time": "2022-04-27T21:05:05.520Z"
   },
   {
    "duration": 56,
    "start_time": "2022-04-27T21:05:12.474Z"
   },
   {
    "duration": 28,
    "start_time": "2022-04-27T21:05:13.958Z"
   },
   {
    "duration": 406,
    "start_time": "2022-04-29T21:16:43.013Z"
   },
   {
    "duration": 78,
    "start_time": "2022-04-29T21:16:43.420Z"
   },
   {
    "duration": 22,
    "start_time": "2022-04-29T21:16:43.627Z"
   },
   {
    "duration": 31,
    "start_time": "2022-04-29T21:16:43.795Z"
   },
   {
    "duration": 11,
    "start_time": "2022-04-29T21:16:43.961Z"
   },
   {
    "duration": 5,
    "start_time": "2022-04-29T21:16:44.378Z"
   },
   {
    "duration": 11,
    "start_time": "2022-04-29T21:16:44.569Z"
   },
   {
    "duration": 2,
    "start_time": "2022-04-29T21:16:45.222Z"
   },
   {
    "duration": 3,
    "start_time": "2022-04-29T21:16:45.448Z"
   },
   {
    "duration": 8,
    "start_time": "2022-04-29T21:16:45.677Z"
   },
   {
    "duration": 22,
    "start_time": "2022-04-29T21:16:46.555Z"
   },
   {
    "duration": 15,
    "start_time": "2022-04-29T21:16:46.789Z"
   },
   {
    "duration": 11,
    "start_time": "2022-04-29T21:16:47.311Z"
   },
   {
    "duration": 2,
    "start_time": "2022-04-29T21:16:47.976Z"
   },
   {
    "duration": 6,
    "start_time": "2022-04-29T21:16:48.006Z"
   },
   {
    "duration": 5,
    "start_time": "2022-04-29T21:16:48.039Z"
   },
   {
    "duration": 5,
    "start_time": "2022-04-29T21:16:48.068Z"
   },
   {
    "duration": 17,
    "start_time": "2022-04-29T21:16:48.202Z"
   },
   {
    "duration": 8,
    "start_time": "2022-04-29T21:16:48.243Z"
   },
   {
    "duration": 5,
    "start_time": "2022-04-29T21:16:48.304Z"
   },
   {
    "duration": 9,
    "start_time": "2022-04-29T21:16:48.438Z"
   },
   {
    "duration": 9,
    "start_time": "2022-04-29T21:16:48.467Z"
   },
   {
    "duration": 8,
    "start_time": "2022-04-29T21:16:49.696Z"
   },
   {
    "duration": 13,
    "start_time": "2022-04-29T21:16:49.886Z"
   },
   {
    "duration": 7,
    "start_time": "2022-04-29T21:16:50.053Z"
   },
   {
    "duration": 9,
    "start_time": "2022-04-29T21:16:50.826Z"
   },
   {
    "duration": 20,
    "start_time": "2022-04-29T21:16:51.557Z"
   },
   {
    "duration": 20,
    "start_time": "2022-04-29T21:16:52.329Z"
   },
   {
    "duration": 22,
    "start_time": "2022-04-29T21:16:52.686Z"
   },
   {
    "duration": 17,
    "start_time": "2022-04-29T21:16:52.837Z"
   },
   {
    "duration": 6,
    "start_time": "2022-04-29T21:16:53.002Z"
   },
   {
    "duration": 7,
    "start_time": "2022-04-29T21:16:53.315Z"
   },
   {
    "duration": 7,
    "start_time": "2022-04-29T21:16:53.653Z"
   },
   {
    "duration": 16,
    "start_time": "2022-04-29T21:16:53.821Z"
   },
   {
    "duration": 8,
    "start_time": "2022-04-29T21:16:54.407Z"
   },
   {
    "duration": 9,
    "start_time": "2022-04-29T21:16:54.595Z"
   },
   {
    "duration": 5,
    "start_time": "2022-04-29T21:16:55.562Z"
   },
   {
    "duration": 5,
    "start_time": "2022-04-29T21:16:58.070Z"
   },
   {
    "duration": 7,
    "start_time": "2022-04-29T21:16:58.386Z"
   },
   {
    "duration": 19,
    "start_time": "2022-04-29T21:16:58.555Z"
   },
   {
    "duration": 33,
    "start_time": "2022-04-29T21:16:58.745Z"
   },
   {
    "duration": 20,
    "start_time": "2022-04-29T21:17:10.016Z"
   },
   {
    "duration": 36,
    "start_time": "2022-04-29T21:17:21.291Z"
   },
   {
    "duration": 19,
    "start_time": "2022-04-29T21:17:22.128Z"
   },
   {
    "duration": 19,
    "start_time": "2022-04-29T21:18:03.257Z"
   },
   {
    "duration": 19,
    "start_time": "2022-04-29T21:18:12.436Z"
   },
   {
    "duration": 435,
    "start_time": "2022-04-29T21:18:24.182Z"
   },
   {
    "duration": 74,
    "start_time": "2022-04-29T21:18:24.743Z"
   },
   {
    "duration": 23,
    "start_time": "2022-04-29T21:18:24.818Z"
   },
   {
    "duration": 31,
    "start_time": "2022-04-29T21:18:24.847Z"
   },
   {
    "duration": 21,
    "start_time": "2022-04-29T21:18:24.886Z"
   },
   {
    "duration": 5,
    "start_time": "2022-04-29T21:18:24.918Z"
   },
   {
    "duration": 10,
    "start_time": "2022-04-29T21:18:24.948Z"
   },
   {
    "duration": 3,
    "start_time": "2022-04-29T21:18:25.033Z"
   },
   {
    "duration": 2,
    "start_time": "2022-04-29T21:18:25.070Z"
   },
   {
    "duration": 8,
    "start_time": "2022-04-29T21:18:25.120Z"
   },
   {
    "duration": 23,
    "start_time": "2022-04-29T21:18:25.192Z"
   },
   {
    "duration": 14,
    "start_time": "2022-04-29T21:18:25.225Z"
   },
   {
    "duration": 9,
    "start_time": "2022-04-29T21:18:25.310Z"
   },
   {
    "duration": 2,
    "start_time": "2022-04-29T21:18:25.468Z"
   },
   {
    "duration": 6,
    "start_time": "2022-04-29T21:18:25.503Z"
   },
   {
    "duration": 5,
    "start_time": "2022-04-29T21:18:25.540Z"
   },
   {
    "duration": 5,
    "start_time": "2022-04-29T21:18:25.572Z"
   },
   {
    "duration": 16,
    "start_time": "2022-04-29T21:18:25.705Z"
   },
   {
    "duration": 8,
    "start_time": "2022-04-29T21:18:25.736Z"
   },
   {
    "duration": 5,
    "start_time": "2022-04-29T21:18:25.800Z"
   },
   {
    "duration": 10,
    "start_time": "2022-04-29T21:18:25.933Z"
   },
   {
    "duration": 8,
    "start_time": "2022-04-29T21:18:25.966Z"
   },
   {
    "duration": 7,
    "start_time": "2022-04-29T21:18:26.143Z"
   },
   {
    "duration": 13,
    "start_time": "2022-04-29T21:18:26.172Z"
   },
   {
    "duration": 5,
    "start_time": "2022-04-29T21:18:26.209Z"
   },
   {
    "duration": 9,
    "start_time": "2022-04-29T21:18:26.305Z"
   },
   {
    "duration": 19,
    "start_time": "2022-04-29T21:18:26.436Z"
   },
   {
    "duration": 17,
    "start_time": "2022-04-29T21:18:26.537Z"
   },
   {
    "duration": 23,
    "start_time": "2022-04-29T21:18:26.600Z"
   },
   {
    "duration": 17,
    "start_time": "2022-04-29T21:18:26.636Z"
   },
   {
    "duration": 5,
    "start_time": "2022-04-29T21:18:26.673Z"
   },
   {
    "duration": 8,
    "start_time": "2022-04-29T21:18:26.734Z"
   },
   {
    "duration": 7,
    "start_time": "2022-04-29T21:18:26.808Z"
   },
   {
    "duration": 17,
    "start_time": "2022-04-29T21:18:26.838Z"
   },
   {
    "duration": 6,
    "start_time": "2022-04-29T21:18:26.942Z"
   },
   {
    "duration": 8,
    "start_time": "2022-04-29T21:18:26.972Z"
   },
   {
    "duration": 6,
    "start_time": "2022-04-29T21:18:27.071Z"
   },
   {
    "duration": 5,
    "start_time": "2022-04-29T21:18:27.135Z"
   },
   {
    "duration": 7,
    "start_time": "2022-04-29T21:18:27.203Z"
   },
   {
    "duration": 18,
    "start_time": "2022-04-29T21:18:27.242Z"
   },
   {
    "duration": 30,
    "start_time": "2022-04-29T21:18:27.273Z"
   },
   {
    "duration": 16,
    "start_time": "2022-04-29T21:18:27.309Z"
   },
   {
    "duration": 12,
    "start_time": "2022-04-29T21:18:27.507Z"
   },
   {
    "duration": 12,
    "start_time": "2022-04-29T21:18:27.537Z"
   },
   {
    "duration": 13,
    "start_time": "2022-04-29T21:18:27.568Z"
   },
   {
    "duration": 4,
    "start_time": "2022-04-29T21:18:27.705Z"
   },
   {
    "duration": 9,
    "start_time": "2022-04-29T21:18:27.741Z"
   },
   {
    "duration": 12,
    "start_time": "2022-04-29T21:18:27.771Z"
   },
   {
    "duration": 8,
    "start_time": "2022-04-29T21:18:27.871Z"
   },
   {
    "duration": 10,
    "start_time": "2022-04-29T21:18:30.919Z"
   },
   {
    "duration": 7,
    "start_time": "2022-04-29T21:18:31.920Z"
   },
   {
    "duration": 12,
    "start_time": "2022-04-29T21:18:36.387Z"
   },
   {
    "duration": 424,
    "start_time": "2022-04-29T21:18:57.898Z"
   },
   {
    "duration": 70,
    "start_time": "2022-04-29T21:18:58.818Z"
   },
   {
    "duration": 21,
    "start_time": "2022-04-29T21:18:59.505Z"
   },
   {
    "duration": 32,
    "start_time": "2022-04-29T21:18:59.542Z"
   },
   {
    "duration": 10,
    "start_time": "2022-04-29T21:18:59.578Z"
   },
   {
    "duration": 5,
    "start_time": "2022-04-29T21:18:59.617Z"
   },
   {
    "duration": 11,
    "start_time": "2022-04-29T21:18:59.640Z"
   },
   {
    "duration": 3,
    "start_time": "2022-04-29T21:18:59.745Z"
   },
   {
    "duration": 2,
    "start_time": "2022-04-29T21:18:59.775Z"
   },
   {
    "duration": 8,
    "start_time": "2022-04-29T21:18:59.806Z"
   },
   {
    "duration": 22,
    "start_time": "2022-04-29T21:18:59.872Z"
   },
   {
    "duration": 16,
    "start_time": "2022-04-29T21:18:59.902Z"
   },
   {
    "duration": 11,
    "start_time": "2022-04-29T21:19:00.004Z"
   },
   {
    "duration": 2,
    "start_time": "2022-04-29T21:19:01.269Z"
   },
   {
    "duration": 6,
    "start_time": "2022-04-29T21:19:01.300Z"
   },
   {
    "duration": 4,
    "start_time": "2022-04-29T21:19:01.331Z"
   },
   {
    "duration": 6,
    "start_time": "2022-04-29T21:19:01.360Z"
   },
   {
    "duration": 17,
    "start_time": "2022-04-29T21:19:01.493Z"
   },
   {
    "duration": 9,
    "start_time": "2022-04-29T21:19:01.533Z"
   },
   {
    "duration": 6,
    "start_time": "2022-04-29T21:19:01.594Z"
   },
   {
    "duration": 9,
    "start_time": "2022-04-29T21:19:02.965Z"
   },
   {
    "duration": 10,
    "start_time": "2022-04-29T21:19:02.998Z"
   },
   {
    "duration": 8,
    "start_time": "2022-04-29T21:19:03.165Z"
   },
   {
    "duration": 13,
    "start_time": "2022-04-29T21:19:03.207Z"
   },
   {
    "duration": 6,
    "start_time": "2022-04-29T21:19:04.998Z"
   },
   {
    "duration": 9,
    "start_time": "2022-04-29T21:19:05.474Z"
   },
   {
    "duration": 20,
    "start_time": "2022-04-29T21:19:06.087Z"
   },
   {
    "duration": 19,
    "start_time": "2022-04-29T21:19:08.034Z"
   },
   {
    "duration": 6,
    "start_time": "2022-04-29T21:19:40.213Z"
   },
   {
    "duration": 7,
    "start_time": "2022-04-29T21:19:41.198Z"
   },
   {
    "duration": 8,
    "start_time": "2022-04-29T21:19:41.871Z"
   },
   {
    "duration": 17,
    "start_time": "2022-04-29T21:19:43.997Z"
   },
   {
    "duration": 7,
    "start_time": "2022-04-29T21:19:45.277Z"
   },
   {
    "duration": 9,
    "start_time": "2022-04-29T21:19:47.248Z"
   },
   {
    "duration": 6,
    "start_time": "2022-04-29T21:19:50.095Z"
   },
   {
    "duration": 6,
    "start_time": "2022-04-29T21:19:52.054Z"
   },
   {
    "duration": 7,
    "start_time": "2022-04-29T21:19:53.972Z"
   },
   {
    "duration": 20,
    "start_time": "2022-04-29T21:19:54.939Z"
   },
   {
    "duration": 35,
    "start_time": "2022-04-29T21:19:57.025Z"
   },
   {
    "duration": 17,
    "start_time": "2022-04-29T21:19:58.632Z"
   },
   {
    "duration": 21,
    "start_time": "2022-04-29T21:20:27.533Z"
   },
   {
    "duration": 18,
    "start_time": "2022-04-29T21:20:28.157Z"
   },
   {
    "duration": 12,
    "start_time": "2022-04-29T21:21:53.843Z"
   },
   {
    "duration": 12,
    "start_time": "2022-04-29T21:21:54.367Z"
   },
   {
    "duration": 14,
    "start_time": "2022-04-29T21:21:55.080Z"
   },
   {
    "duration": 3,
    "start_time": "2022-04-29T21:21:58.326Z"
   },
   {
    "duration": 9,
    "start_time": "2022-04-29T21:22:00.194Z"
   },
   {
    "duration": 12,
    "start_time": "2022-04-29T21:22:00.536Z"
   },
   {
    "duration": 7,
    "start_time": "2022-04-29T21:22:04.278Z"
   },
   {
    "duration": 11,
    "start_time": "2022-04-29T21:22:06.792Z"
   },
   {
    "duration": 8,
    "start_time": "2022-04-29T21:22:07.061Z"
   },
   {
    "duration": 3,
    "start_time": "2022-04-29T21:23:25.965Z"
   },
   {
    "duration": 2,
    "start_time": "2022-04-29T21:23:26.337Z"
   },
   {
    "duration": 3,
    "start_time": "2022-04-29T21:23:27.017Z"
   },
   {
    "duration": 1201,
    "start_time": "2022-04-29T21:23:29.174Z"
   },
   {
    "duration": 2,
    "start_time": "2022-04-29T21:24:00.166Z"
   },
   {
    "duration": 85,
    "start_time": "2022-04-29T21:29:39.816Z"
   },
   {
    "duration": 10,
    "start_time": "2022-04-29T21:29:46.418Z"
   },
   {
    "duration": 26,
    "start_time": "2022-04-29T21:29:55.935Z"
   },
   {
    "duration": 27,
    "start_time": "2022-04-29T21:30:04.411Z"
   },
   {
    "duration": 176,
    "start_time": "2022-04-29T21:31:02.036Z"
   },
   {
    "duration": 28,
    "start_time": "2022-04-29T21:31:38.374Z"
   },
   {
    "duration": 26,
    "start_time": "2022-04-29T21:31:44.137Z"
   },
   {
    "duration": 31,
    "start_time": "2022-04-29T21:32:10.744Z"
   },
   {
    "duration": 27,
    "start_time": "2022-04-29T21:32:17.998Z"
   },
   {
    "duration": 25,
    "start_time": "2022-04-29T21:33:25.978Z"
   },
   {
    "duration": 30,
    "start_time": "2022-04-29T21:33:28.068Z"
   },
   {
    "duration": 25,
    "start_time": "2022-04-29T21:33:42.608Z"
   },
   {
    "duration": 6,
    "start_time": "2022-04-29T21:40:03.451Z"
   },
   {
    "duration": 8,
    "start_time": "2022-04-29T21:45:24.248Z"
   },
   {
    "duration": 9,
    "start_time": "2022-04-29T21:45:42.003Z"
   },
   {
    "duration": 13,
    "start_time": "2022-04-29T21:46:00.280Z"
   },
   {
    "duration": 469,
    "start_time": "2022-04-29T21:46:06.577Z"
   },
   {
    "duration": 76,
    "start_time": "2022-04-29T21:46:07.048Z"
   },
   {
    "duration": 23,
    "start_time": "2022-04-29T21:46:07.127Z"
   },
   {
    "duration": 54,
    "start_time": "2022-04-29T21:46:07.153Z"
   },
   {
    "duration": 13,
    "start_time": "2022-04-29T21:46:07.209Z"
   },
   {
    "duration": 5,
    "start_time": "2022-04-29T21:46:07.223Z"
   },
   {
    "duration": 12,
    "start_time": "2022-04-29T21:46:07.230Z"
   },
   {
    "duration": 3,
    "start_time": "2022-04-29T21:46:07.243Z"
   },
   {
    "duration": 5,
    "start_time": "2022-04-29T21:46:07.247Z"
   },
   {
    "duration": 10,
    "start_time": "2022-04-29T21:46:07.256Z"
   },
   {
    "duration": 59,
    "start_time": "2022-04-29T21:46:07.267Z"
   },
   {
    "duration": 16,
    "start_time": "2022-04-29T21:46:07.328Z"
   },
   {
    "duration": 11,
    "start_time": "2022-04-29T21:46:07.346Z"
   },
   {
    "duration": 2,
    "start_time": "2022-04-29T21:46:07.359Z"
   },
   {
    "duration": 7,
    "start_time": "2022-04-29T21:46:07.363Z"
   },
   {
    "duration": 35,
    "start_time": "2022-04-29T21:46:07.372Z"
   },
   {
    "duration": 7,
    "start_time": "2022-04-29T21:46:07.410Z"
   },
   {
    "duration": 21,
    "start_time": "2022-04-29T21:46:07.419Z"
   },
   {
    "duration": 9,
    "start_time": "2022-04-29T21:46:07.442Z"
   },
   {
    "duration": 5,
    "start_time": "2022-04-29T21:46:07.453Z"
   },
   {
    "duration": 46,
    "start_time": "2022-04-29T21:46:07.461Z"
   },
   {
    "duration": 11,
    "start_time": "2022-04-29T21:46:07.509Z"
   },
   {
    "duration": 7,
    "start_time": "2022-04-29T21:46:07.522Z"
   },
   {
    "duration": 18,
    "start_time": "2022-04-29T21:46:07.531Z"
   },
   {
    "duration": 6,
    "start_time": "2022-04-29T21:46:07.550Z"
   },
   {
    "duration": 10,
    "start_time": "2022-04-29T21:46:07.558Z"
   },
   {
    "duration": 56,
    "start_time": "2022-04-29T21:46:07.569Z"
   },
   {
    "duration": 5,
    "start_time": "2022-04-29T21:46:07.630Z"
   },
   {
    "duration": 8,
    "start_time": "2022-04-29T21:46:07.637Z"
   },
   {
    "duration": 8,
    "start_time": "2022-04-29T21:46:07.647Z"
   },
   {
    "duration": 60,
    "start_time": "2022-04-29T21:46:07.657Z"
   },
   {
    "duration": 8,
    "start_time": "2022-04-29T21:46:07.719Z"
   },
   {
    "duration": 12,
    "start_time": "2022-04-29T21:46:07.729Z"
   },
   {
    "duration": 9,
    "start_time": "2022-04-29T21:46:07.743Z"
   },
   {
    "duration": 9,
    "start_time": "2022-04-29T21:46:07.754Z"
   },
   {
    "duration": 10,
    "start_time": "2022-04-29T21:46:07.765Z"
   },
   {
    "duration": 51,
    "start_time": "2022-04-29T21:46:07.777Z"
   },
   {
    "duration": 26,
    "start_time": "2022-04-29T21:46:07.830Z"
   },
   {
    "duration": 20,
    "start_time": "2022-04-29T21:46:07.857Z"
   },
   {
    "duration": 14,
    "start_time": "2022-04-29T21:46:07.908Z"
   },
   {
    "duration": 13,
    "start_time": "2022-04-29T21:46:07.924Z"
   },
   {
    "duration": 16,
    "start_time": "2022-04-29T21:46:07.939Z"
   },
   {
    "duration": 4,
    "start_time": "2022-04-29T21:46:07.957Z"
   },
   {
    "duration": 49,
    "start_time": "2022-04-29T21:46:07.963Z"
   },
   {
    "duration": 15,
    "start_time": "2022-04-29T21:46:08.013Z"
   },
   {
    "duration": 10,
    "start_time": "2022-04-29T21:46:08.030Z"
   },
   {
    "duration": 11,
    "start_time": "2022-04-29T21:46:08.042Z"
   },
   {
    "duration": 10,
    "start_time": "2022-04-29T21:46:08.054Z"
   },
   {
    "duration": 5,
    "start_time": "2022-04-29T21:46:08.066Z"
   },
   {
    "duration": 5,
    "start_time": "2022-04-29T21:46:08.073Z"
   },
   {
    "duration": 27,
    "start_time": "2022-04-29T21:46:08.080Z"
   },
   {
    "duration": 3,
    "start_time": "2022-04-29T21:46:08.109Z"
   },
   {
    "duration": 30,
    "start_time": "2022-04-29T21:46:08.113Z"
   },
   {
    "duration": 84,
    "start_time": "2022-04-29T21:46:08.144Z"
   },
   {
    "duration": 0,
    "start_time": "2022-04-29T21:46:08.230Z"
   },
   {
    "duration": 0,
    "start_time": "2022-04-29T21:46:08.231Z"
   },
   {
    "duration": 0,
    "start_time": "2022-04-29T21:46:08.232Z"
   },
   {
    "duration": 0,
    "start_time": "2022-04-29T21:46:08.233Z"
   },
   {
    "duration": 0,
    "start_time": "2022-04-29T21:46:08.234Z"
   },
   {
    "duration": 0,
    "start_time": "2022-04-29T21:46:08.235Z"
   },
   {
    "duration": 0,
    "start_time": "2022-04-29T21:46:08.236Z"
   },
   {
    "duration": 0,
    "start_time": "2022-04-29T21:46:08.237Z"
   },
   {
    "duration": 0,
    "start_time": "2022-04-29T21:46:08.238Z"
   },
   {
    "duration": 19,
    "start_time": "2022-04-29T21:46:25.040Z"
   },
   {
    "duration": 7,
    "start_time": "2022-04-29T21:46:27.233Z"
   },
   {
    "duration": 8,
    "start_time": "2022-04-29T21:46:32.773Z"
   },
   {
    "duration": 11,
    "start_time": "2022-04-29T21:49:25.015Z"
   },
   {
    "duration": 8,
    "start_time": "2022-04-29T21:49:25.312Z"
   },
   {
    "duration": 6,
    "start_time": "2022-04-29T21:49:25.629Z"
   },
   {
    "duration": 376,
    "start_time": "2022-04-29T21:49:26.561Z"
   },
   {
    "duration": 23,
    "start_time": "2022-04-29T21:52:33.254Z"
   },
   {
    "duration": 21,
    "start_time": "2022-04-29T21:52:33.656Z"
   },
   {
    "duration": 24,
    "start_time": "2022-04-29T21:52:39.756Z"
   },
   {
    "duration": 10,
    "start_time": "2022-04-29T21:52:47.574Z"
   },
   {
    "duration": 23,
    "start_time": "2022-04-29T21:54:51.904Z"
   },
   {
    "duration": 9,
    "start_time": "2022-04-29T21:54:55.539Z"
   },
   {
    "duration": 446,
    "start_time": "2022-04-29T22:40:13.975Z"
   },
   {
    "duration": 76,
    "start_time": "2022-04-29T22:40:14.423Z"
   },
   {
    "duration": 27,
    "start_time": "2022-04-29T22:40:14.501Z"
   },
   {
    "duration": 33,
    "start_time": "2022-04-29T22:40:14.531Z"
   },
   {
    "duration": 10,
    "start_time": "2022-04-29T22:40:14.566Z"
   },
   {
    "duration": 32,
    "start_time": "2022-04-29T22:40:14.578Z"
   },
   {
    "duration": 10,
    "start_time": "2022-04-29T22:40:14.612Z"
   },
   {
    "duration": 15,
    "start_time": "2022-04-29T22:40:14.624Z"
   },
   {
    "duration": 14,
    "start_time": "2022-04-29T22:40:14.641Z"
   },
   {
    "duration": 22,
    "start_time": "2022-04-29T22:40:14.659Z"
   },
   {
    "duration": 22,
    "start_time": "2022-04-29T22:40:14.683Z"
   },
   {
    "duration": 16,
    "start_time": "2022-04-29T22:40:14.707Z"
   },
   {
    "duration": 32,
    "start_time": "2022-04-29T22:40:14.725Z"
   },
   {
    "duration": 10,
    "start_time": "2022-04-29T22:40:14.759Z"
   },
   {
    "duration": 29,
    "start_time": "2022-04-29T22:40:14.771Z"
   },
   {
    "duration": 11,
    "start_time": "2022-04-29T22:40:14.802Z"
   },
   {
    "duration": 15,
    "start_time": "2022-04-29T22:40:14.815Z"
   },
   {
    "duration": 39,
    "start_time": "2022-04-29T22:40:14.832Z"
   },
   {
    "duration": 8,
    "start_time": "2022-04-29T22:40:14.873Z"
   },
   {
    "duration": 11,
    "start_time": "2022-04-29T22:40:14.883Z"
   },
   {
    "duration": 16,
    "start_time": "2022-04-29T22:40:14.895Z"
   },
   {
    "duration": 16,
    "start_time": "2022-04-29T22:40:14.913Z"
   },
   {
    "duration": 9,
    "start_time": "2022-04-29T22:40:14.930Z"
   },
   {
    "duration": 28,
    "start_time": "2022-04-29T22:40:14.940Z"
   },
   {
    "duration": 13,
    "start_time": "2022-04-29T22:40:14.970Z"
   },
   {
    "duration": 32,
    "start_time": "2022-04-29T22:40:14.984Z"
   },
   {
    "duration": 37,
    "start_time": "2022-04-29T22:40:15.018Z"
   },
   {
    "duration": 5,
    "start_time": "2022-04-29T22:40:15.059Z"
   },
   {
    "duration": 16,
    "start_time": "2022-04-29T22:40:15.066Z"
   },
   {
    "duration": 19,
    "start_time": "2022-04-29T22:40:15.083Z"
   },
   {
    "duration": 39,
    "start_time": "2022-04-29T22:40:15.104Z"
   },
   {
    "duration": 18,
    "start_time": "2022-04-29T22:40:15.145Z"
   },
   {
    "duration": 30,
    "start_time": "2022-04-29T22:40:15.164Z"
   },
   {
    "duration": 13,
    "start_time": "2022-04-29T22:40:15.196Z"
   },
   {
    "duration": 19,
    "start_time": "2022-04-29T22:40:15.210Z"
   },
   {
    "duration": 26,
    "start_time": "2022-04-29T22:40:15.231Z"
   },
   {
    "duration": 30,
    "start_time": "2022-04-29T22:40:15.259Z"
   },
   {
    "duration": 23,
    "start_time": "2022-04-29T22:40:15.291Z"
   },
   {
    "duration": 19,
    "start_time": "2022-04-29T22:40:15.316Z"
   },
   {
    "duration": 12,
    "start_time": "2022-04-29T22:40:15.337Z"
   },
   {
    "duration": 28,
    "start_time": "2022-04-29T22:40:15.350Z"
   },
   {
    "duration": 21,
    "start_time": "2022-04-29T22:40:15.380Z"
   },
   {
    "duration": 19,
    "start_time": "2022-04-29T22:40:15.408Z"
   },
   {
    "duration": 21,
    "start_time": "2022-04-29T22:40:15.429Z"
   },
   {
    "duration": 21,
    "start_time": "2022-04-29T22:40:15.452Z"
   },
   {
    "duration": 27,
    "start_time": "2022-04-29T22:40:15.474Z"
   },
   {
    "duration": 18,
    "start_time": "2022-04-29T22:40:15.503Z"
   },
   {
    "duration": 21,
    "start_time": "2022-04-29T22:40:15.522Z"
   },
   {
    "duration": 18,
    "start_time": "2022-04-29T22:40:15.545Z"
   },
   {
    "duration": 28,
    "start_time": "2022-04-29T22:40:15.564Z"
   },
   {
    "duration": 24,
    "start_time": "2022-04-29T22:40:15.594Z"
   },
   {
    "duration": 22,
    "start_time": "2022-04-29T22:40:15.620Z"
   },
   {
    "duration": 50,
    "start_time": "2022-04-29T22:40:15.644Z"
   },
   {
    "duration": 19,
    "start_time": "2022-04-29T22:40:15.696Z"
   },
   {
    "duration": 11,
    "start_time": "2022-04-29T22:40:15.716Z"
   },
   {
    "duration": 15,
    "start_time": "2022-04-29T22:40:15.728Z"
   },
   {
    "duration": 34,
    "start_time": "2022-04-29T22:40:15.745Z"
   },
   {
    "duration": 9,
    "start_time": "2022-04-29T22:40:15.781Z"
   },
   {
    "duration": 34,
    "start_time": "2022-04-29T22:40:15.791Z"
   },
   {
    "duration": 8,
    "start_time": "2022-04-29T22:40:15.827Z"
   },
   {
    "duration": 387,
    "start_time": "2022-04-30T09:19:19.568Z"
   },
   {
    "duration": 68,
    "start_time": "2022-04-30T09:19:19.957Z"
   },
   {
    "duration": 28,
    "start_time": "2022-04-30T09:19:20.027Z"
   },
   {
    "duration": 30,
    "start_time": "2022-04-30T09:19:20.058Z"
   },
   {
    "duration": 9,
    "start_time": "2022-04-30T09:19:20.090Z"
   },
   {
    "duration": 6,
    "start_time": "2022-04-30T09:19:20.101Z"
   },
   {
    "duration": 11,
    "start_time": "2022-04-30T09:19:20.108Z"
   },
   {
    "duration": 4,
    "start_time": "2022-04-30T09:19:20.121Z"
   },
   {
    "duration": 24,
    "start_time": "2022-04-30T09:19:20.127Z"
   },
   {
    "duration": 8,
    "start_time": "2022-04-30T09:19:20.156Z"
   },
   {
    "duration": 19,
    "start_time": "2022-04-30T09:19:20.166Z"
   },
   {
    "duration": 14,
    "start_time": "2022-04-30T09:19:20.187Z"
   },
   {
    "duration": 14,
    "start_time": "2022-04-30T09:19:20.202Z"
   },
   {
    "duration": 3,
    "start_time": "2022-04-30T09:19:20.217Z"
   },
   {
    "duration": 34,
    "start_time": "2022-04-30T09:19:20.221Z"
   },
   {
    "duration": 5,
    "start_time": "2022-04-30T09:19:20.257Z"
   },
   {
    "duration": 7,
    "start_time": "2022-04-30T09:19:20.263Z"
   },
   {
    "duration": 16,
    "start_time": "2022-04-30T09:19:20.272Z"
   },
   {
    "duration": 7,
    "start_time": "2022-04-30T09:19:20.290Z"
   },
   {
    "duration": 6,
    "start_time": "2022-04-30T09:19:20.298Z"
   },
   {
    "duration": 11,
    "start_time": "2022-04-30T09:19:20.306Z"
   },
   {
    "duration": 37,
    "start_time": "2022-04-30T09:19:20.318Z"
   },
   {
    "duration": 6,
    "start_time": "2022-04-30T09:19:20.357Z"
   },
   {
    "duration": 13,
    "start_time": "2022-04-30T09:19:20.365Z"
   },
   {
    "duration": 5,
    "start_time": "2022-04-30T09:19:20.380Z"
   },
   {
    "duration": 9,
    "start_time": "2022-04-30T09:19:20.386Z"
   },
   {
    "duration": 18,
    "start_time": "2022-04-30T09:19:20.396Z"
   },
   {
    "duration": 5,
    "start_time": "2022-04-30T09:19:20.417Z"
   },
   {
    "duration": 37,
    "start_time": "2022-04-30T09:19:20.423Z"
   },
   {
    "duration": 7,
    "start_time": "2022-04-30T09:19:20.462Z"
   },
   {
    "duration": 16,
    "start_time": "2022-04-30T09:19:20.471Z"
   },
   {
    "duration": 6,
    "start_time": "2022-04-30T09:19:20.489Z"
   },
   {
    "duration": 8,
    "start_time": "2022-04-30T09:19:20.496Z"
   },
   {
    "duration": 5,
    "start_time": "2022-04-30T09:19:20.506Z"
   },
   {
    "duration": 7,
    "start_time": "2022-04-30T09:19:20.512Z"
   },
   {
    "duration": 8,
    "start_time": "2022-04-30T09:19:20.554Z"
   },
   {
    "duration": 19,
    "start_time": "2022-04-30T09:19:20.563Z"
   },
   {
    "duration": 20,
    "start_time": "2022-04-30T09:19:20.583Z"
   },
   {
    "duration": 16,
    "start_time": "2022-04-30T09:19:20.605Z"
   },
   {
    "duration": 39,
    "start_time": "2022-04-30T09:19:20.623Z"
   },
   {
    "duration": 12,
    "start_time": "2022-04-30T09:19:20.664Z"
   },
   {
    "duration": 14,
    "start_time": "2022-04-30T09:19:20.678Z"
   },
   {
    "duration": 17,
    "start_time": "2022-04-30T09:19:20.693Z"
   },
   {
    "duration": 11,
    "start_time": "2022-04-30T09:19:20.712Z"
   },
   {
    "duration": 12,
    "start_time": "2022-04-30T09:19:20.724Z"
   },
   {
    "duration": 9,
    "start_time": "2022-04-30T09:19:20.755Z"
   },
   {
    "duration": 11,
    "start_time": "2022-04-30T09:19:20.766Z"
   },
   {
    "duration": 11,
    "start_time": "2022-04-30T09:19:20.779Z"
   },
   {
    "duration": 23,
    "start_time": "2022-04-30T09:19:20.791Z"
   },
   {
    "duration": 10,
    "start_time": "2022-04-30T09:19:20.815Z"
   },
   {
    "duration": 6,
    "start_time": "2022-04-30T09:19:20.827Z"
   },
   {
    "duration": 6,
    "start_time": "2022-04-30T09:19:20.834Z"
   },
   {
    "duration": 35,
    "start_time": "2022-04-30T09:19:20.841Z"
   },
   {
    "duration": 18,
    "start_time": "2022-04-30T09:19:20.878Z"
   },
   {
    "duration": 11,
    "start_time": "2022-04-30T09:19:20.898Z"
   },
   {
    "duration": 33,
    "start_time": "2022-04-30T09:19:20.910Z"
   },
   {
    "duration": 33,
    "start_time": "2022-04-30T09:19:20.944Z"
   },
   {
    "duration": 9,
    "start_time": "2022-04-30T09:19:20.979Z"
   },
   {
    "duration": 25,
    "start_time": "2022-04-30T09:19:20.990Z"
   },
   {
    "duration": 8,
    "start_time": "2022-04-30T09:19:21.017Z"
   },
   {
    "duration": 428,
    "start_time": "2022-04-30T09:25:24.126Z"
   },
   {
    "duration": 68,
    "start_time": "2022-04-30T09:25:24.556Z"
   },
   {
    "duration": 20,
    "start_time": "2022-04-30T09:25:24.626Z"
   },
   {
    "duration": 29,
    "start_time": "2022-04-30T09:25:24.655Z"
   },
   {
    "duration": 9,
    "start_time": "2022-04-30T09:25:24.686Z"
   },
   {
    "duration": 28,
    "start_time": "2022-04-30T09:25:24.696Z"
   },
   {
    "duration": 47,
    "start_time": "2022-04-30T09:25:24.726Z"
   },
   {
    "duration": 16,
    "start_time": "2022-04-30T09:25:24.774Z"
   },
   {
    "duration": 27,
    "start_time": "2022-04-30T09:25:24.792Z"
   },
   {
    "duration": 28,
    "start_time": "2022-04-30T09:25:24.823Z"
   },
   {
    "duration": 55,
    "start_time": "2022-04-30T09:25:24.852Z"
   },
   {
    "duration": 44,
    "start_time": "2022-04-30T09:25:24.908Z"
   },
   {
    "duration": 61,
    "start_time": "2022-04-30T09:25:24.954Z"
   },
   {
    "duration": 34,
    "start_time": "2022-04-30T09:25:25.016Z"
   },
   {
    "duration": 13,
    "start_time": "2022-04-30T09:25:25.051Z"
   },
   {
    "duration": 7,
    "start_time": "2022-04-30T09:25:25.065Z"
   },
   {
    "duration": 6,
    "start_time": "2022-04-30T09:25:25.074Z"
   },
   {
    "duration": 22,
    "start_time": "2022-04-30T09:25:25.081Z"
   },
   {
    "duration": 9,
    "start_time": "2022-04-30T09:25:25.104Z"
   },
   {
    "duration": 5,
    "start_time": "2022-04-30T09:25:25.115Z"
   },
   {
    "duration": 10,
    "start_time": "2022-04-30T09:25:25.122Z"
   },
   {
    "duration": 9,
    "start_time": "2022-04-30T09:25:25.154Z"
   },
   {
    "duration": 9,
    "start_time": "2022-04-30T09:25:25.165Z"
   },
   {
    "duration": 13,
    "start_time": "2022-04-30T09:25:25.176Z"
   },
   {
    "duration": 6,
    "start_time": "2022-04-30T09:25:25.191Z"
   },
   {
    "duration": 11,
    "start_time": "2022-04-30T09:25:25.198Z"
   },
   {
    "duration": 50,
    "start_time": "2022-04-30T09:25:25.211Z"
   },
   {
    "duration": 5,
    "start_time": "2022-04-30T09:25:25.266Z"
   },
   {
    "duration": 8,
    "start_time": "2022-04-30T09:25:25.273Z"
   },
   {
    "duration": 8,
    "start_time": "2022-04-30T09:25:25.283Z"
   },
   {
    "duration": 18,
    "start_time": "2022-04-30T09:25:25.292Z"
   },
   {
    "duration": 8,
    "start_time": "2022-04-30T09:25:25.312Z"
   },
   {
    "duration": 38,
    "start_time": "2022-04-30T09:25:25.321Z"
   },
   {
    "duration": 6,
    "start_time": "2022-04-30T09:25:25.361Z"
   },
   {
    "duration": 12,
    "start_time": "2022-04-30T09:25:25.369Z"
   },
   {
    "duration": 8,
    "start_time": "2022-04-30T09:25:25.383Z"
   },
   {
    "duration": 20,
    "start_time": "2022-04-30T09:25:25.393Z"
   },
   {
    "duration": 56,
    "start_time": "2022-04-30T09:25:25.415Z"
   },
   {
    "duration": 18,
    "start_time": "2022-04-30T09:25:25.473Z"
   },
   {
    "duration": 11,
    "start_time": "2022-04-30T09:25:25.492Z"
   },
   {
    "duration": 11,
    "start_time": "2022-04-30T09:25:25.505Z"
   },
   {
    "duration": 44,
    "start_time": "2022-04-30T09:25:25.518Z"
   },
   {
    "duration": 4,
    "start_time": "2022-04-30T09:25:25.564Z"
   },
   {
    "duration": 10,
    "start_time": "2022-04-30T09:25:25.569Z"
   },
   {
    "duration": 10,
    "start_time": "2022-04-30T09:25:25.581Z"
   },
   {
    "duration": 9,
    "start_time": "2022-04-30T09:25:25.592Z"
   },
   {
    "duration": 9,
    "start_time": "2022-04-30T09:25:25.603Z"
   },
   {
    "duration": 8,
    "start_time": "2022-04-30T09:25:25.614Z"
   },
   {
    "duration": 12,
    "start_time": "2022-04-30T09:25:25.623Z"
   },
   {
    "duration": 6,
    "start_time": "2022-04-30T09:25:25.636Z"
   },
   {
    "duration": 11,
    "start_time": "2022-04-30T09:25:25.643Z"
   },
   {
    "duration": 9,
    "start_time": "2022-04-30T09:25:25.655Z"
   },
   {
    "duration": 38,
    "start_time": "2022-04-30T09:25:25.666Z"
   },
   {
    "duration": 16,
    "start_time": "2022-04-30T09:25:25.706Z"
   },
   {
    "duration": 7,
    "start_time": "2022-04-30T09:25:25.724Z"
   },
   {
    "duration": 10,
    "start_time": "2022-04-30T09:25:25.733Z"
   },
   {
    "duration": 22,
    "start_time": "2022-04-30T09:25:25.745Z"
   },
   {
    "duration": 7,
    "start_time": "2022-04-30T09:25:25.769Z"
   },
   {
    "duration": 26,
    "start_time": "2022-04-30T09:25:25.778Z"
   },
   {
    "duration": 8,
    "start_time": "2022-04-30T09:25:25.806Z"
   }
  ],
  "kernelspec": {
   "display_name": "Python 3 (ipykernel)",
   "language": "python",
   "name": "python3"
  },
  "language_info": {
   "codemirror_mode": {
    "name": "ipython",
    "version": 3
   },
   "file_extension": ".py",
   "mimetype": "text/x-python",
   "name": "python",
   "nbconvert_exporter": "python",
   "pygments_lexer": "ipython3",
   "version": "3.9.7"
  },
  "toc": {
   "base_numbering": 1,
   "nav_menu": {},
   "number_sections": true,
   "sideBar": true,
   "skip_h1_title": true,
   "title_cell": "Table of Contents",
   "title_sidebar": "Contents",
   "toc_cell": false,
   "toc_position": {},
   "toc_section_display": true,
   "toc_window_display": false
  }
 },
 "nbformat": 4,
 "nbformat_minor": 5
}
